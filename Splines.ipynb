{
  "nbformat": 4,
  "nbformat_minor": 0,
  "metadata": {
    "colab": {
      "name": "Splines.ipynb",
      "provenance": [],
      "collapsed_sections": [],
      "toc_visible": true,
      "authorship_tag": "ABX9TyOtabfMQqyVJis5DXT5JZ3K",
      "include_colab_link": true
    },
    "kernelspec": {
      "name": "python3",
      "display_name": "Python 3"
    },
    "language_info": {
      "name": "python"
    }
  },
  "cells": [
    {
      "cell_type": "markdown",
      "metadata": {
        "id": "view-in-github",
        "colab_type": "text"
      },
      "source": [
        "<a href=\"https://colab.research.google.com/github/swilsonmfc/linear/blob/main/Splines.ipynb\" target=\"_parent\"><img src=\"https://colab.research.google.com/assets/colab-badge.svg\" alt=\"Open In Colab\"/></a>"
      ]
    },
    {
      "cell_type": "markdown",
      "metadata": {
        "id": "6aFzNoS2qFtT"
      },
      "source": [
        "# Splines\n",
        "\n",
        "![](https://sc04.alicdn.com/kf/HTB1v6orba61gK0jSZFlq6xDKFXaA.jpg)"
      ]
    },
    {
      "cell_type": "markdown",
      "metadata": {
        "id": "JIKNr9y5RytE"
      },
      "source": [
        "# Install"
      ]
    },
    {
      "cell_type": "code",
      "metadata": {
        "colab": {
          "base_uri": "https://localhost:8080/"
        },
        "id": "5Dv_0g9fR0Su",
        "outputId": "3aa67e58-44e1-4886-ed1e-9f7c9d1c18a7"
      },
      "source": [
        "!pip install pwlf"
      ],
      "execution_count": 1,
      "outputs": [
        {
          "output_type": "stream",
          "text": [
            "Requirement already satisfied: pwlf in /usr/local/lib/python3.7/dist-packages (2.0.4)\n",
            "Requirement already satisfied: scipy>=1.2.0 in /usr/local/lib/python3.7/dist-packages (from pwlf) (1.4.1)\n",
            "Requirement already satisfied: numpy>=1.14.0 in /usr/local/lib/python3.7/dist-packages (from pwlf) (1.19.5)\n",
            "Requirement already satisfied: pyDOE>=0.3.8 in /usr/local/lib/python3.7/dist-packages (from pwlf) (0.3.8)\n"
          ],
          "name": "stdout"
        }
      ]
    },
    {
      "cell_type": "markdown",
      "metadata": {
        "id": "E93RkEqyqI2M"
      },
      "source": [
        "# Setup"
      ]
    },
    {
      "cell_type": "code",
      "metadata": {
        "colab": {
          "base_uri": "https://localhost:8080/"
        },
        "id": "iAA08ExLqLFR",
        "outputId": "613001be-2f5c-41b5-fa1c-854069542f74"
      },
      "source": [
        "import pandas as pd\n",
        "import numpy as np\n",
        "import matplotlib.pyplot as plt\n",
        "\n",
        "from sklearn.linear_model import LinearRegression\n",
        "\n",
        "from sklearn.datasets import make_regression\n",
        "from sklearn.metrics  import mean_squared_error\n",
        "\n",
        "from patsy import dmatrix\n",
        "import statsmodels.api as sm\n",
        "import statsmodels.formula.api as smf\n",
        "\n",
        "import pwlf\n",
        "\n",
        "from scipy import optimize"
      ],
      "execution_count": 2,
      "outputs": [
        {
          "output_type": "stream",
          "text": [
            "/usr/local/lib/python3.7/dist-packages/statsmodels/tools/_testing.py:19: FutureWarning: pandas.util.testing is deprecated. Use the functions in the public API at pandas.testing instead.\n",
            "  import pandas.util.testing as tm\n"
          ],
          "name": "stderr"
        }
      ]
    },
    {
      "cell_type": "markdown",
      "metadata": {
        "id": "9iOZxYkcqNXX"
      },
      "source": [
        "# Data"
      ]
    },
    {
      "cell_type": "code",
      "metadata": {
        "colab": {
          "base_uri": "https://localhost:8080/",
          "height": 282
        },
        "id": "NB7OyrYCqohu",
        "outputId": "a0a51327-c5c7-4653-c8a2-d5f0970b0cb7"
      },
      "source": [
        "x1, y1 = make_regression(n_features=1, noise=10, random_state=10)\n",
        "x2, y2 = make_regression(n_features=1, noise=10, random_state=60)\n",
        "x2 = x2 + 4\n",
        "y2 = (y2 + 50) * -1\n",
        "\n",
        "X = pd.DataFrame(np.vstack([x1, x2]))\n",
        "y = np.concatenate([y1, y2])\n",
        "\n",
        "plt.scatter(x1, y1, color='blue')\n",
        "plt.scatter(x2, y2, color='orange')"
      ],
      "execution_count": 3,
      "outputs": [
        {
          "output_type": "execute_result",
          "data": {
            "text/plain": [
              "<matplotlib.collections.PathCollection at 0x7ff3c764cd50>"
            ]
          },
          "metadata": {
            "tags": []
          },
          "execution_count": 3
        },
        {
          "output_type": "display_data",
          "data": {
            "image/png": "[encoded data removed]",
            "text/plain": [
              "<Figure size 432x288 with 1 Axes>"
            ]
          },
          "metadata": {
            "tags": [],
            "needs_background": "light"
          }
        }
      ]
    },
    {
      "cell_type": "markdown",
      "metadata": {
        "id": "RvTt9AL7v13b"
      },
      "source": [
        "# Ranged Regression\n",
        "* Create a dummy variable for each range\n",
        "* pd.cut will generate bins, but they can be specified\n",
        "* Downside may not fit well (slopes)"
      ]
    },
    {
      "cell_type": "code",
      "metadata": {
        "colab": {
          "base_uri": "https://localhost:8080/",
          "height": 402
        },
        "id": "3XGW4cW2wEBO",
        "outputId": "ad981e22-c1a5-4479-959f-4ffd851f8776"
      },
      "source": [
        "BINS = 4\n",
        "cut, bins = pd.cut(X[0], BINS, retbins=True)\n",
        "X_cut = pd.get_dummies(cut)\n",
        "X_train = pd.concat([X, X_cut], ignore_index=True, axis=1)\n",
        "X_train.columns = ['X'] + list(X_cut.columns)\n",
        "X_train"
      ],
      "execution_count": 4,
      "outputs": [
        {
          "output_type": "execute_result",
          "data": {
            "text/html": [
              "<div>\n",
              "<style scoped>\n",
              "    .dataframe tbody tr th:only-of-type {\n",
              "        vertical-align: middle;\n",
              "    }\n",
              "\n",
              "    .dataframe tbody tr th {\n",
              "        vertical-align: top;\n",
              "    }\n",
              "\n",
              "    .dataframe thead th {\n",
              "        text-align: right;\n",
              "    }\n",
              "</style>\n",
              "<table border=\"1\" class=\"dataframe\">\n",
              "  <thead>\n",
              "    <tr style=\"text-align: right;\">\n",
              "      <th></th>\n",
              "      <th>X</th>\n",
              "      <th>(-2.14, 0.024]</th>\n",
              "      <th>(0.024, 2.18]</th>\n",
              "      <th>(2.18, 4.335]</th>\n",
              "      <th>(4.335, 6.491]</th>\n",
              "    </tr>\n",
              "  </thead>\n",
              "  <tbody>\n",
              "    <tr>\n",
              "      <th>0</th>\n",
              "      <td>-1.136602</td>\n",
              "      <td>1</td>\n",
              "      <td>0</td>\n",
              "      <td>0</td>\n",
              "      <td>0</td>\n",
              "    </tr>\n",
              "    <tr>\n",
              "      <th>1</th>\n",
              "      <td>-1.418556</td>\n",
              "      <td>1</td>\n",
              "      <td>0</td>\n",
              "      <td>0</td>\n",
              "      <td>0</td>\n",
              "    </tr>\n",
              "    <tr>\n",
              "      <th>2</th>\n",
              "      <td>1.744814</td>\n",
              "      <td>0</td>\n",
              "      <td>1</td>\n",
              "      <td>0</td>\n",
              "      <td>0</td>\n",
              "    </tr>\n",
              "    <tr>\n",
              "      <th>3</th>\n",
              "      <td>-0.232182</td>\n",
              "      <td>1</td>\n",
              "      <td>0</td>\n",
              "      <td>0</td>\n",
              "      <td>0</td>\n",
              "    </tr>\n",
              "    <tr>\n",
              "      <th>4</th>\n",
              "      <td>-0.489337</td>\n",
              "      <td>1</td>\n",
              "      <td>0</td>\n",
              "      <td>0</td>\n",
              "      <td>0</td>\n",
              "    </tr>\n",
              "    <tr>\n",
              "      <th>...</th>\n",
              "      <td>...</td>\n",
              "      <td>...</td>\n",
              "      <td>...</td>\n",
              "      <td>...</td>\n",
              "      <td>...</td>\n",
              "    </tr>\n",
              "    <tr>\n",
              "      <th>195</th>\n",
              "      <td>3.892859</td>\n",
              "      <td>0</td>\n",
              "      <td>0</td>\n",
              "      <td>1</td>\n",
              "      <td>0</td>\n",
              "    </tr>\n",
              "    <tr>\n",
              "      <th>196</th>\n",
              "      <td>2.338194</td>\n",
              "      <td>0</td>\n",
              "      <td>0</td>\n",
              "      <td>1</td>\n",
              "      <td>0</td>\n",
              "    </tr>\n",
              "    <tr>\n",
              "      <th>197</th>\n",
              "      <td>5.396275</td>\n",
              "      <td>0</td>\n",
              "      <td>0</td>\n",
              "      <td>0</td>\n",
              "      <td>1</td>\n",
              "    </tr>\n",
              "    <tr>\n",
              "      <th>198</th>\n",
              "      <td>4.981274</td>\n",
              "      <td>0</td>\n",
              "      <td>0</td>\n",
              "      <td>0</td>\n",
              "      <td>1</td>\n",
              "    </tr>\n",
              "    <tr>\n",
              "      <th>199</th>\n",
              "      <td>3.971339</td>\n",
              "      <td>0</td>\n",
              "      <td>0</td>\n",
              "      <td>1</td>\n",
              "      <td>0</td>\n",
              "    </tr>\n",
              "  </tbody>\n",
              "</table>\n",
              "<p>200 rows × 5 columns</p>\n",
              "</div>"
            ],
            "text/plain": [
              "            X  (-2.14, 0.024]  (0.024, 2.18]  (2.18, 4.335]  (4.335, 6.491]\n",
              "0   -1.136602               1              0              0               0\n",
              "1   -1.418556               1              0              0               0\n",
              "2    1.744814               0              1              0               0\n",
              "3   -0.232182               1              0              0               0\n",
              "4   -0.489337               1              0              0               0\n",
              "..        ...             ...            ...            ...             ...\n",
              "195  3.892859               0              0              1               0\n",
              "196  2.338194               0              0              1               0\n",
              "197  5.396275               0              0              0               1\n",
              "198  4.981274               0              0              0               1\n",
              "199  3.971339               0              0              1               0\n",
              "\n",
              "[200 rows x 5 columns]"
            ]
          },
          "metadata": {
            "tags": []
          },
          "execution_count": 4
        }
      ]
    },
    {
      "cell_type": "code",
      "metadata": {
        "colab": {
          "base_uri": "https://localhost:8080/"
        },
        "id": "epgmJeLn8_Vu",
        "outputId": "7f424035-6e94-4511-daf7-ea80bb952bcc"
      },
      "source": [
        "fit = sm.GLM(y, X_train).fit()\n",
        "print(fit.summary())"
      ],
      "execution_count": 5,
      "outputs": [
        {
          "output_type": "stream",
          "text": [
            "                 Generalized Linear Model Regression Results                  \n",
            "==============================================================================\n",
            "Dep. Variable:                      y   No. Observations:                  200\n",
            "Model:                            GLM   Df Residuals:                      195\n",
            "Model Family:                Gaussian   Df Model:                            4\n",
            "Link Function:               identity   Scale:                          887.61\n",
            "Method:                          IRLS   Log-Likelihood:                -960.11\n",
            "Date:                Tue, 20 Jul 2021   Deviance:                   1.7308e+05\n",
            "Time:                        19:51:01   Pearson chi2:                 1.73e+05\n",
            "No. Iterations:                     3                                         \n",
            "Covariance Type:            nonrobust                                         \n",
            "==================================================================================\n",
            "                     coef    std err          z      P>|z|      [0.025      0.975]\n",
            "----------------------------------------------------------------------------------\n",
            "X                 -9.4663      3.669     -2.580      0.010     -16.658      -2.275\n",
            "(-2.14, 0.024]   -26.3934      4.936     -5.347      0.000     -36.068     -16.719\n",
            "(0.024, 2.18]     35.3229      5.062      6.978      0.000      25.401      45.244\n",
            "(2.18, 4.335]     15.5941     13.291      1.173      0.241     -10.456      41.644\n",
            "(4.335, 6.491]   -60.5299     19.181     -3.156      0.002     -98.125     -22.935\n",
            "==================================================================================\n"
          ],
          "name": "stdout"
        }
      ]
    },
    {
      "cell_type": "code",
      "metadata": {
        "colab": {
          "base_uri": "https://localhost:8080/",
          "height": 282
        },
        "id": "PPUU8-sW-PSa",
        "outputId": "aade1280-462c-4f85-aab0-ac278dc13ea7"
      },
      "source": [
        "plt.scatter(X_train.X, y, color='blue')\n",
        "pred = fit.predict(X_train)\n",
        "plt.scatter(X_train.X, pred, color='orange')\n",
        "print(f'RMSE = {mean_squared_error(pred, y) ** 0.5:.2f}')"
      ],
      "execution_count": 6,
      "outputs": [
        {
          "output_type": "stream",
          "text": [
            "RMSE = 29.42\n"
          ],
          "name": "stdout"
        },
        {
          "output_type": "display_data",
          "data": {
            "image/png": "[encoded data removed]",
            "text/plain": [
              "<Figure size 432x288 with 1 Axes>"
            ]
          },
          "metadata": {
            "tags": [],
            "needs_background": "light"
          }
        }
      ]
    },
    {
      "cell_type": "markdown",
      "metadata": {
        "id": "WPwIq8eXC2Tq"
      },
      "source": [
        "# Split Regression\n",
        "* Break the space into multiple regression problems\n",
        "* Have to determine the thresholds / cutoffs\n",
        "* Each regression can have different properties\n",
        "* Thresholds could have undesirable properties (not continuous)"
      ]
    },
    {
      "cell_type": "code",
      "metadata": {
        "id": "ePg8tJGQC3V4"
      },
      "source": [
        "THRESHOLD = 3\n",
        "data_df = pd.concat([X, pd.DataFrame(y)], ignore_index=True, axis=1)\n",
        "data_df.columns = ['X', 'y']"
      ],
      "execution_count": 7,
      "outputs": []
    },
    {
      "cell_type": "code",
      "metadata": {
        "id": "6ZX2_qn6DyA2"
      },
      "source": [
        "X_train1 = data_df[data_df.X < THRESHOLD]\n",
        "X_train2 = data_df[data_df.X >= THRESHOLD]\n",
        "y_train1 = X_train1.pop('y')\n",
        "y_train2 = X_train2.pop('y')"
      ],
      "execution_count": 8,
      "outputs": []
    },
    {
      "cell_type": "code",
      "metadata": {
        "colab": {
          "base_uri": "https://localhost:8080/"
        },
        "id": "1c_4leVtEGEn",
        "outputId": "da056fcd-18ac-4f45-d957-28dc1f68537e"
      },
      "source": [
        "lm1 = LinearRegression()\n",
        "lm1.fit(X_train1, y_train1)\n",
        "lm2 = LinearRegression()\n",
        "lm2.fit(X_train2, y_train2)"
      ],
      "execution_count": 9,
      "outputs": [
        {
          "output_type": "execute_result",
          "data": {
            "text/plain": [
              "LinearRegression(copy_X=True, fit_intercept=True, n_jobs=None, normalize=False)"
            ]
          },
          "metadata": {
            "tags": []
          },
          "execution_count": 9
        }
      ]
    },
    {
      "cell_type": "code",
      "metadata": {
        "colab": {
          "base_uri": "https://localhost:8080/",
          "height": 282
        },
        "id": "Bz8S1JEoFIfD",
        "outputId": "d37d0316-2f46-4bee-fe32-e4a14dd8e4a8"
      },
      "source": [
        "plt.scatter(X_train1, y_train1, color='blue')\n",
        "plt.scatter(X_train2, y_train2, color='blue')\n",
        "\n",
        "xplot = np.linspace(X_train1.X.min(), THRESHOLD, 50)\n",
        "yplot = lm1.predict(pd.DataFrame(xplot))\n",
        "plt.scatter(xplot, yplot, color='orange')\n",
        "\n",
        "xplot = np.linspace(THRESHOLD, X_train2.X.max(), 50)\n",
        "yplot = lm2.predict(pd.DataFrame(xplot))\n",
        "plt.scatter(xplot, yplot, color='orange')\n",
        "\n",
        "pred   = np.concatenate([lm1.predict(X_train1), lm2.predict(X_train2)])\n",
        "y_true = np.concatenate([y_train1, y_train2])\n",
        "print(f'RMSE = {mean_squared_error(pred, y_true) ** 0.5:.2f}')"
      ],
      "execution_count": 10,
      "outputs": [
        {
          "output_type": "stream",
          "text": [
            "RMSE = 16.02\n"
          ],
          "name": "stdout"
        },
        {
          "output_type": "display_data",
          "data": {
            "image/png": "[encoded data removed]",
            "text/plain": [
              "<Figure size 432x288 with 1 Axes>"
            ]
          },
          "metadata": {
            "tags": [],
            "needs_background": "light"
          }
        }
      ]
    },
    {
      "cell_type": "markdown",
      "metadata": {
        "id": "HWRRkB3iv5rv"
      },
      "source": [
        "# B-Splines\n",
        "* Use splines that have constraints (forces smoothness)\n",
        "  * Polynomials must be continuous at the knot\n",
        "  * Polynomials first and second derivative must be same at the knot\n",
        "* Statsmodels bs implements b-splines\n",
        "  * degree = 0 : piece-wise constant\n",
        "  * degree = 1 : piece-wise linear\n",
        "  * degree = 3 : cubic splines\n",
        "* Specify (one)\n",
        "  * knots & degree : knot locations & polynomial degree\n",
        "  * df : degrees of freedom"
      ]
    },
    {
      "cell_type": "code",
      "metadata": {
        "colab": {
          "base_uri": "https://localhost:8080/",
          "height": 266
        },
        "id": "LJGrFHuWqP3I",
        "outputId": "96c980ca-a9a7-483d-93b6-1564d427f6b1"
      },
      "source": [
        "FORMULA = 'bs(train, knots=(0, 4), degree=3, include_intercept=False)'\n",
        "X_bspline = dmatrix(FORMULA, {\"train\": X_train.X}, return_type='dataframe')\n",
        "X_bspline.head()"
      ],
      "execution_count": 11,
      "outputs": [
        {
          "output_type": "execute_result",
          "data": {
            "text/html": [
              "<div>\n",
              "<style scoped>\n",
              "    .dataframe tbody tr th:only-of-type {\n",
              "        vertical-align: middle;\n",
              "    }\n",
              "\n",
              "    .dataframe tbody tr th {\n",
              "        vertical-align: top;\n",
              "    }\n",
              "\n",
              "    .dataframe thead th {\n",
              "        text-align: right;\n",
              "    }\n",
              "</style>\n",
              "<table border=\"1\" class=\"dataframe\">\n",
              "  <thead>\n",
              "    <tr style=\"text-align: right;\">\n",
              "      <th></th>\n",
              "      <th>Intercept</th>\n",
              "      <th>bs(train, knots=(0, 4), degree=3, include_intercept=False)[0]</th>\n",
              "      <th>bs(train, knots=(0, 4), degree=3, include_intercept=False)[1]</th>\n",
              "      <th>bs(train, knots=(0, 4), degree=3, include_intercept=False)[2]</th>\n",
              "      <th>bs(train, knots=(0, 4), degree=3, include_intercept=False)[3]</th>\n",
              "      <th>bs(train, knots=(0, 4), degree=3, include_intercept=False)[4]</th>\n",
              "    </tr>\n",
              "  </thead>\n",
              "  <tbody>\n",
              "    <tr>\n",
              "      <th>0</th>\n",
              "      <td>1.0</td>\n",
              "      <td>0.668805</td>\n",
              "      <td>0.170873</td>\n",
              "      <td>0.008743</td>\n",
              "      <td>0.000000</td>\n",
              "      <td>0.0</td>\n",
              "    </tr>\n",
              "    <tr>\n",
              "      <th>1</th>\n",
              "      <td>1.0</td>\n",
              "      <td>0.606131</td>\n",
              "      <td>0.095969</td>\n",
              "      <td>0.003218</td>\n",
              "      <td>0.000000</td>\n",
              "      <td>0.0</td>\n",
              "    </tr>\n",
              "    <tr>\n",
              "      <th>2</th>\n",
              "      <td>1.0</td>\n",
              "      <td>0.076265</td>\n",
              "      <td>0.502848</td>\n",
              "      <td>0.389369</td>\n",
              "      <td>0.031518</td>\n",
              "      <td>0.0</td>\n",
              "    </tr>\n",
              "    <tr>\n",
              "      <th>3</th>\n",
              "      <td>1.0</td>\n",
              "      <td>0.502065</td>\n",
              "      <td>0.435832</td>\n",
              "      <td>0.060811</td>\n",
              "      <td>0.000000</td>\n",
              "      <td>0.0</td>\n",
              "    </tr>\n",
              "    <tr>\n",
              "      <th>4</th>\n",
              "      <td>1.0</td>\n",
              "      <td>0.583079</td>\n",
              "      <td>0.365519</td>\n",
              "      <td>0.039306</td>\n",
              "      <td>0.000000</td>\n",
              "      <td>0.0</td>\n",
              "    </tr>\n",
              "  </tbody>\n",
              "</table>\n",
              "</div>"
            ],
            "text/plain": [
              "   Intercept  ...  bs(train, knots=(0, 4), degree=3, include_intercept=False)[4]\n",
              "0        1.0  ...                                                0.0            \n",
              "1        1.0  ...                                                0.0            \n",
              "2        1.0  ...                                                0.0            \n",
              "3        1.0  ...                                                0.0            \n",
              "4        1.0  ...                                                0.0            \n",
              "\n",
              "[5 rows x 6 columns]"
            ]
          },
          "metadata": {
            "tags": []
          },
          "execution_count": 11
        }
      ]
    },
    {
      "cell_type": "code",
      "metadata": {
        "colab": {
          "base_uri": "https://localhost:8080/"
        },
        "id": "65pAQZBlsKZc",
        "outputId": "ed447731-acae-4d88-88b1-501847188e7c"
      },
      "source": [
        "fit = sm.GLM(y, X_bspline).fit()\n",
        "print(fit.summary())"
      ],
      "execution_count": 12,
      "outputs": [
        {
          "output_type": "stream",
          "text": [
            "                 Generalized Linear Model Regression Results                  \n",
            "==============================================================================\n",
            "Dep. Variable:                      y   No. Observations:                  200\n",
            "Model:                            GLM   Df Residuals:                      194\n",
            "Model Family:                Gaussian   Df Model:                            5\n",
            "Link Function:               identity   Scale:                          232.30\n",
            "Method:                          IRLS   Log-Likelihood:                -825.54\n",
            "Date:                Tue, 20 Jul 2021   Deviance:                       45066.\n",
            "Time:                        19:51:02   Pearson chi2:                 4.51e+04\n",
            "No. Iterations:                     3                                         \n",
            "Covariance Type:            nonrobust                                         \n",
            "=================================================================================================================================\n",
            "                                                                    coef    std err          z      P>|z|      [0.025      0.975]\n",
            "---------------------------------------------------------------------------------------------------------------------------------\n",
            "Intercept                                                       -51.3458      8.163     -6.290      0.000     -67.345     -35.346\n",
            "bs(train, knots=(0, 4), degree=3, include_intercept=False)[0]   -26.2769     12.513     -2.100      0.036     -50.803      -1.751\n",
            "bs(train, knots=(0, 4), degree=3, include_intercept=False)[1]   128.4330      9.355     13.729      0.000     110.098     146.768\n",
            "bs(train, knots=(0, 4), degree=3, include_intercept=False)[2]    79.7237     12.132      6.571      0.000      55.944     103.503\n",
            "bs(train, knots=(0, 4), degree=3, include_intercept=False)[3]  -116.7730      9.887    -11.811      0.000    -136.150     -97.396\n",
            "bs(train, knots=(0, 4), degree=3, include_intercept=False)[4]  -125.0975     13.511     -9.259      0.000    -151.578     -98.617\n",
            "=================================================================================================================================\n"
          ],
          "name": "stdout"
        }
      ]
    },
    {
      "cell_type": "code",
      "metadata": {
        "colab": {
          "base_uri": "https://localhost:8080/",
          "height": 282
        },
        "id": "sxck18hwAU5M",
        "outputId": "000a1735-2528-4e3f-a67a-931589e0dac2"
      },
      "source": [
        "plt.scatter(X_train.X, y, color='blue')\n",
        "\n",
        "xplot = np.linspace(X_train.X.min(), X_train.X.max(), 100)\n",
        "yplot = fit.predict(dmatrix(FORMULA, {\"train\": xplot}, return_type='dataframe'))\n",
        "plt.scatter(xplot, yplot, color='orange')\n",
        "\n",
        "pred = fit.predict(dmatrix(FORMULA, {\"train\": X_train.X}, return_type='dataframe'))\n",
        "print(f'RMSE = {mean_squared_error(pred, y) ** 0.5:.2f}')"
      ],
      "execution_count": 13,
      "outputs": [
        {
          "output_type": "stream",
          "text": [
            "RMSE = 15.01\n"
          ],
          "name": "stdout"
        },
        {
          "output_type": "display_data",
          "data": {
            "image/png": "[encoded data removed]",
            "text/plain": [
              "<Figure size 432x288 with 1 Axes>"
            ]
          },
          "metadata": {
            "tags": [],
            "needs_background": "light"
          }
        }
      ]
    },
    {
      "cell_type": "markdown",
      "metadata": {
        "id": "K2qepETOJX-c"
      },
      "source": [
        "# Natural Cubic Splines\n",
        "* Use splines that have constraints (forces smoothness)\n",
        "  * Polynomials must be continuous at the knot\n",
        "  * Polynomials first and second derivative must be same at the knot\n"
      ]
    },
    {
      "cell_type": "code",
      "metadata": {
        "colab": {
          "base_uri": "https://localhost:8080/",
          "height": 212
        },
        "id": "5hqVN3dyJb19",
        "outputId": "9983adea-da27-4ff6-d2d1-45dd1fc03d54"
      },
      "source": [
        "FORMULA = 'cr(train, df=6) -1'\n",
        "X_cubic = dmatrix(FORMULA, {\"train\": X_train.X}, return_type='dataframe')\n",
        "X_cubic.head()"
      ],
      "execution_count": 14,
      "outputs": [
        {
          "output_type": "execute_result",
          "data": {
            "text/html": [
              "<div>\n",
              "<style scoped>\n",
              "    .dataframe tbody tr th:only-of-type {\n",
              "        vertical-align: middle;\n",
              "    }\n",
              "\n",
              "    .dataframe tbody tr th {\n",
              "        vertical-align: top;\n",
              "    }\n",
              "\n",
              "    .dataframe thead th {\n",
              "        text-align: right;\n",
              "    }\n",
              "</style>\n",
              "<table border=\"1\" class=\"dataframe\">\n",
              "  <thead>\n",
              "    <tr style=\"text-align: right;\">\n",
              "      <th></th>\n",
              "      <th>cr(train, df=6)[0]</th>\n",
              "      <th>cr(train, df=6)[1]</th>\n",
              "      <th>cr(train, df=6)[2]</th>\n",
              "      <th>cr(train, df=6)[3]</th>\n",
              "      <th>cr(train, df=6)[4]</th>\n",
              "      <th>cr(train, df=6)[5]</th>\n",
              "    </tr>\n",
              "  </thead>\n",
              "  <tbody>\n",
              "    <tr>\n",
              "      <th>0</th>\n",
              "      <td>0.375760</td>\n",
              "      <td>0.919925</td>\n",
              "      <td>-0.320412</td>\n",
              "      <td>0.040665</td>\n",
              "      <td>-0.017205</td>\n",
              "      <td>0.001266</td>\n",
              "    </tr>\n",
              "    <tr>\n",
              "      <th>1</th>\n",
              "      <td>0.538060</td>\n",
              "      <td>0.707546</td>\n",
              "      <td>-0.266145</td>\n",
              "      <td>0.033778</td>\n",
              "      <td>-0.014291</td>\n",
              "      <td>0.001052</td>\n",
              "    </tr>\n",
              "    <tr>\n",
              "      <th>2</th>\n",
              "      <td>0.022028</td>\n",
              "      <td>-0.324695</td>\n",
              "      <td>0.982018</td>\n",
              "      <td>0.497245</td>\n",
              "      <td>-0.190625</td>\n",
              "      <td>0.014030</td>\n",
              "    </tr>\n",
              "    <tr>\n",
              "      <th>3</th>\n",
              "      <td>0.019374</td>\n",
              "      <td>1.057151</td>\n",
              "      <td>-0.082925</td>\n",
              "      <td>0.010524</td>\n",
              "      <td>-0.004453</td>\n",
              "      <td>0.000328</td>\n",
              "    </tr>\n",
              "    <tr>\n",
              "      <th>4</th>\n",
              "      <td>0.088670</td>\n",
              "      <td>1.124261</td>\n",
              "      <td>-0.230736</td>\n",
              "      <td>0.029284</td>\n",
              "      <td>-0.012390</td>\n",
              "      <td>0.000912</td>\n",
              "    </tr>\n",
              "  </tbody>\n",
              "</table>\n",
              "</div>"
            ],
            "text/plain": [
              "   cr(train, df=6)[0]  ...  cr(train, df=6)[5]\n",
              "0            0.375760  ...            0.001266\n",
              "1            0.538060  ...            0.001052\n",
              "2            0.022028  ...            0.014030\n",
              "3            0.019374  ...            0.000328\n",
              "4            0.088670  ...            0.000912\n",
              "\n",
              "[5 rows x 6 columns]"
            ]
          },
          "metadata": {
            "tags": []
          },
          "execution_count": 14
        }
      ]
    },
    {
      "cell_type": "code",
      "metadata": {
        "colab": {
          "base_uri": "https://localhost:8080/"
        },
        "id": "KZL0ABUhKEJu",
        "outputId": "3aebee4a-49f0-4698-9640-ed4ee67318aa"
      },
      "source": [
        "fit = sm.GLM(y, X_cubic).fit()\n",
        "print(fit.summary())"
      ],
      "execution_count": 15,
      "outputs": [
        {
          "output_type": "stream",
          "text": [
            "                 Generalized Linear Model Regression Results                  \n",
            "==============================================================================\n",
            "Dep. Variable:                      y   No. Observations:                  200\n",
            "Model:                            GLM   Df Residuals:                      194\n",
            "Model Family:                Gaussian   Df Model:                            5\n",
            "Link Function:               identity   Scale:                          174.62\n",
            "Method:                          IRLS   Log-Likelihood:                -797.00\n",
            "Date:                Tue, 20 Jul 2021   Deviance:                       33876.\n",
            "Time:                        19:51:02   Pearson chi2:                 3.39e+04\n",
            "No. Iterations:                     3                                         \n",
            "Covariance Type:            nonrobust                                         \n",
            "======================================================================================\n",
            "                         coef    std err          z      P>|z|      [0.025      0.975]\n",
            "--------------------------------------------------------------------------------------\n",
            "cr(train, df=6)[0]   -57.0537      5.450    -10.469      0.000     -67.735     -46.373\n",
            "cr(train, df=6)[1]    -5.3908      1.844     -2.924      0.003      -9.004      -1.777\n",
            "cr(train, df=6)[2]    38.1069      2.218     17.180      0.000      33.759      42.454\n",
            "cr(train, df=6)[3]    -0.6222      2.254     -0.276      0.782      -5.039       3.795\n",
            "cr(train, df=6)[4]   -71.8399      1.997    -35.973      0.000     -75.754     -67.926\n",
            "cr(train, df=6)[5]  -183.2844      6.507    -28.166      0.000    -196.038    -170.530\n",
            "======================================================================================\n"
          ],
          "name": "stdout"
        }
      ]
    },
    {
      "cell_type": "code",
      "metadata": {
        "colab": {
          "base_uri": "https://localhost:8080/",
          "height": 282
        },
        "id": "mTdyv6K9KUP7",
        "outputId": "72180c69-ed2f-4786-e8dc-6db09ff4b353"
      },
      "source": [
        "plt.scatter(X_train.X, y, color='blue')\n",
        "\n",
        "xplot = np.linspace(X_train.X.min(), X_train.X.max(), 100)\n",
        "yplot = fit.predict(dmatrix(FORMULA, {\"train\": xplot}, return_type='dataframe'))\n",
        "plt.scatter(xplot, yplot, color='orange')\n",
        "\n",
        "pred = fit.predict(dmatrix(FORMULA, {\"train\": X_train.X}, return_type='dataframe'))\n",
        "print(f'RMSE = {mean_squared_error(pred, y) ** 0.5:.2f}')"
      ],
      "execution_count": 16,
      "outputs": [
        {
          "output_type": "stream",
          "text": [
            "RMSE = 13.01\n"
          ],
          "name": "stdout"
        },
        {
          "output_type": "display_data",
          "data": {
            "image/png": "[encoded data removed]",
            "text/plain": [
              "<Figure size 432x288 with 1 Axes>"
            ]
          },
          "metadata": {
            "tags": [],
            "needs_background": "light"
          }
        }
      ]
    },
    {
      "cell_type": "markdown",
      "metadata": {
        "id": "t0zbizlnKX95"
      },
      "source": [
        "# Piecewise Linear Fit\n",
        "* Finds an optimal fit using the number of specified segments"
      ]
    },
    {
      "cell_type": "code",
      "metadata": {
        "colab": {
          "base_uri": "https://localhost:8080/"
        },
        "id": "rQsVID-fR_SX",
        "outputId": "de254b15-5191-4bf3-95b6-6c5db3676588"
      },
      "source": [
        "SEGMENTS = 2\n",
        "pw_lm = pwlf.PiecewiseLinFit(X[0], y)\n",
        "breaks = pw_lm.fit(SEGMENTS)\n",
        "print(breaks)"
      ],
      "execution_count": 17,
      "outputs": [
        {
          "output_type": "stream",
          "text": [
            "[-2.13171211  1.97647584  6.49102808]\n"
          ],
          "name": "stdout"
        },
        {
          "output_type": "stream",
          "text": [
            "/usr/local/lib/python3.7/dist-packages/pwlf/pwlf.py:1109: RuntimeWarning: invalid value encountered in double_scalars\n",
            "  (self.fit_breaks[i+1]-self.fit_breaks[i])\n"
          ],
          "name": "stderr"
        }
      ]
    },
    {
      "cell_type": "code",
      "metadata": {
        "colab": {
          "base_uri": "https://localhost:8080/",
          "height": 282
        },
        "id": "6LcTCANaSPBr",
        "outputId": "efb91c5b-0e62-41a0-e328-4fa31863673d"
      },
      "source": [
        "plt.scatter(X, y, color='blue')\n",
        "\n",
        "xplot = np.linspace(X[0].min(), X[0].max(), 100)\n",
        "yplot = pw_lm.predict(xplot)\n",
        "plt.scatter(xplot, yplot, color='orange')\n",
        "\n",
        "pred = pw_lm.predict(X[0])\n",
        "print(f'RMSE = {mean_squared_error(pred, y) ** 0.5:.2f}')"
      ],
      "execution_count": 18,
      "outputs": [
        {
          "output_type": "stream",
          "text": [
            "RMSE = 11.47\n"
          ],
          "name": "stdout"
        },
        {
          "output_type": "display_data",
          "data": {
            "image/png": "[encoded data removed]",
            "text/plain": [
              "<Figure size 432x288 with 1 Axes>"
            ]
          },
          "metadata": {
            "tags": [],
            "needs_background": "light"
          }
        }
      ]
    },
    {
      "cell_type": "markdown",
      "metadata": {
        "id": "QwdDOZt6Z1S7"
      },
      "source": [
        "# Numpy Piecewise\n",
        "* Pair numpy piecewise with scipy optimize\n",
        "* Finds the optimal value for a split\n",
        "* Requires you to be involved in defining the formulation"
      ]
    },
    {
      "cell_type": "code",
      "metadata": {
        "colab": {
          "base_uri": "https://localhost:8080/"
        },
        "id": "6lBY-lvXaaay",
        "outputId": "aae08d66-91c2-408b-96da-e8c68f4cbc96"
      },
      "source": [
        "def numpy_piecewise(x, x0, y0, w1, w2):\n",
        "  return np.piecewise(x, [x < x0], [lambda x:w1 * x + y0 - w1 * x0, \n",
        "                                    lambda x:w2 * x + y0 - w2 * x0])\n",
        "popt, pcov = optimize.curve_fit(numpy_piecewise, list(X[0]), y)\n",
        "print(popt) # Optimized Values\n",
        "print(pcov) # Covariance of Optimized Values"
      ],
      "execution_count": 19,
      "outputs": [
        {
          "output_type": "stream",
          "text": [
            "[  1.97647585  68.00776455  33.43829977 -57.27312847]\n",
            "[[ 1.77558362e-03 -2.47371584e-02 -3.56326308e-02 -2.92945841e-02]\n",
            " [-2.47371584e-02  3.99005462e+00  2.04079225e+00 -9.79561124e-01]\n",
            " [-3.56326308e-02  2.04079225e+00  1.66562936e+00 -1.44516027e-08]\n",
            " [-2.92945841e-02 -9.79561124e-01 -1.44516024e-08  1.24972313e+00]]\n"
          ],
          "name": "stdout"
        }
      ]
    },
    {
      "cell_type": "code",
      "metadata": {
        "colab": {
          "base_uri": "https://localhost:8080/",
          "height": 282
        },
        "id": "78U0bZxYcJsu",
        "outputId": "7189555d-dbe4-4d90-abdd-08601aa1db0a"
      },
      "source": [
        "xplot = np.linspace(X.min(), X.max(), 100)\n",
        "plt.scatter(X, y, color='blue')\n",
        "plt.scatter(xplot, numpy_piecewise(xplot, *popt), color='orange')\n",
        "\n",
        "pred = numpy_piecewise(list(X[0]), *popt)\n",
        "print(f'RMSE = {mean_squared_error(pred, y) ** 0.5:.2f}')"
      ],
      "execution_count": 20,
      "outputs": [
        {
          "output_type": "stream",
          "text": [
            "RMSE = 11.47\n"
          ],
          "name": "stdout"
        },
        {
          "output_type": "display_data",
          "data": {
            "image/png": "[encoded data removed]",
            "text/plain": [
              "<Figure size 432x288 with 1 Axes>"
            ]
          },
          "metadata": {
            "tags": [],
            "needs_background": "light"
          }
        }
      ]
    },
    {
      "cell_type": "code",
      "metadata": {
        "id": "JGMFsMuGdPnc"
      },
      "source": [
        ""
      ],
      "execution_count": 20,
      "outputs": []
    }
  ]
}