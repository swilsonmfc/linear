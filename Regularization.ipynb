{
  "nbformat": 4,
  "nbformat_minor": 0,
  "metadata": {
    "colab": {
      "name": "Regularization.ipynb",
      "provenance": [],
      "collapsed_sections": [],
      "toc_visible": true,
      "authorship_tag": "ABX9TyMiL7S5bQcBQGIEY78WBkcn",
      "include_colab_link": true
    },
    "kernelspec": {
      "name": "python3",
      "display_name": "Python 3"
    }
  },
  "cells": [
    {
      "cell_type": "markdown",
      "metadata": {
        "id": "view-in-github",
        "colab_type": "text"
      },
      "source": [
        "<a href=\"https://colab.research.google.com/github/swilsonmfc/linear/blob/main/Regularization.ipynb\" target=\"_parent\"><img src=\"https://colab.research.google.com/assets/colab-badge.svg\" alt=\"Open In Colab\"/></a>"
      ]
    },
    {
      "cell_type": "markdown",
      "metadata": {
        "id": "jZSkbdXB_4Q3"
      },
      "source": [
        "# Regularization\n",
        "\n",
        "![](https://shoefer.github.io/intuitivemi/images/2015-08-07-overfitting-sizeprice.png)\n"
      ]
    },
    {
      "cell_type": "markdown",
      "metadata": {
        "id": "gO_glHJXAOBA"
      },
      "source": [
        "# Setup"
      ]
    },
    {
      "cell_type": "code",
      "metadata": {
        "id": "lXYHEyL3AepF",
        "colab": {
          "base_uri": "https://localhost:8080/"
        },
        "outputId": "59cfce4c-56e0-453b-fa0f-ba91a5969531"
      },
      "source": [
        "import math\n",
        "import pandas as pd\n",
        "import numpy as np\n",
        "\n",
        "import matplotlib.pyplot as plt\n",
        "import seaborn as sns\n",
        "import pandas_profiling\n",
        "\n",
        "from sklearn.datasets import load_boston\n",
        "from sklearn.metrics import mean_absolute_error\n",
        "from sklearn.metrics import mean_squared_error\n",
        "\n",
        "from sklearn.linear_model import LinearRegression\n",
        "from sklearn.linear_model import ElasticNet\n",
        "from sklearn.linear_model import Lasso\n",
        "from sklearn.linear_model import Ridge\n",
        "\n",
        "from sklearn.pipeline import make_pipeline\n",
        "from sklearn.pipeline import FeatureUnion\n",
        "from sklearn.pipeline import Pipeline\n",
        "from sklearn.base import BaseEstimator\n",
        "from sklearn.base import TransformerMixin\n",
        "from sklearn.preprocessing import StandardScaler\n",
        "from sklearn.preprocessing import OneHotEncoder\n",
        "from sklearn.model_selection import train_test_split\n",
        "\n",
        "from yellowbrick.regressor import ResidualsPlot\n",
        "from yellowbrick.regressor import PredictionError\n",
        "\n",
        "import statsmodels.api as sm\n",
        "import statsmodels.stats.api as sms\n",
        "import statsmodels.formula.api as smf\n",
        "import statsmodels.graphics.regressionplots as regplot\n",
        "from statsmodels.stats.outliers_influence import variance_inflation_factor\n",
        "\n",
        "from patsy import dmatrices"
      ],
      "execution_count": 1,
      "outputs": [
        {
          "output_type": "stream",
          "text": [
            "/usr/local/lib/python3.6/dist-packages/sklearn/utils/deprecation.py:144: FutureWarning: The sklearn.metrics.classification module is  deprecated in version 0.22 and will be removed in version 0.24. The corresponding classes / functions should instead be imported from sklearn.metrics. Anything that cannot be imported from sklearn.metrics is now part of the private API.\n",
            "  warnings.warn(message, FutureWarning)\n",
            "/usr/local/lib/python3.6/dist-packages/statsmodels/tools/_testing.py:19: FutureWarning: pandas.util.testing is deprecated. Use the functions in the public API at pandas.testing instead.\n",
            "  import pandas.util.testing as tm\n"
          ],
          "name": "stderr"
        }
      ]
    },
    {
      "cell_type": "code",
      "metadata": {
        "id": "jiAlzQDL8Phw"
      },
      "source": [
        "%matplotlib inline"
      ],
      "execution_count": 2,
      "outputs": []
    },
    {
      "cell_type": "markdown",
      "metadata": {
        "id": "FmtABJFZAwTZ"
      },
      "source": [
        "# Data"
      ]
    },
    {
      "cell_type": "code",
      "metadata": {
        "colab": {
          "base_uri": "https://localhost:8080/"
        },
        "id": "CxIqwsmNA7Hr",
        "outputId": "1b87fc45-98ec-4e63-d311-81064da6aadc"
      },
      "source": [
        "boston = load_boston()\n",
        "print(boston['DESCR'])"
      ],
      "execution_count": 3,
      "outputs": [
        {
          "output_type": "stream",
          "text": [
            ".. _boston_dataset:\n",
            "\n",
            "Boston house prices dataset\n",
            "---------------------------\n",
            "\n",
            "**Data Set Characteristics:**  \n",
            "\n",
            "    :Number of Instances: 506 \n",
            "\n",
            "    :Number of Attributes: 13 numeric/categorical predictive. Median Value (attribute 14) is usually the target.\n",
            "\n",
            "    :Attribute Information (in order):\n",
            "        - CRIM     per capita crime rate by town\n",
            "        - ZN       proportion of residential land zoned for lots over 25,000 sq.ft.\n",
            "        - INDUS    proportion of non-retail business acres per town\n",
            "        - CHAS     Charles River dummy variable (= 1 if tract bounds river; 0 otherwise)\n",
            "        - NOX      nitric oxides concentration (parts per 10 million)\n",
            "        - RM       average number of rooms per dwelling\n",
            "        - AGE      proportion of owner-occupied units built prior to 1940\n",
            "        - DIS      weighted distances to five Boston employment centres\n",
            "        - RAD      index of accessibility to radial highways\n",
            "        - TAX      full-value property-tax rate per $10,000\n",
            "        - PTRATIO  pupil-teacher ratio by town\n",
            "        - B        1000(Bk - 0.63)^2 where Bk is the proportion of blacks by town\n",
            "        - LSTAT    % lower status of the population\n",
            "        - MEDV     Median value of owner-occupied homes in $1000's\n",
            "\n",
            "    :Missing Attribute Values: None\n",
            "\n",
            "    :Creator: Harrison, D. and Rubinfeld, D.L.\n",
            "\n",
            "This is a copy of UCI ML housing dataset.\n",
            "https://archive.ics.uci.edu/ml/machine-learning-databases/housing/\n",
            "\n",
            "\n",
            "This dataset was taken from the StatLib library which is maintained at Carnegie Mellon University.\n",
            "\n",
            "The Boston house-price data of Harrison, D. and Rubinfeld, D.L. 'Hedonic\n",
            "prices and the demand for clean air', J. Environ. Economics & Management,\n",
            "vol.5, 81-102, 1978.   Used in Belsley, Kuh & Welsch, 'Regression diagnostics\n",
            "...', Wiley, 1980.   N.B. Various transformations are used in the table on\n",
            "pages 244-261 of the latter.\n",
            "\n",
            "The Boston house-price data has been used in many machine learning papers that address regression\n",
            "problems.   \n",
            "     \n",
            ".. topic:: References\n",
            "\n",
            "   - Belsley, Kuh & Welsch, 'Regression diagnostics: Identifying Influential Data and Sources of Collinearity', Wiley, 1980. 244-261.\n",
            "   - Quinlan,R. (1993). Combining Instance-Based and Model-Based Learning. In Proceedings on the Tenth International Conference of Machine Learning, 236-243, University of Massachusetts, Amherst. Morgan Kaufmann.\n",
            "\n"
          ],
          "name": "stdout"
        }
      ]
    },
    {
      "cell_type": "code",
      "metadata": {
        "colab": {
          "base_uri": "https://localhost:8080/",
          "height": 224
        },
        "id": "Tu_whITuA7q5",
        "outputId": "106776cf-e054-49c9-8386-8da381198657"
      },
      "source": [
        "bostonDF = pd.DataFrame(boston['data'], columns=boston['feature_names'])\n",
        "bostonDF['TARGET'] = boston['target']\n",
        "bostonDF.head()"
      ],
      "execution_count": 4,
      "outputs": [
        {
          "output_type": "execute_result",
          "data": {
            "text/html": [
              "<div>\n",
              "<style scoped>\n",
              "    .dataframe tbody tr th:only-of-type {\n",
              "        vertical-align: middle;\n",
              "    }\n",
              "\n",
              "    .dataframe tbody tr th {\n",
              "        vertical-align: top;\n",
              "    }\n",
              "\n",
              "    .dataframe thead th {\n",
              "        text-align: right;\n",
              "    }\n",
              "</style>\n",
              "<table border=\"1\" class=\"dataframe\">\n",
              "  <thead>\n",
              "    <tr style=\"text-align: right;\">\n",
              "      <th></th>\n",
              "      <th>CRIM</th>\n",
              "      <th>ZN</th>\n",
              "      <th>INDUS</th>\n",
              "      <th>CHAS</th>\n",
              "      <th>NOX</th>\n",
              "      <th>RM</th>\n",
              "      <th>AGE</th>\n",
              "      <th>DIS</th>\n",
              "      <th>RAD</th>\n",
              "      <th>TAX</th>\n",
              "      <th>PTRATIO</th>\n",
              "      <th>B</th>\n",
              "      <th>LSTAT</th>\n",
              "      <th>TARGET</th>\n",
              "    </tr>\n",
              "  </thead>\n",
              "  <tbody>\n",
              "    <tr>\n",
              "      <th>0</th>\n",
              "      <td>0.00632</td>\n",
              "      <td>18.0</td>\n",
              "      <td>2.31</td>\n",
              "      <td>0.0</td>\n",
              "      <td>0.538</td>\n",
              "      <td>6.575</td>\n",
              "      <td>65.2</td>\n",
              "      <td>4.0900</td>\n",
              "      <td>1.0</td>\n",
              "      <td>296.0</td>\n",
              "      <td>15.3</td>\n",
              "      <td>396.90</td>\n",
              "      <td>4.98</td>\n",
              "      <td>24.0</td>\n",
              "    </tr>\n",
              "    <tr>\n",
              "      <th>1</th>\n",
              "      <td>0.02731</td>\n",
              "      <td>0.0</td>\n",
              "      <td>7.07</td>\n",
              "      <td>0.0</td>\n",
              "      <td>0.469</td>\n",
              "      <td>6.421</td>\n",
              "      <td>78.9</td>\n",
              "      <td>4.9671</td>\n",
              "      <td>2.0</td>\n",
              "      <td>242.0</td>\n",
              "      <td>17.8</td>\n",
              "      <td>396.90</td>\n",
              "      <td>9.14</td>\n",
              "      <td>21.6</td>\n",
              "    </tr>\n",
              "    <tr>\n",
              "      <th>2</th>\n",
              "      <td>0.02729</td>\n",
              "      <td>0.0</td>\n",
              "      <td>7.07</td>\n",
              "      <td>0.0</td>\n",
              "      <td>0.469</td>\n",
              "      <td>7.185</td>\n",
              "      <td>61.1</td>\n",
              "      <td>4.9671</td>\n",
              "      <td>2.0</td>\n",
              "      <td>242.0</td>\n",
              "      <td>17.8</td>\n",
              "      <td>392.83</td>\n",
              "      <td>4.03</td>\n",
              "      <td>34.7</td>\n",
              "    </tr>\n",
              "    <tr>\n",
              "      <th>3</th>\n",
              "      <td>0.03237</td>\n",
              "      <td>0.0</td>\n",
              "      <td>2.18</td>\n",
              "      <td>0.0</td>\n",
              "      <td>0.458</td>\n",
              "      <td>6.998</td>\n",
              "      <td>45.8</td>\n",
              "      <td>6.0622</td>\n",
              "      <td>3.0</td>\n",
              "      <td>222.0</td>\n",
              "      <td>18.7</td>\n",
              "      <td>394.63</td>\n",
              "      <td>2.94</td>\n",
              "      <td>33.4</td>\n",
              "    </tr>\n",
              "    <tr>\n",
              "      <th>4</th>\n",
              "      <td>0.06905</td>\n",
              "      <td>0.0</td>\n",
              "      <td>2.18</td>\n",
              "      <td>0.0</td>\n",
              "      <td>0.458</td>\n",
              "      <td>7.147</td>\n",
              "      <td>54.2</td>\n",
              "      <td>6.0622</td>\n",
              "      <td>3.0</td>\n",
              "      <td>222.0</td>\n",
              "      <td>18.7</td>\n",
              "      <td>396.90</td>\n",
              "      <td>5.33</td>\n",
              "      <td>36.2</td>\n",
              "    </tr>\n",
              "  </tbody>\n",
              "</table>\n",
              "</div>"
            ],
            "text/plain": [
              "      CRIM    ZN  INDUS  CHAS    NOX  ...    TAX  PTRATIO       B  LSTAT  TARGET\n",
              "0  0.00632  18.0   2.31   0.0  0.538  ...  296.0     15.3  396.90   4.98    24.0\n",
              "1  0.02731   0.0   7.07   0.0  0.469  ...  242.0     17.8  396.90   9.14    21.6\n",
              "2  0.02729   0.0   7.07   0.0  0.469  ...  242.0     17.8  392.83   4.03    34.7\n",
              "3  0.03237   0.0   2.18   0.0  0.458  ...  222.0     18.7  394.63   2.94    33.4\n",
              "4  0.06905   0.0   2.18   0.0  0.458  ...  222.0     18.7  396.90   5.33    36.2\n",
              "\n",
              "[5 rows x 14 columns]"
            ]
          },
          "metadata": {
            "tags": []
          },
          "execution_count": 4
        }
      ]
    },
    {
      "cell_type": "markdown",
      "metadata": {
        "id": "afZoMSxhBKQ0"
      },
      "source": [
        "## Categorical"
      ]
    },
    {
      "cell_type": "code",
      "metadata": {
        "colab": {
          "base_uri": "https://localhost:8080/",
          "height": 282
        },
        "id": "3uS1lvZFA_Re",
        "outputId": "439f94dc-b55d-4075-c1cf-ce3f6f198487"
      },
      "source": [
        "def ageBin(age):\n",
        "    if age < 30: return 'NEW'\n",
        "    if age < 60: return 'USED'\n",
        "    if age < 80: return 'OLD'\n",
        "    if age < 95: return 'CREAKY'\n",
        "    return 'FOSSIL'\n",
        "bostonDF['AGE_BIN'] = bostonDF['AGE'].apply(ageBin)\n",
        "bostonDF['AGE_BIN'].hist()"
      ],
      "execution_count": 5,
      "outputs": [
        {
          "output_type": "execute_result",
          "data": {
            "text/plain": [
              "<matplotlib.axes._subplots.AxesSubplot at 0x7f96f0d56748>"
            ]
          },
          "metadata": {
            "tags": []
          },
          "execution_count": 5
        },
        {
          "output_type": "display_data",
          "data": {
            "image/png": "[encoded data removed]",
            "text/plain": [
              "<Figure size 432x288 with 1 Axes>"
            ]
          },
          "metadata": {
            "tags": [],
            "needs_background": "light"
          }
        }
      ]
    },
    {
      "cell_type": "markdown",
      "metadata": {
        "id": "h7zZExYIBBmj"
      },
      "source": [
        "## EDA"
      ]
    },
    {
      "cell_type": "code",
      "metadata": {
        "colab": {
          "base_uri": "https://localhost:8080/",
          "height": 439
        },
        "id": "THawMQz4BhaK",
        "outputId": "a324b09a-d342-40b3-c71f-a52d7de60f09"
      },
      "source": [
        "bostonDF"
      ],
      "execution_count": 6,
      "outputs": [
        {
          "output_type": "execute_result",
          "data": {
            "text/html": [
              "<div>\n",
              "<style scoped>\n",
              "    .dataframe tbody tr th:only-of-type {\n",
              "        vertical-align: middle;\n",
              "    }\n",
              "\n",
              "    .dataframe tbody tr th {\n",
              "        vertical-align: top;\n",
              "    }\n",
              "\n",
              "    .dataframe thead th {\n",
              "        text-align: right;\n",
              "    }\n",
              "</style>\n",
              "<table border=\"1\" class=\"dataframe\">\n",
              "  <thead>\n",
              "    <tr style=\"text-align: right;\">\n",
              "      <th></th>\n",
              "      <th>CRIM</th>\n",
              "      <th>ZN</th>\n",
              "      <th>INDUS</th>\n",
              "      <th>CHAS</th>\n",
              "      <th>NOX</th>\n",
              "      <th>RM</th>\n",
              "      <th>AGE</th>\n",
              "      <th>DIS</th>\n",
              "      <th>RAD</th>\n",
              "      <th>TAX</th>\n",
              "      <th>PTRATIO</th>\n",
              "      <th>B</th>\n",
              "      <th>LSTAT</th>\n",
              "      <th>TARGET</th>\n",
              "      <th>AGE_BIN</th>\n",
              "    </tr>\n",
              "  </thead>\n",
              "  <tbody>\n",
              "    <tr>\n",
              "      <th>0</th>\n",
              "      <td>0.00632</td>\n",
              "      <td>18.0</td>\n",
              "      <td>2.31</td>\n",
              "      <td>0.0</td>\n",
              "      <td>0.538</td>\n",
              "      <td>6.575</td>\n",
              "      <td>65.2</td>\n",
              "      <td>4.0900</td>\n",
              "      <td>1.0</td>\n",
              "      <td>296.0</td>\n",
              "      <td>15.3</td>\n",
              "      <td>396.90</td>\n",
              "      <td>4.98</td>\n",
              "      <td>24.0</td>\n",
              "      <td>OLD</td>\n",
              "    </tr>\n",
              "    <tr>\n",
              "      <th>1</th>\n",
              "      <td>0.02731</td>\n",
              "      <td>0.0</td>\n",
              "      <td>7.07</td>\n",
              "      <td>0.0</td>\n",
              "      <td>0.469</td>\n",
              "      <td>6.421</td>\n",
              "      <td>78.9</td>\n",
              "      <td>4.9671</td>\n",
              "      <td>2.0</td>\n",
              "      <td>242.0</td>\n",
              "      <td>17.8</td>\n",
              "      <td>396.90</td>\n",
              "      <td>9.14</td>\n",
              "      <td>21.6</td>\n",
              "      <td>OLD</td>\n",
              "    </tr>\n",
              "    <tr>\n",
              "      <th>2</th>\n",
              "      <td>0.02729</td>\n",
              "      <td>0.0</td>\n",
              "      <td>7.07</td>\n",
              "      <td>0.0</td>\n",
              "      <td>0.469</td>\n",
              "      <td>7.185</td>\n",
              "      <td>61.1</td>\n",
              "      <td>4.9671</td>\n",
              "      <td>2.0</td>\n",
              "      <td>242.0</td>\n",
              "      <td>17.8</td>\n",
              "      <td>392.83</td>\n",
              "      <td>4.03</td>\n",
              "      <td>34.7</td>\n",
              "      <td>OLD</td>\n",
              "    </tr>\n",
              "    <tr>\n",
              "      <th>3</th>\n",
              "      <td>0.03237</td>\n",
              "      <td>0.0</td>\n",
              "      <td>2.18</td>\n",
              "      <td>0.0</td>\n",
              "      <td>0.458</td>\n",
              "      <td>6.998</td>\n",
              "      <td>45.8</td>\n",
              "      <td>6.0622</td>\n",
              "      <td>3.0</td>\n",
              "      <td>222.0</td>\n",
              "      <td>18.7</td>\n",
              "      <td>394.63</td>\n",
              "      <td>2.94</td>\n",
              "      <td>33.4</td>\n",
              "      <td>USED</td>\n",
              "    </tr>\n",
              "    <tr>\n",
              "      <th>4</th>\n",
              "      <td>0.06905</td>\n",
              "      <td>0.0</td>\n",
              "      <td>2.18</td>\n",
              "      <td>0.0</td>\n",
              "      <td>0.458</td>\n",
              "      <td>7.147</td>\n",
              "      <td>54.2</td>\n",
              "      <td>6.0622</td>\n",
              "      <td>3.0</td>\n",
              "      <td>222.0</td>\n",
              "      <td>18.7</td>\n",
              "      <td>396.90</td>\n",
              "      <td>5.33</td>\n",
              "      <td>36.2</td>\n",
              "      <td>USED</td>\n",
              "    </tr>\n",
              "    <tr>\n",
              "      <th>...</th>\n",
              "      <td>...</td>\n",
              "      <td>...</td>\n",
              "      <td>...</td>\n",
              "      <td>...</td>\n",
              "      <td>...</td>\n",
              "      <td>...</td>\n",
              "      <td>...</td>\n",
              "      <td>...</td>\n",
              "      <td>...</td>\n",
              "      <td>...</td>\n",
              "      <td>...</td>\n",
              "      <td>...</td>\n",
              "      <td>...</td>\n",
              "      <td>...</td>\n",
              "      <td>...</td>\n",
              "    </tr>\n",
              "    <tr>\n",
              "      <th>501</th>\n",
              "      <td>0.06263</td>\n",
              "      <td>0.0</td>\n",
              "      <td>11.93</td>\n",
              "      <td>0.0</td>\n",
              "      <td>0.573</td>\n",
              "      <td>6.593</td>\n",
              "      <td>69.1</td>\n",
              "      <td>2.4786</td>\n",
              "      <td>1.0</td>\n",
              "      <td>273.0</td>\n",
              "      <td>21.0</td>\n",
              "      <td>391.99</td>\n",
              "      <td>9.67</td>\n",
              "      <td>22.4</td>\n",
              "      <td>OLD</td>\n",
              "    </tr>\n",
              "    <tr>\n",
              "      <th>502</th>\n",
              "      <td>0.04527</td>\n",
              "      <td>0.0</td>\n",
              "      <td>11.93</td>\n",
              "      <td>0.0</td>\n",
              "      <td>0.573</td>\n",
              "      <td>6.120</td>\n",
              "      <td>76.7</td>\n",
              "      <td>2.2875</td>\n",
              "      <td>1.0</td>\n",
              "      <td>273.0</td>\n",
              "      <td>21.0</td>\n",
              "      <td>396.90</td>\n",
              "      <td>9.08</td>\n",
              "      <td>20.6</td>\n",
              "      <td>OLD</td>\n",
              "    </tr>\n",
              "    <tr>\n",
              "      <th>503</th>\n",
              "      <td>0.06076</td>\n",
              "      <td>0.0</td>\n",
              "      <td>11.93</td>\n",
              "      <td>0.0</td>\n",
              "      <td>0.573</td>\n",
              "      <td>6.976</td>\n",
              "      <td>91.0</td>\n",
              "      <td>2.1675</td>\n",
              "      <td>1.0</td>\n",
              "      <td>273.0</td>\n",
              "      <td>21.0</td>\n",
              "      <td>396.90</td>\n",
              "      <td>5.64</td>\n",
              "      <td>23.9</td>\n",
              "      <td>CREAKY</td>\n",
              "    </tr>\n",
              "    <tr>\n",
              "      <th>504</th>\n",
              "      <td>0.10959</td>\n",
              "      <td>0.0</td>\n",
              "      <td>11.93</td>\n",
              "      <td>0.0</td>\n",
              "      <td>0.573</td>\n",
              "      <td>6.794</td>\n",
              "      <td>89.3</td>\n",
              "      <td>2.3889</td>\n",
              "      <td>1.0</td>\n",
              "      <td>273.0</td>\n",
              "      <td>21.0</td>\n",
              "      <td>393.45</td>\n",
              "      <td>6.48</td>\n",
              "      <td>22.0</td>\n",
              "      <td>CREAKY</td>\n",
              "    </tr>\n",
              "    <tr>\n",
              "      <th>505</th>\n",
              "      <td>0.04741</td>\n",
              "      <td>0.0</td>\n",
              "      <td>11.93</td>\n",
              "      <td>0.0</td>\n",
              "      <td>0.573</td>\n",
              "      <td>6.030</td>\n",
              "      <td>80.8</td>\n",
              "      <td>2.5050</td>\n",
              "      <td>1.0</td>\n",
              "      <td>273.0</td>\n",
              "      <td>21.0</td>\n",
              "      <td>396.90</td>\n",
              "      <td>7.88</td>\n",
              "      <td>11.9</td>\n",
              "      <td>CREAKY</td>\n",
              "    </tr>\n",
              "  </tbody>\n",
              "</table>\n",
              "<p>506 rows × 15 columns</p>\n",
              "</div>"
            ],
            "text/plain": [
              "        CRIM    ZN  INDUS  CHAS    NOX  ...  PTRATIO       B  LSTAT  TARGET  AGE_BIN\n",
              "0    0.00632  18.0   2.31   0.0  0.538  ...     15.3  396.90   4.98    24.0      OLD\n",
              "1    0.02731   0.0   7.07   0.0  0.469  ...     17.8  396.90   9.14    21.6      OLD\n",
              "2    0.02729   0.0   7.07   0.0  0.469  ...     17.8  392.83   4.03    34.7      OLD\n",
              "3    0.03237   0.0   2.18   0.0  0.458  ...     18.7  394.63   2.94    33.4     USED\n",
              "4    0.06905   0.0   2.18   0.0  0.458  ...     18.7  396.90   5.33    36.2     USED\n",
              "..       ...   ...    ...   ...    ...  ...      ...     ...    ...     ...      ...\n",
              "501  0.06263   0.0  11.93   0.0  0.573  ...     21.0  391.99   9.67    22.4      OLD\n",
              "502  0.04527   0.0  11.93   0.0  0.573  ...     21.0  396.90   9.08    20.6      OLD\n",
              "503  0.06076   0.0  11.93   0.0  0.573  ...     21.0  396.90   5.64    23.9   CREAKY\n",
              "504  0.10959   0.0  11.93   0.0  0.573  ...     21.0  393.45   6.48    22.0   CREAKY\n",
              "505  0.04741   0.0  11.93   0.0  0.573  ...     21.0  396.90   7.88    11.9   CREAKY\n",
              "\n",
              "[506 rows x 15 columns]"
            ]
          },
          "metadata": {
            "tags": []
          },
          "execution_count": 6
        }
      ]
    },
    {
      "cell_type": "code",
      "metadata": {
        "colab": {
          "base_uri": "https://localhost:8080/"
        },
        "id": "RTo0VCyroY81",
        "outputId": "a49af07b-eb45-4fcf-b429-20956de25a11"
      },
      "source": [
        "bostonDF.info()"
      ],
      "execution_count": 7,
      "outputs": [
        {
          "output_type": "stream",
          "text": [
            "<class 'pandas.core.frame.DataFrame'>\n",
            "RangeIndex: 506 entries, 0 to 505\n",
            "Data columns (total 15 columns):\n",
            " #   Column   Non-Null Count  Dtype  \n",
            "---  ------   --------------  -----  \n",
            " 0   CRIM     506 non-null    float64\n",
            " 1   ZN       506 non-null    float64\n",
            " 2   INDUS    506 non-null    float64\n",
            " 3   CHAS     506 non-null    float64\n",
            " 4   NOX      506 non-null    float64\n",
            " 5   RM       506 non-null    float64\n",
            " 6   AGE      506 non-null    float64\n",
            " 7   DIS      506 non-null    float64\n",
            " 8   RAD      506 non-null    float64\n",
            " 9   TAX      506 non-null    float64\n",
            " 10  PTRATIO  506 non-null    float64\n",
            " 11  B        506 non-null    float64\n",
            " 12  LSTAT    506 non-null    float64\n",
            " 13  TARGET   506 non-null    float64\n",
            " 14  AGE_BIN  506 non-null    object \n",
            "dtypes: float64(14), object(1)\n",
            "memory usage: 59.4+ KB\n"
          ],
          "name": "stdout"
        }
      ]
    },
    {
      "cell_type": "code",
      "metadata": {
        "colab": {
          "base_uri": "https://localhost:8080/"
        },
        "id": "BLpEaxJ4uaNe",
        "outputId": "e8066adf-dcb6-4b1f-d991-f3929544d2a0"
      },
      "source": [
        "bostonDF.memory_usage(deep=True)"
      ],
      "execution_count": 8,
      "outputs": [
        {
          "output_type": "execute_result",
          "data": {
            "text/plain": [
              "Index        128\n",
              "CRIM        4048\n",
              "ZN          4048\n",
              "INDUS       4048\n",
              "CHAS        4048\n",
              "NOX         4048\n",
              "RM          4048\n",
              "AGE         4048\n",
              "DIS         4048\n",
              "RAD         4048\n",
              "TAX         4048\n",
              "PTRATIO     4048\n",
              "B           4048\n",
              "LSTAT       4048\n",
              "TARGET      4048\n",
              "AGE_BIN    42661\n",
              "dtype: int64"
            ]
          },
          "metadata": {
            "tags": []
          },
          "execution_count": 8
        }
      ]
    },
    {
      "cell_type": "code",
      "metadata": {
        "id": "3rLKW5lLuaP0"
      },
      "source": [
        ""
      ],
      "execution_count": 8,
      "outputs": []
    },
    {
      "cell_type": "markdown",
      "metadata": {
        "id": "uAStQOytBqlK"
      },
      "source": [
        "# Preprocessing"
      ]
    },
    {
      "cell_type": "code",
      "metadata": {
        "id": "USBqV7LiFzBS"
      },
      "source": [
        "class ColumnSelector(BaseEstimator, TransformerMixin):\n",
        "    def __init__(self, columns):\n",
        "        self.columns = columns\n",
        "\n",
        "    def fit(self, X, y=None):\n",
        "        return self\n",
        "\n",
        "    def transform(self, X):\n",
        "        assert isinstance(X, pd.DataFrame)\n",
        "\n",
        "        try:\n",
        "            return X[self.columns]\n",
        "        except KeyError:\n",
        "            cols_error = list(set(self.columns) - set(X.columns))\n",
        "            raise KeyError(\"The DataFrame does not include the columns: %s\" % cols_error)\n",
        "\n",
        "\n",
        "class TypeSelector(BaseEstimator, TransformerMixin):\n",
        "    def __init__(self, dtype):\n",
        "        self.dtype = dtype\n",
        "\n",
        "    def fit(self, X, y=None):\n",
        "        return self\n",
        "\n",
        "    def transform(self, X):\n",
        "        assert isinstance(X, pd.DataFrame)\n",
        "        return X.select_dtypes(include=[self.dtype])"
      ],
      "execution_count": 9,
      "outputs": []
    },
    {
      "cell_type": "code",
      "metadata": {
        "id": "KX1wXKaAF28D"
      },
      "source": [
        "bostonDF['AGE_BIN'] = bostonDF['AGE_BIN'].astype('category')\n",
        "bostonDF = bostonDF.drop('AGE', axis=1)"
      ],
      "execution_count": 10,
      "outputs": []
    },
    {
      "cell_type": "code",
      "metadata": {
        "id": "F5uAyvWEF2-i"
      },
      "source": [
        "process = make_pipeline(\n",
        "    FeatureUnion(transformer_list=[\n",
        "        (\"numeric_features\", make_pipeline(\n",
        "            TypeSelector(np.number),\n",
        "            StandardScaler()\n",
        "        )),\n",
        "        (\"categorical_features\", make_pipeline(\n",
        "            TypeSelector(\"category\"),\n",
        "            OneHotEncoder(categories='auto', drop='first')\n",
        "        ))\n",
        "    ])\n",
        ")\n"
      ],
      "execution_count": 11,
      "outputs": []
    },
    {
      "cell_type": "markdown",
      "metadata": {
        "id": "TrLlxhV4h8oj"
      },
      "source": [
        "# Model"
      ]
    },
    {
      "cell_type": "markdown",
      "metadata": {
        "id": "ACgO73p_iDyO"
      },
      "source": [
        "## Tracking"
      ]
    },
    {
      "cell_type": "code",
      "metadata": {
        "id": "dFYk0W7Hh-p5"
      },
      "source": [
        "resultsDF = pd.DataFrame(columns=['MAE', 'MSE', 'RMSE'])\n",
        "compareDF = pd.DataFrame()"
      ],
      "execution_count": 12,
      "outputs": []
    },
    {
      "cell_type": "markdown",
      "metadata": {
        "id": "7VP5cpe4imSv"
      },
      "source": [
        "## Fit"
      ]
    },
    {
      "cell_type": "code",
      "metadata": {
        "colab": {
          "base_uri": "https://localhost:8080/"
        },
        "id": "N6WL-0aRiEyK",
        "outputId": "03b55453-d678-496e-9f3b-5dfbd6bb3d09"
      },
      "source": [
        "df = bostonDF.copy()\n",
        "y = df['TARGET']\n",
        "X = df.drop('TARGET', axis=1)\n",
        "X_train, X_test, y_train, y_test = train_test_split(X, y, test_size=0.2, random_state=1337)\n",
        "\n",
        "clf = LinearRegression()\n",
        "pipe = Pipeline(steps=[('process', process), ('regression', clf)])\n",
        "pipe.fit(X_train, y_train)\n",
        "\n",
        "pred = pipe.predict(X_test)\n",
        "mae  = mean_absolute_error(y_test, pred)\n",
        "mse  = mean_squared_error(y_test, pred)\n",
        "rmse = math.sqrt(mse)\n",
        "\n",
        "print('MAE  = {:.2f}'.format(mae))\n",
        "print('MSE  = {:.2f}'.format(mse))\n",
        "print('RMSE = {:.2f}'.format(rmse))\n",
        "\n",
        "resultsDF.loc['OLS'] = [mae, mse, rmse]\n",
        "compareDF = pd.concat([compareDF, pd.DataFrame(clf.coef_)], axis=1)"
      ],
      "execution_count": 13,
      "outputs": [
        {
          "output_type": "stream",
          "text": [
            "MAE  = 3.26\n",
            "MSE  = 23.35\n",
            "RMSE = 4.83\n"
          ],
          "name": "stdout"
        }
      ]
    },
    {
      "cell_type": "markdown",
      "metadata": {
        "id": "Jds_qgMu6awW"
      },
      "source": [
        "# Regularization\n",
        "Adding features to Linear Regression will always have the effect of improving R-Squared.  To mitigate the chance of overfitting (fitting noise in the data) we want to penalize higher larger coefficients using L1 or L2 Norms.  The choice of L1 or L2 has an important effect."
      ]
    },
    {
      "cell_type": "markdown",
      "metadata": {
        "id": "UVftgjiH6aBC"
      },
      "source": [
        "## Norms\n",
        "* Norm is the length of all vectors in a space\n",
        "* L1 Norm\n",
        " * Manhattan Distance\n",
        " * Sum of absolute values of coefficients\n",
        "* L2 Norm\n",
        " * Euclidean Distance\n",
        " * Sum of squared coefficients\n",
        "* L1 and / or L2 are added to the cost function\n",
        " * Large coefficients result in higher penalty"
      ]
    },
    {
      "cell_type": "markdown",
      "metadata": {
        "id": "gY_HqAUA8rkD"
      },
      "source": [
        "![](https://qph.fs.quoracdn.net/main-qimg-4487048edfabdb1b039c854042ba376b.webp)"
      ]
    },
    {
      "cell_type": "markdown",
      "metadata": {
        "id": "mP2TMvuV6mJ7"
      },
      "source": [
        "# Lasso - L1 Regularization\n",
        "\n",
        "![](https://www.analyticsvidhya.com/wp-content/uploads/2016/01/eq8-1.png)"
      ]
    },
    {
      "cell_type": "markdown",
      "metadata": {
        "id": "Bxv9HBR67Oed"
      },
      "source": [
        "## Model"
      ]
    },
    {
      "cell_type": "code",
      "metadata": {
        "colab": {
          "base_uri": "https://localhost:8080/"
        },
        "id": "2UpWOwdy6v2M",
        "outputId": "07f4ce60-0126-4eb1-cca8-847753600a76"
      },
      "source": [
        "df = bostonDF.copy()\n",
        "y = df['TARGET']\n",
        "X = df.drop('TARGET', axis=1)\n",
        "X_train, X_test, y_train, y_test = train_test_split(X, y, test_size=0.2, random_state=1337)\n",
        "\n",
        "clf = Lasso()\n",
        "pipe = Pipeline(steps=[('process', process), ('regression', clf)])\n",
        "pipe.fit(X_train, y_train)\n",
        "\n",
        "pred = pipe.predict(X_test)\n",
        "mae  = mean_absolute_error(y_test, pred)\n",
        "mse  = mean_squared_error(y_test, pred)\n",
        "rmse = math.sqrt(mse)\n",
        "\n",
        "print('MAE  = {:.2f}'.format(mae))\n",
        "print('MSE  = {:.2f}'.format(mse))\n",
        "print('RMSE = {:.2f}'.format(rmse))\n",
        "resultsDF.loc['Lasso'] = [mae, mse, rmse]\n",
        "compareDF = pd.concat([compareDF, pd.DataFrame(clf.coef_)], axis=1)"
      ],
      "execution_count": 14,
      "outputs": [
        {
          "output_type": "stream",
          "text": [
            "MAE  = 3.85\n",
            "MSE  = 33.71\n",
            "RMSE = 5.81\n"
          ],
          "name": "stdout"
        }
      ]
    },
    {
      "cell_type": "markdown",
      "metadata": {
        "id": "DCpVMC9l6zj2"
      },
      "source": [
        "## Alpha Hyperparameter"
      ]
    },
    {
      "cell_type": "code",
      "metadata": {
        "colab": {
          "base_uri": "https://localhost:8080/"
        },
        "id": "BFiGUymK62bh",
        "outputId": "8fe66f52-0196-483f-bf79-38b0e5a3e175"
      },
      "source": [
        "hyperDF = pd.DataFrame()\n",
        "alpha = [0.0, 0.05, 0.25, 0.5, 0.75, 1.0]\n",
        "cols  = []\n",
        "for a in alpha:\n",
        "    col = 'Alpha-{}'.format(a)\n",
        "    clf = Lasso(alpha=a)\n",
        "    pipe = Pipeline(steps=[('process', process), ('regression', clf)])\n",
        "    pipe.fit(X_train, y_train)\n",
        "    hyperDF[col] = clf.coef_\n",
        "hyperDF = hyperDF.sort_values('Alpha-0.0')"
      ],
      "execution_count": 15,
      "outputs": [
        {
          "output_type": "stream",
          "text": [
            "/usr/local/lib/python3.6/dist-packages/sklearn/pipeline.py:354: UserWarning: With alpha=0, this algorithm does not converge well. You are advised to use the LinearRegression estimator\n",
            "  self._final_estimator.fit(Xt, y, **fit_params)\n",
            "/usr/local/lib/python3.6/dist-packages/sklearn/linear_model/_coordinate_descent.py:460: ConvergenceWarning: Objective did not converge. You might want to increase the number of iterations. Duality gap: 4328.70008603678, tolerance: 3.42309674009901\n",
            "  max_iter, tol, rng, random, positive)\n"
          ],
          "name": "stderr"
        }
      ]
    },
    {
      "cell_type": "code",
      "metadata": {
        "colab": {
          "base_uri": "https://localhost:8080/",
          "height": 516
        },
        "id": "42HB7-3H62yw",
        "outputId": "043dfb17-ba0c-41d5-8bae-c026f46481d4"
      },
      "source": [
        "f, (ax1, ax2, ax3) = plt.subplots(1, 3, figsize=(12,8), sharey=True)\n",
        "ax1 = hyperDF['Alpha-0.0'].plot.bar(ax=ax1)\n",
        "ax1.set_title('Lasso - Alpha 0.0')\n",
        "ax2 = hyperDF['Alpha-0.25'].plot.bar(ax=ax2)\n",
        "ax2.set_title('Lasso - Alpha 0.25')\n",
        "ax3 = hyperDF['Alpha-1.0'].plot.bar(ax=ax3)\n",
        "ax3.set_title('Lasso - Alpha 1.0')"
      ],
      "execution_count": 16,
      "outputs": [
        {
          "output_type": "execute_result",
          "data": {
            "text/plain": [
              "Text(0.5, 1.0, 'Lasso - Alpha 1.0')"
            ]
          },
          "metadata": {
            "tags": []
          },
          "execution_count": 16
        },
        {
          "output_type": "display_data",
          "data": {
            "image/png": "[encoded data removed]",
            "text/plain": [
              "<Figure size 864x576 with 3 Axes>"
            ]
          },
          "metadata": {
            "tags": [],
            "needs_background": "light"
          }
        }
      ]
    },
    {
      "cell_type": "markdown",
      "metadata": {
        "id": "gsBDhb9w66id"
      },
      "source": [
        "# Ridge - L2 Regularization\n",
        "\n",
        "![](https://www.analyticsvidhya.com/wp-content/uploads/2016/01/eq5-1.png)"
      ]
    },
    {
      "cell_type": "markdown",
      "metadata": {
        "id": "fYSm7zwC7JH0"
      },
      "source": [
        "## Model"
      ]
    },
    {
      "cell_type": "code",
      "metadata": {
        "colab": {
          "base_uri": "https://localhost:8080/"
        },
        "id": "M9CysPSg69QC",
        "outputId": "8a318be6-91f9-48ea-c5a7-8bfdf8a67ad2"
      },
      "source": [
        "df = bostonDF.copy()\n",
        "y = df['TARGET']\n",
        "X = df.drop('TARGET', axis=1)\n",
        "X_train, X_test, y_train, y_test = train_test_split(X, y, test_size=0.2, random_state=1337)\n",
        "\n",
        "clf = Ridge()\n",
        "pipe = Pipeline(steps=[('process', process), ('regression', clf)])\n",
        "pipe.fit(X_train, y_train)\n",
        "\n",
        "pred = pipe.predict(X_test)\n",
        "mae  = mean_absolute_error(y_test, pred)\n",
        "mse  = mean_squared_error(y_test, pred)\n",
        "rmse = math.sqrt(mse)\n",
        "\n",
        "print('MAE  = {:.2f}'.format(mae))\n",
        "print('MSE  = {:.2f}'.format(mse))\n",
        "print('RMSE = {:.2f}'.format(rmse))\n",
        "resultsDF.loc['Ridge'] = [mae, mse, rmse]\n",
        "compareDF = pd.concat([compareDF, pd.DataFrame(clf.coef_)], axis=1)"
      ],
      "execution_count": 17,
      "outputs": [
        {
          "output_type": "stream",
          "text": [
            "MAE  = 3.25\n",
            "MSE  = 23.40\n",
            "RMSE = 4.84\n"
          ],
          "name": "stdout"
        }
      ]
    },
    {
      "cell_type": "markdown",
      "metadata": {
        "id": "cZ526psa7At9"
      },
      "source": [
        "## Alpha Hyperparameter"
      ]
    },
    {
      "cell_type": "code",
      "metadata": {
        "id": "5qJYWZwU7Cz_"
      },
      "source": [
        "hyperDF = pd.DataFrame()\n",
        "alpha = [0.0, 0.05, 0.25, 0.5, 0.75, 1.0, 500.0]\n",
        "cols  = []\n",
        "for a in alpha:\n",
        "    col = 'Ridge-{}'.format(a)\n",
        "    clf = Ridge(alpha=a)\n",
        "    pipe = Pipeline(steps=[('process', process), ('regression', clf)])\n",
        "    pipe.fit(X_train, y_train)\n",
        "    hyperDF[col] = clf.coef_\n",
        "hyperDF = hyperDF.sort_values('Ridge-0.0')"
      ],
      "execution_count": 18,
      "outputs": []
    },
    {
      "cell_type": "code",
      "metadata": {
        "colab": {
          "base_uri": "https://localhost:8080/",
          "height": 516
        },
        "id": "oZf92oWp7FGa",
        "outputId": "7b76c648-29b9-4de0-e82c-815c48d6577b"
      },
      "source": [
        "f, (ax1, ax2, ax3) = plt.subplots(1, 3, figsize=(12,8), sharey=True)\n",
        "ax1 = hyperDF['Ridge-0.0'].plot.bar(ax=ax1)\n",
        "ax1.set_title('Ridge - Alpha 0.0')\n",
        "ax2 = hyperDF['Ridge-1.0'].plot.bar(ax=ax2)\n",
        "ax2.set_title('Ridge - Alpha 1.0')\n",
        "ax3 = hyperDF['Ridge-500.0'].plot.bar(ax=ax3)\n",
        "ax3.set_title('Ridge - Alpha 500.0')"
      ],
      "execution_count": 19,
      "outputs": [
        {
          "output_type": "execute_result",
          "data": {
            "text/plain": [
              "Text(0.5, 1.0, 'Ridge - Alpha 500.0')"
            ]
          },
          "metadata": {
            "tags": []
          },
          "execution_count": 19
        },
        {
          "output_type": "display_data",
          "data": {
            "image/png": "[encoded data removed]",
            "text/plain": [
              "<Figure size 864x576 with 3 Axes>"
            ]
          },
          "metadata": {
            "tags": [],
            "needs_background": "light"
          }
        }
      ]
    },
    {
      "cell_type": "markdown",
      "metadata": {
        "id": "XRnm5YHk7R_N"
      },
      "source": [
        "# Ridge vs Lasso\n",
        "* Lasso moves several exogenous variables to 0.0"
      ]
    },
    {
      "cell_type": "code",
      "metadata": {
        "colab": {
          "base_uri": "https://localhost:8080/",
          "height": 516
        },
        "id": "N7fmm8tH7T3a",
        "outputId": "120f2835-2f6e-4dae-beb4-881e3e2cb0b4"
      },
      "source": [
        "fig, ax = plt.subplots(figsize=(10,8))\n",
        "compareDF.columns = ['OLS', 'Lasso', 'Ridge']\n",
        "compareDF = compareDF.sort_values('OLS')\n",
        "plt.title('Comparison of Model Components')\n",
        "plt.ylabel('Coefficient Value')\n",
        "compareDF[['OLS', 'Ridge', 'Lasso']].plot.bar(ax=ax)"
      ],
      "execution_count": 20,
      "outputs": [
        {
          "output_type": "execute_result",
          "data": {
            "text/plain": [
              "<matplotlib.axes._subplots.AxesSubplot at 0x7f96f03c4c88>"
            ]
          },
          "metadata": {
            "tags": []
          },
          "execution_count": 20
        },
        {
          "output_type": "display_data",
          "data": {
            "image/png": "[encoded data removed]",
            "text/plain": [
              "<Figure size 720x576 with 1 Axes>"
            ]
          },
          "metadata": {
            "tags": [],
            "needs_background": "light"
          }
        }
      ]
    },
    {
      "cell_type": "markdown",
      "metadata": {
        "id": "Qmrbv4UG7ctO"
      },
      "source": [
        "# ElasticNet - Lasso + Ridge"
      ]
    },
    {
      "cell_type": "code",
      "metadata": {
        "colab": {
          "base_uri": "https://localhost:8080/"
        },
        "id": "8NnMem0L7cEz",
        "outputId": "56a48d8f-1df7-4ca3-8919-1b6dc93e5266"
      },
      "source": [
        "df = bostonDF.copy()\n",
        "y = df['TARGET']\n",
        "X = df.drop('TARGET', axis=1)\n",
        "X_train, X_test, y_train, y_test = train_test_split(X, y, test_size=0.2, random_state=1337)\n",
        "\n",
        "for l1 in np.arange(0.1, 1, 0.1):\n",
        "    clf = ElasticNet(l1_ratio=l1)\n",
        "    pipe = Pipeline(steps=[('process', process), ('regression', clf)])\n",
        "    pipe.fit(X_train, y_train)\n",
        "\n",
        "    pred = pipe.predict(X_test)\n",
        "    mae  = mean_absolute_error(y_test, pred)\n",
        "    mse  = mean_squared_error(y_test, pred)\n",
        "    rmse = math.sqrt(mse)\n",
        "    classifier = 'ElasticNet - L1={:.1f}  L2={:.1f}'.format(l1, 1.0 - l1)\n",
        "    print ('{} MAE {:.3f} MSE {:.3f} RMSE {:.3f}'.format(classifier, mae, mse, rmse))\n",
        "    resultsDF.loc[classifier] = [mae, mse, rmse]"
      ],
      "execution_count": 21,
      "outputs": [
        {
          "output_type": "stream",
          "text": [
            "ElasticNet - L1=0.1  L2=0.9 MAE 4.002 MSE 34.194 RMSE 5.848\n",
            "ElasticNet - L1=0.2  L2=0.8 MAE 3.977 MSE 34.130 RMSE 5.842\n",
            "ElasticNet - L1=0.3  L2=0.7 MAE 3.965 MSE 34.183 RMSE 5.847\n",
            "ElasticNet - L1=0.4  L2=0.6 MAE 3.970 MSE 34.387 RMSE 5.864\n",
            "ElasticNet - L1=0.5  L2=0.5 MAE 3.953 MSE 34.248 RMSE 5.852\n",
            "ElasticNet - L1=0.6  L2=0.4 MAE 3.928 MSE 34.032 RMSE 5.834\n",
            "ElasticNet - L1=0.7  L2=0.3 MAE 3.901 MSE 33.865 RMSE 5.819\n",
            "ElasticNet - L1=0.8  L2=0.2 MAE 3.883 MSE 33.758 RMSE 5.810\n",
            "ElasticNet - L1=0.9  L2=0.1 MAE 3.867 MSE 33.772 RMSE 5.811\n"
          ],
          "name": "stdout"
        }
      ]
    },
    {
      "cell_type": "markdown",
      "metadata": {
        "id": "r7JfQtha7ipf"
      },
      "source": [
        "# Comparison\n",
        "* ElasticNet L1 = 1.0 == Lasso\n",
        "* ElasticNet L2 = 1.0 == Ridge (Warning unsable l1_ratio < 0.01)\n",
        "* Lasso or Ridge with Alpha = 0.0 == OLS"
      ]
    },
    {
      "cell_type": "markdown",
      "metadata": {
        "id": "yoWbOSRC7qKp"
      },
      "source": [
        "## Top by RMSE"
      ]
    },
    {
      "cell_type": "code",
      "metadata": {
        "colab": {
          "base_uri": "https://localhost:8080/",
          "height": 421
        },
        "id": "UhV0cH0L7jdD",
        "outputId": "5e15d418-23e3-46fe-fba0-ed36a9b42e17"
      },
      "source": [
        "resultsDF.sort_values('RMSE')"
      ],
      "execution_count": 22,
      "outputs": [
        {
          "output_type": "execute_result",
          "data": {
            "text/html": [
              "<div>\n",
              "<style scoped>\n",
              "    .dataframe tbody tr th:only-of-type {\n",
              "        vertical-align: middle;\n",
              "    }\n",
              "\n",
              "    .dataframe tbody tr th {\n",
              "        vertical-align: top;\n",
              "    }\n",
              "\n",
              "    .dataframe thead th {\n",
              "        text-align: right;\n",
              "    }\n",
              "</style>\n",
              "<table border=\"1\" class=\"dataframe\">\n",
              "  <thead>\n",
              "    <tr style=\"text-align: right;\">\n",
              "      <th></th>\n",
              "      <th>MAE</th>\n",
              "      <th>MSE</th>\n",
              "      <th>RMSE</th>\n",
              "    </tr>\n",
              "  </thead>\n",
              "  <tbody>\n",
              "    <tr>\n",
              "      <th>OLS</th>\n",
              "      <td>3.255763</td>\n",
              "      <td>23.348944</td>\n",
              "      <td>4.832074</td>\n",
              "    </tr>\n",
              "    <tr>\n",
              "      <th>Ridge</th>\n",
              "      <td>3.252144</td>\n",
              "      <td>23.397840</td>\n",
              "      <td>4.837131</td>\n",
              "    </tr>\n",
              "    <tr>\n",
              "      <th>Lasso</th>\n",
              "      <td>3.850945</td>\n",
              "      <td>33.710895</td>\n",
              "      <td>5.806108</td>\n",
              "    </tr>\n",
              "    <tr>\n",
              "      <th>ElasticNet - L1=0.8  L2=0.2</th>\n",
              "      <td>3.883378</td>\n",
              "      <td>33.758333</td>\n",
              "      <td>5.810192</td>\n",
              "    </tr>\n",
              "    <tr>\n",
              "      <th>ElasticNet - L1=0.9  L2=0.1</th>\n",
              "      <td>3.866774</td>\n",
              "      <td>33.771558</td>\n",
              "      <td>5.811330</td>\n",
              "    </tr>\n",
              "    <tr>\n",
              "      <th>ElasticNet - L1=0.7  L2=0.3</th>\n",
              "      <td>3.900804</td>\n",
              "      <td>33.864504</td>\n",
              "      <td>5.819322</td>\n",
              "    </tr>\n",
              "    <tr>\n",
              "      <th>ElasticNet - L1=0.6  L2=0.4</th>\n",
              "      <td>3.927706</td>\n",
              "      <td>34.031639</td>\n",
              "      <td>5.833664</td>\n",
              "    </tr>\n",
              "    <tr>\n",
              "      <th>ElasticNet - L1=0.2  L2=0.8</th>\n",
              "      <td>3.977364</td>\n",
              "      <td>34.130092</td>\n",
              "      <td>5.842097</td>\n",
              "    </tr>\n",
              "    <tr>\n",
              "      <th>ElasticNet - L1=0.3  L2=0.7</th>\n",
              "      <td>3.965379</td>\n",
              "      <td>34.183209</td>\n",
              "      <td>5.846641</td>\n",
              "    </tr>\n",
              "    <tr>\n",
              "      <th>ElasticNet - L1=0.1  L2=0.9</th>\n",
              "      <td>4.002250</td>\n",
              "      <td>34.193813</td>\n",
              "      <td>5.847548</td>\n",
              "    </tr>\n",
              "    <tr>\n",
              "      <th>ElasticNet - L1=0.5  L2=0.5</th>\n",
              "      <td>3.952527</td>\n",
              "      <td>34.247912</td>\n",
              "      <td>5.852172</td>\n",
              "    </tr>\n",
              "    <tr>\n",
              "      <th>ElasticNet - L1=0.4  L2=0.6</th>\n",
              "      <td>3.970090</td>\n",
              "      <td>34.387110</td>\n",
              "      <td>5.864052</td>\n",
              "    </tr>\n",
              "  </tbody>\n",
              "</table>\n",
              "</div>"
            ],
            "text/plain": [
              "                                  MAE        MSE      RMSE\n",
              "OLS                          3.255763  23.348944  4.832074\n",
              "Ridge                        3.252144  23.397840  4.837131\n",
              "Lasso                        3.850945  33.710895  5.806108\n",
              "ElasticNet - L1=0.8  L2=0.2  3.883378  33.758333  5.810192\n",
              "ElasticNet - L1=0.9  L2=0.1  3.866774  33.771558  5.811330\n",
              "ElasticNet - L1=0.7  L2=0.3  3.900804  33.864504  5.819322\n",
              "ElasticNet - L1=0.6  L2=0.4  3.927706  34.031639  5.833664\n",
              "ElasticNet - L1=0.2  L2=0.8  3.977364  34.130092  5.842097\n",
              "ElasticNet - L1=0.3  L2=0.7  3.965379  34.183209  5.846641\n",
              "ElasticNet - L1=0.1  L2=0.9  4.002250  34.193813  5.847548\n",
              "ElasticNet - L1=0.5  L2=0.5  3.952527  34.247912  5.852172\n",
              "ElasticNet - L1=0.4  L2=0.6  3.970090  34.387110  5.864052"
            ]
          },
          "metadata": {
            "tags": []
          },
          "execution_count": 22
        }
      ]
    },
    {
      "cell_type": "markdown",
      "metadata": {
        "id": "vSjZuMfv7sdS"
      },
      "source": [
        "## Top by MAE"
      ]
    },
    {
      "cell_type": "code",
      "metadata": {
        "colab": {
          "base_uri": "https://localhost:8080/",
          "height": 421
        },
        "id": "BmJDAkYO7suZ",
        "outputId": "ec12ede6-60e6-47e6-b1a9-ab317c49fa14"
      },
      "source": [
        "resultsDF.sort_values('MAE')"
      ],
      "execution_count": 23,
      "outputs": [
        {
          "output_type": "execute_result",
          "data": {
            "text/html": [
              "<div>\n",
              "<style scoped>\n",
              "    .dataframe tbody tr th:only-of-type {\n",
              "        vertical-align: middle;\n",
              "    }\n",
              "\n",
              "    .dataframe tbody tr th {\n",
              "        vertical-align: top;\n",
              "    }\n",
              "\n",
              "    .dataframe thead th {\n",
              "        text-align: right;\n",
              "    }\n",
              "</style>\n",
              "<table border=\"1\" class=\"dataframe\">\n",
              "  <thead>\n",
              "    <tr style=\"text-align: right;\">\n",
              "      <th></th>\n",
              "      <th>MAE</th>\n",
              "      <th>MSE</th>\n",
              "      <th>RMSE</th>\n",
              "    </tr>\n",
              "  </thead>\n",
              "  <tbody>\n",
              "    <tr>\n",
              "      <th>Ridge</th>\n",
              "      <td>3.252144</td>\n",
              "      <td>23.397840</td>\n",
              "      <td>4.837131</td>\n",
              "    </tr>\n",
              "    <tr>\n",
              "      <th>OLS</th>\n",
              "      <td>3.255763</td>\n",
              "      <td>23.348944</td>\n",
              "      <td>4.832074</td>\n",
              "    </tr>\n",
              "    <tr>\n",
              "      <th>Lasso</th>\n",
              "      <td>3.850945</td>\n",
              "      <td>33.710895</td>\n",
              "      <td>5.806108</td>\n",
              "    </tr>\n",
              "    <tr>\n",
              "      <th>ElasticNet - L1=0.9  L2=0.1</th>\n",
              "      <td>3.866774</td>\n",
              "      <td>33.771558</td>\n",
              "      <td>5.811330</td>\n",
              "    </tr>\n",
              "    <tr>\n",
              "      <th>ElasticNet - L1=0.8  L2=0.2</th>\n",
              "      <td>3.883378</td>\n",
              "      <td>33.758333</td>\n",
              "      <td>5.810192</td>\n",
              "    </tr>\n",
              "    <tr>\n",
              "      <th>ElasticNet - L1=0.7  L2=0.3</th>\n",
              "      <td>3.900804</td>\n",
              "      <td>33.864504</td>\n",
              "      <td>5.819322</td>\n",
              "    </tr>\n",
              "    <tr>\n",
              "      <th>ElasticNet - L1=0.6  L2=0.4</th>\n",
              "      <td>3.927706</td>\n",
              "      <td>34.031639</td>\n",
              "      <td>5.833664</td>\n",
              "    </tr>\n",
              "    <tr>\n",
              "      <th>ElasticNet - L1=0.5  L2=0.5</th>\n",
              "      <td>3.952527</td>\n",
              "      <td>34.247912</td>\n",
              "      <td>5.852172</td>\n",
              "    </tr>\n",
              "    <tr>\n",
              "      <th>ElasticNet - L1=0.3  L2=0.7</th>\n",
              "      <td>3.965379</td>\n",
              "      <td>34.183209</td>\n",
              "      <td>5.846641</td>\n",
              "    </tr>\n",
              "    <tr>\n",
              "      <th>ElasticNet - L1=0.4  L2=0.6</th>\n",
              "      <td>3.970090</td>\n",
              "      <td>34.387110</td>\n",
              "      <td>5.864052</td>\n",
              "    </tr>\n",
              "    <tr>\n",
              "      <th>ElasticNet - L1=0.2  L2=0.8</th>\n",
              "      <td>3.977364</td>\n",
              "      <td>34.130092</td>\n",
              "      <td>5.842097</td>\n",
              "    </tr>\n",
              "    <tr>\n",
              "      <th>ElasticNet - L1=0.1  L2=0.9</th>\n",
              "      <td>4.002250</td>\n",
              "      <td>34.193813</td>\n",
              "      <td>5.847548</td>\n",
              "    </tr>\n",
              "  </tbody>\n",
              "</table>\n",
              "</div>"
            ],
            "text/plain": [
              "                                  MAE        MSE      RMSE\n",
              "Ridge                        3.252144  23.397840  4.837131\n",
              "OLS                          3.255763  23.348944  4.832074\n",
              "Lasso                        3.850945  33.710895  5.806108\n",
              "ElasticNet - L1=0.9  L2=0.1  3.866774  33.771558  5.811330\n",
              "ElasticNet - L1=0.8  L2=0.2  3.883378  33.758333  5.810192\n",
              "ElasticNet - L1=0.7  L2=0.3  3.900804  33.864504  5.819322\n",
              "ElasticNet - L1=0.6  L2=0.4  3.927706  34.031639  5.833664\n",
              "ElasticNet - L1=0.5  L2=0.5  3.952527  34.247912  5.852172\n",
              "ElasticNet - L1=0.3  L2=0.7  3.965379  34.183209  5.846641\n",
              "ElasticNet - L1=0.4  L2=0.6  3.970090  34.387110  5.864052\n",
              "ElasticNet - L1=0.2  L2=0.8  3.977364  34.130092  5.842097\n",
              "ElasticNet - L1=0.1  L2=0.9  4.002250  34.193813  5.847548"
            ]
          },
          "metadata": {
            "tags": []
          },
          "execution_count": 23
        }
      ]
    },
    {
      "cell_type": "markdown",
      "metadata": {
        "id": "9Sb0vvoo7zaY"
      },
      "source": [
        "# Notes\n",
        "* Consider regularization as a default for predicting Linear Models\n",
        " * Ridge promotes coefficients close to zero\n",
        " * Lasso promotes sparsity and can be used for feature selection\n",
        " * In this example, Lasso kept 3 - 4 non-zero features + Intercept\n",
        " * Ridge kept all features \n",
        " * Lasso / Ridge can change coefficients quite dramatically (positive to negative) with different levels of alpha\n",
        "* Remember Assumptions\n",
        " * LINE\n",
        " * Inspect Residuals & Prediction Plots\n",
        " * Look for High Leverage Points\n",
        "* Produce multiple metrics \n",
        " * Remember differences between MAE & RMSE\n",
        " * R-Squared is intuitive but limited\n",
        "* Stick to SKlearn if your objective is highest accuracy.\n",
        " * Easy to swap in / out estimators\n",
        " * Pipeline support is helpful\n",
        "* Consider Statsmodel / R if you're modeling Linear Regression and want deep explanatory capabaility\n",
        " * Statsmodel has support for Lasso / Risge with .fit_regularized (0 <= L1_wt <= 1)  "
      ]
    },
    {
      "cell_type": "code",
      "metadata": {
        "id": "_UjaWnRF79aB"
      },
      "source": [
        ""
      ],
      "execution_count": 23,
      "outputs": []
    }
  ]
}