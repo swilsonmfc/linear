{
  "nbformat": 4,
  "nbformat_minor": 0,
  "metadata": {
    "colab": {
      "name": "Camping.ipynb",
      "provenance": [],
      "collapsed_sections": [],
      "toc_visible": true,
      "authorship_tag": "ABX9TyPC2uhCyc83RA1e8OQnCBM4",
      "include_colab_link": true
    },
    "kernelspec": {
      "name": "python3",
      "display_name": "Python 3"
    }
  },
  "cells": [
    {
      "cell_type": "markdown",
      "metadata": {
        "id": "view-in-github",
        "colab_type": "text"
      },
      "source": [
        "<a href=\"https://colab.research.google.com/github/swilsonmfc/linear/blob/main/Camping.ipynb\" target=\"_parent\"><img src=\"https://colab.research.google.com/assets/colab-badge.svg\" alt=\"Open In Colab\"/></a>"
      ]
    },
    {
      "cell_type": "markdown",
      "metadata": {
        "id": "CriK0WPjJQLG"
      },
      "source": [
        "# Camping\n",
        "\n",
        "<img src=\"https://encrypted-tbn0.gstatic.com/images?q=tbn:ANd9GcQjgxE2QpU7Bxqf5qLn7oaegUij4VjXy3tmew&usqp=CAU\" width=\"400\"/>"
      ]
    },
    {
      "cell_type": "markdown",
      "metadata": {
        "id": "72_qRI15KAL9"
      },
      "source": [
        "# Setup"
      ]
    },
    {
      "cell_type": "code",
      "metadata": {
        "id": "46IJ5iSHKDaS"
      },
      "source": [
        "import pandas as pd\n",
        "import numpy as np\n",
        "import matplotlib.pyplot as plt\n",
        "import seaborn as sns\n",
        "\n",
        "from patsy import dmatrices\n",
        "from sklearn.model_selection import train_test_split\n",
        "from sklearn.metrics import mean_absolute_error\n",
        "from sklearn.metrics import mean_squared_error\n",
        "\n",
        "import statsmodels.api as sm\n",
        "import statsmodels.formula as smf\n",
        "from statsmodels.discrete.count_model import ZeroInflatedPoisson\n",
        "from statsmodels.discrete.count_model import ZeroInflatedNegativeBinomialP"
      ],
      "execution_count": 132,
      "outputs": []
    },
    {
      "cell_type": "markdown",
      "metadata": {
        "id": "JgBVgXwoKB3N"
      },
      "source": [
        "# Data"
      ]
    },
    {
      "cell_type": "code",
      "metadata": {
        "id": "xbLJHaw9KOKi"
      },
      "source": [
        "camping_df = pd.read_csv('https://raw.githubusercontent.com/swilsonmfc/linear/main/camping.csv')"
      ],
      "execution_count": 133,
      "outputs": []
    },
    {
      "cell_type": "code",
      "metadata": {
        "colab": {
          "base_uri": "https://localhost:8080/",
          "height": 419
        },
        "id": "Ckwokc71KdVO",
        "outputId": "9c44021d-74c2-4c92-d053-fcb61aa6e772"
      },
      "source": [
        "camping_df"
      ],
      "execution_count": 134,
      "outputs": [
        {
          "output_type": "execute_result",
          "data": {
            "text/html": [
              "<div>\n",
              "<style scoped>\n",
              "    .dataframe tbody tr th:only-of-type {\n",
              "        vertical-align: middle;\n",
              "    }\n",
              "\n",
              "    .dataframe tbody tr th {\n",
              "        vertical-align: top;\n",
              "    }\n",
              "\n",
              "    .dataframe thead th {\n",
              "        text-align: right;\n",
              "    }\n",
              "</style>\n",
              "<table border=\"1\" class=\"dataframe\">\n",
              "  <thead>\n",
              "    <tr style=\"text-align: right;\">\n",
              "      <th></th>\n",
              "      <th>LIVE_BAIT</th>\n",
              "      <th>CAMPER</th>\n",
              "      <th>PERSONS</th>\n",
              "      <th>CHILDREN</th>\n",
              "      <th>FISH_COUNT</th>\n",
              "    </tr>\n",
              "  </thead>\n",
              "  <tbody>\n",
              "    <tr>\n",
              "      <th>0</th>\n",
              "      <td>0</td>\n",
              "      <td>0</td>\n",
              "      <td>1</td>\n",
              "      <td>0</td>\n",
              "      <td>0</td>\n",
              "    </tr>\n",
              "    <tr>\n",
              "      <th>1</th>\n",
              "      <td>1</td>\n",
              "      <td>1</td>\n",
              "      <td>1</td>\n",
              "      <td>0</td>\n",
              "      <td>0</td>\n",
              "    </tr>\n",
              "    <tr>\n",
              "      <th>2</th>\n",
              "      <td>1</td>\n",
              "      <td>0</td>\n",
              "      <td>1</td>\n",
              "      <td>0</td>\n",
              "      <td>0</td>\n",
              "    </tr>\n",
              "    <tr>\n",
              "      <th>3</th>\n",
              "      <td>1</td>\n",
              "      <td>1</td>\n",
              "      <td>2</td>\n",
              "      <td>1</td>\n",
              "      <td>0</td>\n",
              "    </tr>\n",
              "    <tr>\n",
              "      <th>4</th>\n",
              "      <td>1</td>\n",
              "      <td>0</td>\n",
              "      <td>1</td>\n",
              "      <td>0</td>\n",
              "      <td>1</td>\n",
              "    </tr>\n",
              "    <tr>\n",
              "      <th>...</th>\n",
              "      <td>...</td>\n",
              "      <td>...</td>\n",
              "      <td>...</td>\n",
              "      <td>...</td>\n",
              "      <td>...</td>\n",
              "    </tr>\n",
              "    <tr>\n",
              "      <th>245</th>\n",
              "      <td>1</td>\n",
              "      <td>1</td>\n",
              "      <td>2</td>\n",
              "      <td>0</td>\n",
              "      <td>0</td>\n",
              "    </tr>\n",
              "    <tr>\n",
              "      <th>246</th>\n",
              "      <td>1</td>\n",
              "      <td>1</td>\n",
              "      <td>4</td>\n",
              "      <td>3</td>\n",
              "      <td>0</td>\n",
              "    </tr>\n",
              "    <tr>\n",
              "      <th>247</th>\n",
              "      <td>1</td>\n",
              "      <td>1</td>\n",
              "      <td>2</td>\n",
              "      <td>1</td>\n",
              "      <td>0</td>\n",
              "    </tr>\n",
              "    <tr>\n",
              "      <th>248</th>\n",
              "      <td>1</td>\n",
              "      <td>1</td>\n",
              "      <td>3</td>\n",
              "      <td>2</td>\n",
              "      <td>0</td>\n",
              "    </tr>\n",
              "    <tr>\n",
              "      <th>249</th>\n",
              "      <td>1</td>\n",
              "      <td>1</td>\n",
              "      <td>2</td>\n",
              "      <td>1</td>\n",
              "      <td>0</td>\n",
              "    </tr>\n",
              "  </tbody>\n",
              "</table>\n",
              "<p>250 rows × 5 columns</p>\n",
              "</div>"
            ],
            "text/plain": [
              "     LIVE_BAIT  CAMPER  PERSONS  CHILDREN  FISH_COUNT\n",
              "0            0       0        1         0           0\n",
              "1            1       1        1         0           0\n",
              "2            1       0        1         0           0\n",
              "3            1       1        2         1           0\n",
              "4            1       0        1         0           1\n",
              "..         ...     ...      ...       ...         ...\n",
              "245          1       1        2         0           0\n",
              "246          1       1        4         3           0\n",
              "247          1       1        2         1           0\n",
              "248          1       1        3         2           0\n",
              "249          1       1        2         1           0\n",
              "\n",
              "[250 rows x 5 columns]"
            ]
          },
          "metadata": {
            "tags": []
          },
          "execution_count": 134
        }
      ]
    },
    {
      "cell_type": "markdown",
      "metadata": {
        "id": "eRACPJNtKeXH"
      },
      "source": [
        "# Modeling Task\n",
        "* Predict the count of fish caught for a camping party"
      ]
    },
    {
      "cell_type": "markdown",
      "metadata": {
        "id": "2NiAJo7zOHdc"
      },
      "source": [
        "# EDA"
      ]
    },
    {
      "cell_type": "markdown",
      "metadata": {
        "id": "aHsmbD5NQ4-m"
      },
      "source": [
        "## Fish Count\n",
        "* We want to predict the number of fish\n",
        "* Poisson distribution is designed for counts\n",
        "* Lot's of 0 fish caught\n",
        "* One party caught over 140 fish (blast fishing?  Error?)"
      ]
    },
    {
      "cell_type": "code",
      "metadata": {
        "colab": {
          "base_uri": "https://localhost:8080/",
          "height": 500
        },
        "id": "pbLLJlaiQmgG",
        "outputId": "a6746041-9bfb-4e21-99a8-b03183e3d25a"
      },
      "source": [
        "camping_df.FISH_COUNT.hist(bins=30, figsize=(8, 8))"
      ],
      "execution_count": 135,
      "outputs": [
        {
          "output_type": "execute_result",
          "data": {
            "text/plain": [
              "<matplotlib.axes._subplots.AxesSubplot at 0x7ffa4ca704e0>"
            ]
          },
          "metadata": {
            "tags": []
          },
          "execution_count": 135
        },
        {
          "output_type": "display_data",
          "data": {
            "image/png": "[encoded data removed]",
            "text/plain": [
              "<Figure size 576x576 with 1 Axes>"
            ]
          },
          "metadata": {
            "tags": [],
            "needs_background": "light"
          }
        }
      ]
    },
    {
      "cell_type": "code",
      "metadata": {
        "colab": {
          "base_uri": "https://localhost:8080/"
        },
        "id": "IXk0tlcSQqOS",
        "outputId": "4cb0022b-113c-43f8-f553-7c5fb99fe5f0"
      },
      "source": [
        "no_fish = len(camping_df[camping_df.FISH_COUNT == 0])\n",
        "fish    = len(camping_df) - no_fish\n",
        "print(f'There were {len(camping_df)} records')\n",
        "print(f'There were {fish} trips with fish caught')\n",
        "print(f'There were {no_fish} trips with no fish')"
      ],
      "execution_count": 136,
      "outputs": [
        {
          "output_type": "stream",
          "text": [
            "There were 250 records\n",
            "There were 108 trips with fish caught\n",
            "There were 142 trips with no fish\n"
          ],
          "name": "stdout"
        }
      ]
    },
    {
      "cell_type": "markdown",
      "metadata": {
        "id": "n5zXkqkwRioq"
      },
      "source": [
        "## Live Bait\n",
        "* Typical results are similar\n",
        "* Many more outliers with live bair"
      ]
    },
    {
      "cell_type": "code",
      "metadata": {
        "colab": {
          "base_uri": "https://localhost:8080/",
          "height": 595
        },
        "id": "3JdwlpEr9RgT",
        "outputId": "03c463ce-ae41-4b72-f2cc-ea83cb5a823e"
      },
      "source": [
        "camping_df.boxplot('FISH_COUNT', by='LIVE_BAIT', figsize=(8, 8));"
      ],
      "execution_count": 137,
      "outputs": [
        {
          "output_type": "stream",
          "text": [
            "/usr/local/lib/python3.6/dist-packages/numpy/core/_asarray.py:83: VisibleDeprecationWarning: Creating an ndarray from ragged nested sequences (which is a list-or-tuple of lists-or-tuples-or ndarrays with different lengths or shapes) is deprecated. If you meant to do this, you must specify 'dtype=object' when creating the ndarray\n",
            "  return array(a, dtype, copy=False, order=order)\n"
          ],
          "name": "stderr"
        },
        {
          "output_type": "display_data",
          "data": {
            "image/png": "[encoded data removed]",
            "text/plain": [
              "<Figure size 576x576 with 1 Axes>"
            ]
          },
          "metadata": {
            "tags": [],
            "needs_background": "light"
          }
        }
      ]
    },
    {
      "cell_type": "markdown",
      "metadata": {
        "id": "bmmUe59T8Gxp"
      },
      "source": [
        "## Campers\n",
        "* Having a camper appears to be related with more fish"
      ]
    },
    {
      "cell_type": "code",
      "metadata": {
        "colab": {
          "base_uri": "https://localhost:8080/",
          "height": 594
        },
        "id": "Ls8jFAvO90xY",
        "outputId": "cef830bd-818a-4d3a-8df0-1dfc40c9e1b8"
      },
      "source": [
        "camping_df.boxplot('FISH_COUNT', by='CAMPER', figsize=(8, 8));"
      ],
      "execution_count": 138,
      "outputs": [
        {
          "output_type": "stream",
          "text": [
            "/usr/local/lib/python3.6/dist-packages/numpy/core/_asarray.py:83: VisibleDeprecationWarning: Creating an ndarray from ragged nested sequences (which is a list-or-tuple of lists-or-tuples-or ndarrays with different lengths or shapes) is deprecated. If you meant to do this, you must specify 'dtype=object' when creating the ndarray\n",
            "  return array(a, dtype, copy=False, order=order)\n"
          ],
          "name": "stderr"
        },
        {
          "output_type": "display_data",
          "data": {
            "image/png": "[encoded data removed]",
            "text/plain": [
              "<Figure size 576x576 with 1 Axes>"
            ]
          },
          "metadata": {
            "tags": [],
            "needs_background": "light"
          }
        }
      ]
    },
    {
      "cell_type": "markdown",
      "metadata": {
        "id": "CinQ1g7U8G0a"
      },
      "source": [
        "## Persons & Fish\n",
        "* Appears to be positive related"
      ]
    },
    {
      "cell_type": "code",
      "metadata": {
        "colab": {
          "base_uri": "https://localhost:8080/",
          "height": 497
        },
        "id": "guUsfIJR8Lpv",
        "outputId": "8e6651a3-9326-429b-ebd0-1903f64cbd43"
      },
      "source": [
        "camping_df.plot.scatter(x='PERSONS', y='FISH_COUNT', figsize=(8, 8));"
      ],
      "execution_count": 139,
      "outputs": [
        {
          "output_type": "display_data",
          "data": {
            "image/png": "[encoded data removed]",
            "text/plain": [
              "<Figure size 576x576 with 1 Axes>"
            ]
          },
          "metadata": {
            "tags": [],
            "needs_background": "light"
          }
        }
      ]
    },
    {
      "cell_type": "markdown",
      "metadata": {
        "id": "0TeZmOIEdPPu"
      },
      "source": [
        "## Children & Fish\n",
        "* Seems to be negatively related"
      ]
    },
    {
      "cell_type": "code",
      "metadata": {
        "colab": {
          "base_uri": "https://localhost:8080/",
          "height": 497
        },
        "id": "mlXlj8GhdPb4",
        "outputId": "c3f9d3b3-983c-4f5f-e068-62ba8bd2d05c"
      },
      "source": [
        "camping_df.plot.scatter(x='CHILDREN', y='FISH_COUNT', figsize=(8, 8));"
      ],
      "execution_count": 140,
      "outputs": [
        {
          "output_type": "display_data",
          "data": {
            "image/png": "[encoded data removed]",
            "text/plain": [
              "<Figure size 576x576 with 1 Axes>"
            ]
          },
          "metadata": {
            "tags": [],
            "needs_background": "light"
          }
        }
      ]
    },
    {
      "cell_type": "markdown",
      "metadata": {
        "id": "HB4cMOukTzZP"
      },
      "source": [
        "# Train & Test"
      ]
    },
    {
      "cell_type": "code",
      "metadata": {
        "id": "xc8kYxiuTy8N"
      },
      "source": [
        "X = camping_df.copy()\n",
        "y = X.FISH_COUNT\n",
        "X = X.drop(columns=['FISH_COUNT'])\n",
        "X_train, X_test, y_train, y_test = train_test_split(X, y, random_state=599) "
      ],
      "execution_count": 141,
      "outputs": []
    },
    {
      "cell_type": "markdown",
      "metadata": {
        "id": "pRTzb3SwVNtB"
      },
      "source": [
        "# Results"
      ]
    },
    {
      "cell_type": "code",
      "metadata": {
        "id": "0mhqxFXOVPfA"
      },
      "source": [
        "results_df = pd.DataFrame(columns=['MAE', 'RMSE', 'AIC'])"
      ],
      "execution_count": 142,
      "outputs": []
    },
    {
      "cell_type": "markdown",
      "metadata": {
        "id": "75iKqQswxdtF"
      },
      "source": [
        "# Gaussian\n",
        "* Without looking one might try OLS on this dataset"
      ]
    },
    {
      "cell_type": "markdown",
      "metadata": {
        "id": "hPF1W90bxfgV"
      },
      "source": [
        "## Model"
      ]
    },
    {
      "cell_type": "code",
      "metadata": {
        "colab": {
          "base_uri": "https://localhost:8080/"
        },
        "id": "6i4tFTkzxqII",
        "outputId": "8576b72d-25f3-4e18-b037-afb6cae116a7"
      },
      "source": [
        "gm = sm.GLM(endog=y_train, exog=X_train)\n",
        "gm_fit = gm.fit()\n",
        "pred = gm_fit.predict(X_test)\n",
        "mae  = mean_absolute_error(y_test, pred)\n",
        "rmse = mean_squared_error(y_test, pred) ** 0.5\n",
        "results_df.loc['Gaussian'] = [mae, rmse, gm_fit.aic]\n",
        "print(f'Mean Absolute Error    {mae:.2f}')\n",
        "print(f'Root Mean Square Error {rmse:.2f}')"
      ],
      "execution_count": 143,
      "outputs": [
        {
          "output_type": "stream",
          "text": [
            "Mean Absolute Error    5.05\n",
            "Root Mean Square Error 17.95\n"
          ],
          "name": "stdout"
        }
      ]
    },
    {
      "cell_type": "markdown",
      "metadata": {
        "id": "lwC1T59sx9ZN"
      },
      "source": [
        "## Summary"
      ]
    },
    {
      "cell_type": "code",
      "metadata": {
        "colab": {
          "base_uri": "https://localhost:8080/"
        },
        "id": "TfwTtsFzyAgo",
        "outputId": "fa97e999-05e9-4c36-9cfb-200f8e8afe8e"
      },
      "source": [
        "print(gm_fit.summary())"
      ],
      "execution_count": 144,
      "outputs": [
        {
          "output_type": "stream",
          "text": [
            "                 Generalized Linear Model Regression Results                  \n",
            "==============================================================================\n",
            "Dep. Variable:             FISH_COUNT   No. Observations:                  187\n",
            "Model:                            GLM   Df Residuals:                      183\n",
            "Model Family:                Gaussian   Df Model:                            3\n",
            "Link Function:               identity   Scale:                          46.671\n",
            "Method:                          IRLS   Log-Likelihood:                -622.65\n",
            "Date:                Thu, 18 Feb 2021   Deviance:                       8540.9\n",
            "Time:                        14:43:52   Pearson chi2:                 8.54e+03\n",
            "No. Iterations:                     3                                         \n",
            "Covariance Type:            nonrobust                                         \n",
            "==============================================================================\n",
            "                 coef    std err          z      P>|z|      [0.025      0.975]\n",
            "------------------------------------------------------------------------------\n",
            "LIVE_BAIT     -1.3550      1.103     -1.228      0.219      -3.517       0.807\n",
            "CAMPER         1.3885      0.981      1.415      0.157      -0.535       3.312\n",
            "PERSONS        2.6117      0.443      5.902      0.000       1.744       3.479\n",
            "CHILDREN      -4.1491      0.712     -5.826      0.000      -5.545      -2.753\n",
            "==============================================================================\n"
          ],
          "name": "stdout"
        }
      ]
    },
    {
      "cell_type": "markdown",
      "metadata": {
        "id": "gEhGFzB5yhVA"
      },
      "source": [
        "## Residuals\n",
        "* High leverage outlier in the data"
      ]
    },
    {
      "cell_type": "code",
      "metadata": {
        "colab": {
          "base_uri": "https://localhost:8080/",
          "height": 513
        },
        "id": "fEZHY9U_yleW",
        "outputId": "8683f196-314c-45b9-92f4-26974e41b71d"
      },
      "source": [
        "fig = plt.figure(figsize=(8, 8))\n",
        "plt.scatter(y_test, pred)\n",
        "line = np.linspace(0, max(y_test) ,50)\n",
        "plt.plot(line, line, '--', color='red') \n",
        "plt.title('Gaussian Residuals')\n",
        "plt.xlabel('Predicted')\n",
        "plt.ylabel('Actual')\n",
        "plt.show()"
      ],
      "execution_count": 145,
      "outputs": [
        {
          "output_type": "display_data",
          "data": {
            "image/png": "[encoded data removed]",
            "text/plain": [
              "<Figure size 576x576 with 1 Axes>"
            ]
          },
          "metadata": {
            "tags": [],
            "needs_background": "light"
          }
        }
      ]
    },
    {
      "cell_type": "code",
      "metadata": {
        "colab": {
          "base_uri": "https://localhost:8080/",
          "height": 513
        },
        "id": "MsQevZYkzFqT",
        "outputId": "013db259-d38a-4831-f80b-7c754e0647c0"
      },
      "source": [
        "fig = plt.figure(figsize=(8, 8))\n",
        "plt.scatter(y_test, pred)\n",
        "plt.plot(line, line, '--', color='red') \n",
        "plt.xlim(-1, 20)\n",
        "plt.ylim(-1, 20)\n",
        "plt.title('Poisson Residuals')\n",
        "plt.xlabel('Predicted')\n",
        "plt.ylabel('Actual')\n",
        "plt.show()"
      ],
      "execution_count": 146,
      "outputs": [
        {
          "output_type": "display_data",
          "data": {
            "image/png": "[encoded data removed]",
            "text/plain": [
              "<Figure size 576x576 with 1 Axes>"
            ]
          },
          "metadata": {
            "tags": [],
            "needs_background": "light"
          }
        }
      ]
    },
    {
      "cell_type": "markdown",
      "metadata": {
        "id": "jTw4DOd5yNhD"
      },
      "source": [
        "## Outlier"
      ]
    },
    {
      "cell_type": "code",
      "metadata": {
        "colab": {
          "base_uri": "https://localhost:8080/"
        },
        "id": "Kl-_ILz2yO9X",
        "outputId": "7eebe164-b52b-4e2b-8dae-b2892eab47c2"
      },
      "source": [
        "X_test_out = X_test.copy()\n",
        "X_test_out['Actual'] = y_test\n",
        "X_test_out = X_test_out[X_test_out.Actual < 40]\n",
        "y_test_out = X_test_out['Actual']\n",
        "X_test_out = X_test_out.drop(columns=['Actual'])\n",
        "pred = gm_fit.predict(X_test_out)\n",
        "mae  = mean_absolute_error(y_test_out, pred)\n",
        "rmse = mean_squared_error(y_test_out, pred) ** 0.5\n",
        "results_df.loc['Outlier - Gaussian'] = [mae, rmse, gm_fit.aic]\n",
        "print(f'Mean Absolute Error    {mae:.2f}')\n",
        "print(f'Root Mean Square Error {rmse:.2f}')"
      ],
      "execution_count": 147,
      "outputs": [
        {
          "output_type": "stream",
          "text": [
            "Mean Absolute Error    2.90\n",
            "Root Mean Square Error 4.21\n"
          ],
          "name": "stdout"
        }
      ]
    },
    {
      "cell_type": "markdown",
      "metadata": {
        "id": "FqlsAem0_XPL"
      },
      "source": [
        "# Poisson\n",
        "* The typical parameteric model for count data\n",
        "* Fish caught is a count\n",
        "* Poisson makes an assumption that the mean == variance\n",
        "\n",
        "![](https://miro.medium.com/max/524/1*nPldr72r5lcw5EQ9ijzO7w.png)\n"
      ]
    },
    {
      "cell_type": "markdown",
      "metadata": {
        "id": "tXxMs5ehoe98"
      },
      "source": [
        "## Model"
      ]
    },
    {
      "cell_type": "code",
      "metadata": {
        "colab": {
          "base_uri": "https://localhost:8080/"
        },
        "id": "roaRfXlxU9et",
        "outputId": "5bd04985-4148-45ce-c0c0-c4b5eca5c22c"
      },
      "source": [
        "pm = sm.Poisson(endog=y_train, exog=X_train)\n",
        "pm_fit = pm.fit()\n",
        "pred = pm_fit.predict(X_test)\n",
        "mae  = mean_absolute_error(y_test, pred)\n",
        "rmse = mean_squared_error(y_test, pred) ** 0.5\n",
        "results_df.loc['Poisson'] = [mae, rmse, pm_fit.aic]\n",
        "print(f'Mean Absolute Error    {mae:.2f}')\n",
        "print(f'Root Mean Square Error {rmse:.2f}')"
      ],
      "execution_count": 148,
      "outputs": [
        {
          "output_type": "stream",
          "text": [
            "Optimization terminated successfully.\n",
            "         Current function value: 3.261050\n",
            "         Iterations 13\n",
            "Mean Absolute Error    4.58\n",
            "Root Mean Square Error 17.31\n"
          ],
          "name": "stdout"
        }
      ]
    },
    {
      "cell_type": "markdown",
      "metadata": {
        "id": "31QNchJ6HB5d"
      },
      "source": [
        "## Mean & Variance\n",
        "* Poisson distributions assume mean == variance\n",
        "* Here our training data has more variance"
      ]
    },
    {
      "cell_type": "code",
      "metadata": {
        "colab": {
          "base_uri": "https://localhost:8080/"
        },
        "id": "RIsCD91-Gxh3",
        "outputId": "23b2bdb4-e164-4f04-cf53-d60c8e1f1caa"
      },
      "source": [
        "print(f'Mean         {y_train.mean():.2f}')\n",
        "print(f'Standard Dev {y_train.std():.2f}')"
      ],
      "execution_count": 149,
      "outputs": [
        {
          "output_type": "stream",
          "text": [
            "Mean         3.02\n",
            "Standard Dev 7.72\n"
          ],
          "name": "stdout"
        }
      ]
    },
    {
      "cell_type": "markdown",
      "metadata": {
        "id": "jj4IErvVomO5"
      },
      "source": [
        "## Summary"
      ]
    },
    {
      "cell_type": "code",
      "metadata": {
        "colab": {
          "base_uri": "https://localhost:8080/"
        },
        "id": "Ksv1V8KhaZz8",
        "outputId": "04833e7a-150e-41f9-cdb1-f047e924386d"
      },
      "source": [
        "print(pm_fit.summary())"
      ],
      "execution_count": 150,
      "outputs": [
        {
          "output_type": "stream",
          "text": [
            "                          Poisson Regression Results                          \n",
            "==============================================================================\n",
            "Dep. Variable:             FISH_COUNT   No. Observations:                  187\n",
            "Model:                        Poisson   Df Residuals:                      183\n",
            "Method:                           MLE   Df Model:                            3\n",
            "Date:                Thu, 18 Feb 2021   Pseudo R-squ.:                  0.3820\n",
            "Time:                        14:43:53   Log-Likelihood:                -609.82\n",
            "converged:                       True   LL-Null:                       -986.70\n",
            "Covariance Type:            nonrobust   LLR p-value:                4.595e-163\n",
            "==============================================================================\n",
            "                 coef    std err          z      P>|z|      [0.025      0.975]\n",
            "------------------------------------------------------------------------------\n",
            "LIVE_BAIT     -0.1813      0.096     -1.893      0.058      -0.369       0.006\n",
            "CAMPER         0.4423      0.089      4.947      0.000       0.267       0.618\n",
            "PERSONS        0.6144      0.030     20.598      0.000       0.556       0.673\n",
            "CHILDREN      -1.4256      0.088    -16.208      0.000      -1.598      -1.253\n",
            "==============================================================================\n"
          ],
          "name": "stdout"
        }
      ]
    },
    {
      "cell_type": "markdown",
      "metadata": {
        "id": "fO2lcX2YUt1a"
      },
      "source": [
        "## Dispersion\n",
        "* The Pearson statistic provides an estimate of dispersion\n",
        "* Divide Pearson chi2 by Df Residuals to find a dispersion ratio\n",
        "  * Approximately 1 for a good fitting poisson\n",
        "  * Ratio less than 1 implies under dispersed\n",
        "  * Ratio more than 1 implies over dispersed\n",
        "* Under dispersed may need a zero-inflated model\n",
        "* Over dispersed may need Negative Binomial regression model\n",
        "* Note:  You can find Pearson Chi2 through the GLM interface in statsmodels (using Poisson as the family)"
      ]
    },
    {
      "cell_type": "code",
      "metadata": {
        "colab": {
          "base_uri": "https://localhost:8080/"
        },
        "id": "0z5nSDHdXOae",
        "outputId": "0d94ed73-a91f-41c1-952d-6a70dacf803b"
      },
      "source": [
        "data = X_train.copy()\n",
        "data['FISH_COUNT'] = y_train\n",
        "dispersion = smf.api.glm('FISH_COUNT ~ 0 + LIVE_BAIT + CAMPER + PERSONS + CHILDREN',\n",
        "             data=data, family=sm.families.Poisson())\n",
        "dispersion_fit = dispersion.fit()\n",
        "print(dispersion_fit.summary())\n",
        "print(f'Dispersion = {dispersion_fit.pearson_chi2 / dispersion_fit.df_resid:.2f}')"
      ],
      "execution_count": 151,
      "outputs": [
        {
          "output_type": "stream",
          "text": [
            "                 Generalized Linear Model Regression Results                  \n",
            "==============================================================================\n",
            "Dep. Variable:             FISH_COUNT   No. Observations:                  187\n",
            "Model:                            GLM   Df Residuals:                      183\n",
            "Model Family:                 Poisson   Df Model:                            3\n",
            "Link Function:                    log   Scale:                          1.0000\n",
            "Method:                          IRLS   Log-Likelihood:                -609.82\n",
            "Date:                Thu, 18 Feb 2021   Deviance:                       955.36\n",
            "Time:                        14:43:53   Pearson chi2:                 1.53e+03\n",
            "No. Iterations:                     6                                         \n",
            "Covariance Type:            nonrobust                                         \n",
            "==============================================================================\n",
            "                 coef    std err          z      P>|z|      [0.025      0.975]\n",
            "------------------------------------------------------------------------------\n",
            "LIVE_BAIT     -0.1813      0.096     -1.893      0.058      -0.369       0.006\n",
            "CAMPER         0.4423      0.089      4.947      0.000       0.267       0.618\n",
            "PERSONS        0.6144      0.030     20.598      0.000       0.556       0.673\n",
            "CHILDREN      -1.4256      0.088    -16.208      0.000      -1.598      -1.253\n",
            "==============================================================================\n",
            "Dispersion = 8.35\n"
          ],
          "name": "stdout"
        }
      ]
    },
    {
      "cell_type": "markdown",
      "metadata": {
        "id": "GV7MW-6BohTi"
      },
      "source": [
        "## Residuals\n",
        "* Note:  Poisson is predicting the mean which is typically not a whole number\n"
      ]
    },
    {
      "cell_type": "code",
      "metadata": {
        "colab": {
          "base_uri": "https://localhost:8080/",
          "height": 419
        },
        "id": "LMn84p1w0IfT",
        "outputId": "b0e25481-45ee-4b68-8997-7dee02e3dd95"
      },
      "source": [
        "pd.DataFrame({'Actual': y_test, 'Predicted': pred})"
      ],
      "execution_count": 152,
      "outputs": [
        {
          "output_type": "execute_result",
          "data": {
            "text/html": [
              "<div>\n",
              "<style scoped>\n",
              "    .dataframe tbody tr th:only-of-type {\n",
              "        vertical-align: middle;\n",
              "    }\n",
              "\n",
              "    .dataframe tbody tr th {\n",
              "        vertical-align: top;\n",
              "    }\n",
              "\n",
              "    .dataframe thead th {\n",
              "        text-align: right;\n",
              "    }\n",
              "</style>\n",
              "<table border=\"1\" class=\"dataframe\">\n",
              "  <thead>\n",
              "    <tr style=\"text-align: right;\">\n",
              "      <th></th>\n",
              "      <th>Actual</th>\n",
              "      <th>Predicted</th>\n",
              "    </tr>\n",
              "  </thead>\n",
              "  <tbody>\n",
              "    <tr>\n",
              "      <th>73</th>\n",
              "      <td>0</td>\n",
              "      <td>0.473759</td>\n",
              "    </tr>\n",
              "    <tr>\n",
              "      <th>109</th>\n",
              "      <td>1</td>\n",
              "      <td>3.643364</td>\n",
              "    </tr>\n",
              "    <tr>\n",
              "      <th>142</th>\n",
              "      <td>0</td>\n",
              "      <td>6.316228</td>\n",
              "    </tr>\n",
              "    <tr>\n",
              "      <th>59</th>\n",
              "      <td>4</td>\n",
              "      <td>2.399775</td>\n",
              "    </tr>\n",
              "    <tr>\n",
              "      <th>143</th>\n",
              "      <td>0</td>\n",
              "      <td>1.970985</td>\n",
              "    </tr>\n",
              "    <tr>\n",
              "      <th>...</th>\n",
              "      <td>...</td>\n",
              "      <td>...</td>\n",
              "    </tr>\n",
              "    <tr>\n",
              "      <th>168</th>\n",
              "      <td>0</td>\n",
              "      <td>0.473759</td>\n",
              "    </tr>\n",
              "    <tr>\n",
              "      <th>36</th>\n",
              "      <td>1</td>\n",
              "      <td>1.066262</td>\n",
              "    </tr>\n",
              "    <tr>\n",
              "      <th>158</th>\n",
              "      <td>0</td>\n",
              "      <td>2.399775</td>\n",
              "    </tr>\n",
              "    <tr>\n",
              "      <th>23</th>\n",
              "      <td>3</td>\n",
              "      <td>4.435982</td>\n",
              "    </tr>\n",
              "    <tr>\n",
              "      <th>74</th>\n",
              "      <td>0</td>\n",
              "      <td>2.876879</td>\n",
              "    </tr>\n",
              "  </tbody>\n",
              "</table>\n",
              "<p>63 rows × 2 columns</p>\n",
              "</div>"
            ],
            "text/plain": [
              "     Actual  Predicted\n",
              "73        0   0.473759\n",
              "109       1   3.643364\n",
              "142       0   6.316228\n",
              "59        4   2.399775\n",
              "143       0   1.970985\n",
              "..      ...        ...\n",
              "168       0   0.473759\n",
              "36        1   1.066262\n",
              "158       0   2.399775\n",
              "23        3   4.435982\n",
              "74        0   2.876879\n",
              "\n",
              "[63 rows x 2 columns]"
            ]
          },
          "metadata": {
            "tags": []
          },
          "execution_count": 152
        }
      ]
    },
    {
      "cell_type": "code",
      "metadata": {
        "colab": {
          "base_uri": "https://localhost:8080/",
          "height": 513
        },
        "id": "kA24UN36dtry",
        "outputId": "043fca11-deb3-4393-dbde-0bfbe41f3ca2"
      },
      "source": [
        "fig = plt.figure(figsize=(8, 8))\n",
        "plt.scatter(y_test, pred)\n",
        "line = np.linspace(0, max(y_test) ,50)\n",
        "plt.plot(line, line, '--', color='red') \n",
        "plt.title('Poisson Residuals')\n",
        "plt.xlabel('Predicted')\n",
        "plt.ylabel('Actual')\n",
        "plt.show()"
      ],
      "execution_count": 153,
      "outputs": [
        {
          "output_type": "display_data",
          "data": {
            "image/png": "[encoded data removed]",
            "text/plain": [
              "<Figure size 576x576 with 1 Axes>"
            ]
          },
          "metadata": {
            "tags": [],
            "needs_background": "light"
          }
        }
      ]
    },
    {
      "cell_type": "code",
      "metadata": {
        "colab": {
          "base_uri": "https://localhost:8080/",
          "height": 513
        },
        "id": "1NIoWNUngWyx",
        "outputId": "139e0c21-c46b-4456-c8c6-31562e03e773"
      },
      "source": [
        "fig = plt.figure(figsize=(8, 8))\n",
        "plt.scatter(y_test, pred)\n",
        "plt.plot(line, line, '--', color='red') \n",
        "plt.xlim(-1, 20)\n",
        "plt.ylim(-1, 20)\n",
        "plt.title('Poisson Residuals')\n",
        "plt.xlabel('Predicted')\n",
        "plt.ylabel('Actual')\n",
        "plt.show()"
      ],
      "execution_count": 154,
      "outputs": [
        {
          "output_type": "display_data",
          "data": {
            "image/png": "[encoded data removed]",
            "text/plain": [
              "<Figure size 576x576 with 1 Axes>"
            ]
          },
          "metadata": {
            "tags": [],
            "needs_background": "light"
          }
        }
      ]
    },
    {
      "cell_type": "markdown",
      "metadata": {
        "id": "dU7uATgnoMne"
      },
      "source": [
        "## Outlier"
      ]
    },
    {
      "cell_type": "code",
      "metadata": {
        "colab": {
          "base_uri": "https://localhost:8080/"
        },
        "id": "xPSWHKEfoN1l",
        "outputId": "0b442c36-1398-4cc2-c6f9-32816956e3d8"
      },
      "source": [
        "X_test_out = X_test.copy()\n",
        "X_test_out['Actual'] = y_test\n",
        "X_test_out = X_test_out[X_test_out.Actual < 40]\n",
        "y_test_out = X_test_out['Actual']\n",
        "X_test_out = X_test_out.drop(columns=['Actual'])\n",
        "pred = pm_fit.predict(X_test_out)\n",
        "mae  = mean_absolute_error(y_test_out, pred)\n",
        "rmse = mean_squared_error(y_test_out, pred) ** 0.5\n",
        "results_df.loc['Outlier - Poisson'] = [mae, rmse, pm_fit.aic]\n",
        "print(f'Mean Absolute Error    {mae:.2f}')\n",
        "print(f'Root Mean Square Error {rmse:.2f}')"
      ],
      "execution_count": 155,
      "outputs": [
        {
          "output_type": "stream",
          "text": [
            "Mean Absolute Error    2.50\n",
            "Root Mean Square Error 3.95\n"
          ],
          "name": "stdout"
        }
      ]
    },
    {
      "cell_type": "markdown",
      "metadata": {
        "id": "m5wBwtgO_Y_F"
      },
      "source": [
        "# Zero Inflated Poisson\n",
        "* There an excess of zeros in the target\n",
        "* Combine a logit to decide zero or poisson distribution"
      ]
    },
    {
      "cell_type": "markdown",
      "metadata": {
        "id": "2C0dHHECnb7-"
      },
      "source": [
        "## Model"
      ]
    },
    {
      "cell_type": "code",
      "metadata": {
        "colab": {
          "base_uri": "https://localhost:8080/"
        },
        "id": "FlgWJ9jjOCMh",
        "outputId": "c66004ad-e7da-4997-a8f4-3ff98af1d732"
      },
      "source": [
        "zipm = sm.ZeroInflatedPoisson(endog=y_train, exog=X_train, exog_infl=X_train)\n",
        "zipm_fit = zipm.fit()\n",
        "pred = zipm_fit.predict(X_test, exog_infl=X_test)\n",
        "mae  = mean_absolute_error(y_test, pred)\n",
        "rmse = mean_squared_error(y_test, pred) ** 0.5\n",
        "results_df.loc['Zero Inflated Poisson'] = [mae, rmse, zipm_fit.aic]\n",
        "print(f'Mean Absolute Error    {mae:.2f}')\n",
        "print(f'Root Mean Square Error {rmse:.2f}')"
      ],
      "execution_count": 156,
      "outputs": [
        {
          "output_type": "stream",
          "text": [
            "Optimization terminated successfully.\n",
            "         Current function value: 2.578763\n",
            "         Iterations: 25\n",
            "         Function evaluations: 28\n",
            "         Gradient evaluations: 28\n",
            "Mean Absolute Error    4.28\n",
            "Root Mean Square Error 17.28\n"
          ],
          "name": "stdout"
        },
        {
          "output_type": "stream",
          "text": [
            "/usr/local/lib/python3.6/dist-packages/statsmodels/base/model.py:512: ConvergenceWarning: Maximum Likelihood optimization failed to converge. Check mle_retvals\n",
            "  \"Check mle_retvals\", ConvergenceWarning)\n"
          ],
          "name": "stderr"
        }
      ]
    },
    {
      "cell_type": "markdown",
      "metadata": {
        "id": "bzIbFiqFoqFh"
      },
      "source": [
        "## Summary"
      ]
    },
    {
      "cell_type": "code",
      "metadata": {
        "colab": {
          "base_uri": "https://localhost:8080/"
        },
        "id": "oNZ7JjVYaToq",
        "outputId": "f4ce4643-a0e6-47e7-8995-75b14c147ea4"
      },
      "source": [
        "print(zipm_fit.summary())"
      ],
      "execution_count": 157,
      "outputs": [
        {
          "output_type": "stream",
          "text": [
            "                     ZeroInflatedPoisson Regression Results                    \n",
            "===============================================================================\n",
            "Dep. Variable:              FISH_COUNT   No. Observations:                  187\n",
            "Model:             ZeroInflatedPoisson   Df Residuals:                      183\n",
            "Method:                            MLE   Df Model:                            3\n",
            "Date:                 Thu, 18 Feb 2021   Pseudo R-squ.:                  0.2802\n",
            "Time:                         14:43:54   Log-Likelihood:                -482.23\n",
            "converged:                        True   LL-Null:                       -669.96\n",
            "Covariance Type:             nonrobust   LLR p-value:                 4.584e-81\n",
            "=====================================================================================\n",
            "                        coef    std err          z      P>|z|      [0.025      0.975]\n",
            "-------------------------------------------------------------------------------------\n",
            "inflate_LIVE_BAIT     0.8641      0.416      2.079      0.038       0.049       1.679\n",
            "inflate_CAMPER       -0.5715      0.355     -1.608      0.108      -1.268       0.125\n",
            "inflate_PERSONS      -0.5867      0.172     -3.412      0.001      -0.924      -0.250\n",
            "inflate_CHILDREN      1.6430      0.325      5.048      0.000       1.005       2.281\n",
            "LIVE_BAIT             0.4126      0.128      3.220      0.001       0.161       0.664\n",
            "CAMPER                0.3629      0.110      3.301      0.001       0.147       0.578\n",
            "PERSONS               0.5124      0.036     14.409      0.000       0.443       0.582\n",
            "CHILDREN             -0.8320      0.099     -8.443      0.000      -1.025      -0.639\n",
            "=====================================================================================\n"
          ],
          "name": "stdout"
        }
      ]
    },
    {
      "cell_type": "markdown",
      "metadata": {
        "id": "pRihVU6pnduj"
      },
      "source": [
        "## Residuals"
      ]
    },
    {
      "cell_type": "code",
      "metadata": {
        "colab": {
          "base_uri": "https://localhost:8080/",
          "height": 513
        },
        "id": "T8dwA5JulmCR",
        "outputId": "44eaa9a8-a70a-4865-eae7-d9316533a4e0"
      },
      "source": [
        "fig = plt.figure(figsize=(8, 8))\n",
        "plt.scatter(y_test, pred)\n",
        "line = np.linspace(0, max(y_test) ,50)\n",
        "plt.plot(line, line, '--', color='red') \n",
        "plt.title('Zero Inflated Poisson Residuals')\n",
        "plt.xlabel('Predicted')\n",
        "plt.ylabel('Actual')\n",
        "plt.show()"
      ],
      "execution_count": 158,
      "outputs": [
        {
          "output_type": "display_data",
          "data": {
            "image/png": "[encoded data removed]",
            "text/plain": [
              "<Figure size 576x576 with 1 Axes>"
            ]
          },
          "metadata": {
            "tags": [],
            "needs_background": "light"
          }
        }
      ]
    },
    {
      "cell_type": "code",
      "metadata": {
        "colab": {
          "base_uri": "https://localhost:8080/",
          "height": 513
        },
        "id": "MsBScGvblm67",
        "outputId": "b39910c9-edaf-487c-f6b4-dade952a9abf"
      },
      "source": [
        "fig = plt.figure(figsize=(8, 8))\n",
        "plt.scatter(y_test, pred)\n",
        "plt.plot(line, line, '--', color='red') \n",
        "plt.xlim(-1, 20)\n",
        "plt.ylim(-1, 20)\n",
        "plt.title('Zero Inflated Poisson Residuals')\n",
        "plt.xlabel('Predicted')\n",
        "plt.ylabel('Actual')\n",
        "plt.show()"
      ],
      "execution_count": 159,
      "outputs": [
        {
          "output_type": "display_data",
          "data": {
            "image/png": "[encoded data removed]",
            "text/plain": [
              "<Figure size 576x576 with 1 Axes>"
            ]
          },
          "metadata": {
            "tags": [],
            "needs_background": "light"
          }
        }
      ]
    },
    {
      "cell_type": "markdown",
      "metadata": {
        "id": "Gz2JFuh8oWAX"
      },
      "source": [
        "## Outlier"
      ]
    },
    {
      "cell_type": "code",
      "metadata": {
        "colab": {
          "base_uri": "https://localhost:8080/"
        },
        "id": "ZVn9ywPGoEtG",
        "outputId": "96ef1308-fd9e-45ac-d718-91789bd16914"
      },
      "source": [
        "X_test_out = X_test.copy()\n",
        "X_test_out['Actual'] = y_test\n",
        "X_test_out = X_test_out[X_test_out.Actual < 40]\n",
        "y_test_out = X_test_out['Actual']\n",
        "X_test_out = X_test_out.drop(columns=['Actual'])\n",
        "pred = zipm_fit.predict(X_test_out, exog_infl=X_test_out)\n",
        "mae  = mean_absolute_error(y_test_out, pred)\n",
        "rmse = mean_squared_error(y_test_out, pred) ** 0.5\n",
        "results_df.loc['Outlier - Zero Inflated Poisson'] = [mae, rmse, zipm_fit.aic]\n",
        "print(f'Mean Absolute Error    {mae:.2f}')\n",
        "print(f'Root Mean Square Error {rmse:.2f}')"
      ],
      "execution_count": 160,
      "outputs": [
        {
          "output_type": "stream",
          "text": [
            "Mean Absolute Error    2.18\n",
            "Root Mean Square Error 3.70\n"
          ],
          "name": "stdout"
        }
      ]
    },
    {
      "cell_type": "markdown",
      "metadata": {
        "id": "c46ipRshdhKq"
      },
      "source": [
        "# Negative Binomial\n",
        "* Is our data over representing zero or just over dispersed?\n",
        "* The negative binomial regression model works well on over-dispersed data, it keeps variance proportional to mean\n",
        "* P parameter controls the variance:\n",
        "  * nb2: Variance equal to 𝜇+𝛼𝜇2 (most common)\n",
        "  * nb1: Variance equal to 𝜇+𝛼𝜇\n",
        "  * geometric: Variance equal to 𝜇+𝜇2"
      ]
    },
    {
      "cell_type": "markdown",
      "metadata": {
        "id": "AjrayRiWfPHE"
      },
      "source": [
        "## Model"
      ]
    },
    {
      "cell_type": "code",
      "metadata": {
        "colab": {
          "base_uri": "https://localhost:8080/"
        },
        "id": "5eNw2d9feCvP",
        "outputId": "2e486926-d5f4-49bb-9aaf-d6115a7e7f2a"
      },
      "source": [
        "nb = sm.GLM(y_train, X_train, family=sm.families.NegativeBinomial())\n",
        "nb_fit = nb.fit()\n",
        "pred = nb_fit.predict(X_test)\n",
        "mae  = mean_absolute_error(y_test, pred)\n",
        "rmse = mean_squared_error(y_test, pred) ** 0.5\n",
        "results_df.loc['Negative Binomial'] = [mae, rmse, nb_fit.aic]\n",
        "print(f'Mean Absolute Error    {mae:.2f}')\n",
        "print(f'Root Mean Square Error {rmse:.2f}')"
      ],
      "execution_count": 161,
      "outputs": [
        {
          "output_type": "stream",
          "text": [
            "Mean Absolute Error    4.53\n",
            "Root Mean Square Error 17.48\n"
          ],
          "name": "stdout"
        }
      ]
    },
    {
      "cell_type": "markdown",
      "metadata": {
        "id": "kXzABMrQfNr-"
      },
      "source": [
        "## Summary"
      ]
    },
    {
      "cell_type": "code",
      "metadata": {
        "colab": {
          "base_uri": "https://localhost:8080/"
        },
        "id": "ZQ01jFe9fRwS",
        "outputId": "83cadcbb-c728-4524-d7c2-ec147b4261ea"
      },
      "source": [
        "print(nb_fit.summary())"
      ],
      "execution_count": 162,
      "outputs": [
        {
          "output_type": "stream",
          "text": [
            "                 Generalized Linear Model Regression Results                  \n",
            "==============================================================================\n",
            "Dep. Variable:             FISH_COUNT   No. Observations:                  187\n",
            "Model:                            GLM   Df Residuals:                      183\n",
            "Model Family:        NegativeBinomial   Df Model:                            3\n",
            "Link Function:                    log   Scale:                          1.0000\n",
            "Method:                          IRLS   Log-Likelihood:                -335.59\n",
            "Date:                Thu, 18 Feb 2021   Deviance:                       265.22\n",
            "Time:                        14:43:54   Pearson chi2:                     559.\n",
            "No. Iterations:                    11                                         \n",
            "Covariance Type:            nonrobust                                         \n",
            "==============================================================================\n",
            "                 coef    std err          z      P>|z|      [0.025      0.975]\n",
            "------------------------------------------------------------------------------\n",
            "LIVE_BAIT     -0.4216      0.207     -2.034      0.042      -0.828      -0.015\n",
            "CAMPER         0.3270      0.189      1.734      0.083      -0.043       0.697\n",
            "PERSONS        0.6843      0.076      9.014      0.000       0.536       0.833\n",
            "CHILDREN      -1.4988      0.160     -9.381      0.000      -1.812      -1.186\n",
            "==============================================================================\n"
          ],
          "name": "stdout"
        }
      ]
    },
    {
      "cell_type": "markdown",
      "metadata": {
        "id": "J-1xoPSYfgV3"
      },
      "source": [
        "## Outlier"
      ]
    },
    {
      "cell_type": "code",
      "metadata": {
        "colab": {
          "base_uri": "https://localhost:8080/"
        },
        "id": "cGr0jRqxfiVR",
        "outputId": "361b585b-8c51-4ed6-87a9-18f08d8a00d5"
      },
      "source": [
        "X_test_out = X_test.copy()\n",
        "X_test_out['Actual'] = y_test\n",
        "X_test_out = X_test_out[X_test_out.Actual < 40]\n",
        "y_test_out = X_test_out['Actual']\n",
        "X_test_out = X_test_out.drop(columns=['Actual'])\n",
        "pred = nb_fit.predict(X_test_out)\n",
        "mae  = mean_absolute_error(y_test_out, pred)\n",
        "rmse = mean_squared_error(y_test_out, pred) ** 0.5\n",
        "results_df.loc['Outlier - Neg Binomial'] = [mae, rmse, nb_fit.aic]\n",
        "print(f'Mean Absolute Error    {mae:.2f}')\n",
        "print(f'Root Mean Square Error {rmse:.2f}')"
      ],
      "execution_count": 163,
      "outputs": [
        {
          "output_type": "stream",
          "text": [
            "Mean Absolute Error    2.43\n",
            "Root Mean Square Error 4.08\n"
          ],
          "name": "stdout"
        }
      ]
    },
    {
      "cell_type": "markdown",
      "metadata": {
        "id": "zGTP8lT2eMGE"
      },
      "source": [
        "# Zero Inflated Negative Binomial\n",
        "* What if we have many zeros and over-dispersed count data?\n",
        "* Negative Binomial often fits better than a standard Poisson model when over dispersed\n",
        "* Here we combine an overdispersed model with zero inflation\n"
      ]
    },
    {
      "cell_type": "markdown",
      "metadata": {
        "id": "Gw5xy_KzfZga"
      },
      "source": [
        "## Model"
      ]
    },
    {
      "cell_type": "code",
      "metadata": {
        "colab": {
          "base_uri": "https://localhost:8080/"
        },
        "id": "Z_MjJwOYeMsg",
        "outputId": "64400e6a-3f94-47b3-90d3-681d11acfd70"
      },
      "source": [
        "zinb = sm.ZeroInflatedNegativeBinomialP(endog=y_train, exog=X_train, exog_infl=X_train, p=2)\n",
        "zinb_fit = zinb.fit()\n",
        "pred = zinb_fit.predict(X_test, exog_infl=X_test)\n",
        "mae  = mean_absolute_error(y_test, pred)\n",
        "rmse = mean_squared_error(y_test, pred) ** 0.5\n",
        "results_df.loc['Zero Inflated Neg Bimomial'] = [mae, rmse, zinb_fit.aic]\n",
        "print(f'Mean Absolute Error    {mae:.2f}')\n",
        "print(f'Root Mean Square Error {rmse:.2f}')"
      ],
      "execution_count": 164,
      "outputs": [
        {
          "output_type": "stream",
          "text": [
            "Warning: Maximum number of iterations has been exceeded.\n",
            "         Current function value: 1.662922\n",
            "         Iterations: 35\n",
            "         Function evaluations: 40\n",
            "         Gradient evaluations: 40\n",
            "Mean Absolute Error    4.42\n",
            "Root Mean Square Error 17.56\n"
          ],
          "name": "stdout"
        },
        {
          "output_type": "stream",
          "text": [
            "/usr/local/lib/python3.6/dist-packages/statsmodels/base/model.py:512: ConvergenceWarning: Maximum Likelihood optimization failed to converge. Check mle_retvals\n",
            "  \"Check mle_retvals\", ConvergenceWarning)\n"
          ],
          "name": "stderr"
        }
      ]
    },
    {
      "cell_type": "markdown",
      "metadata": {
        "id": "c8bUkmSffF-v"
      },
      "source": [
        "## Summary"
      ]
    },
    {
      "cell_type": "code",
      "metadata": {
        "colab": {
          "base_uri": "https://localhost:8080/"
        },
        "id": "Xu1a3OBofHfF",
        "outputId": "d324aca8-6f29-441e-9ec2-551c24624ce3"
      },
      "source": [
        "print(zinb_fit.summary())"
      ],
      "execution_count": 165,
      "outputs": [
        {
          "output_type": "stream",
          "text": [
            "                     ZeroInflatedNegativeBinomialP Regression Results                    \n",
            "=========================================================================================\n",
            "Dep. Variable:                        FISH_COUNT   No. Observations:                  187\n",
            "Model:             ZeroInflatedNegativeBinomialP   Df Residuals:                      183\n",
            "Method:                                      MLE   Df Model:                            3\n",
            "Date:                           Thu, 18 Feb 2021   Pseudo R-squ.:                  0.1219\n",
            "Time:                                   14:43:55   Log-Likelihood:                -310.97\n",
            "converged:                                 False   LL-Null:                       -354.12\n",
            "Covariance Type:                       nonrobust   LLR p-value:                 1.361e-18\n",
            "=====================================================================================\n",
            "                        coef    std err          z      P>|z|      [0.025      0.975]\n",
            "-------------------------------------------------------------------------------------\n",
            "inflate_LIVE_BAIT    -0.5349      1.314     -0.407      0.684      -3.110       2.040\n",
            "inflate_CAMPER       -2.0360      1.229     -1.657      0.097      -4.444       0.372\n",
            "inflate_PERSONS      -0.4885      0.317     -1.541      0.123      -1.110       0.133\n",
            "inflate_CHILDREN      2.3738      0.727      3.264      0.001       0.948       3.799\n",
            "LIVE_BAIT            -0.3350      0.540     -0.621      0.535      -1.393       0.723\n",
            "CAMPER               -0.0095      0.436     -0.022      0.983      -0.863       0.844\n",
            "PERSONS               0.7341      0.133      5.520      0.000       0.473       0.995\n",
            "CHILDREN             -0.8784      0.313     -2.805      0.005      -1.492      -0.265\n",
            "alpha                 1.5084      0.344      4.387      0.000       0.835       2.182\n",
            "=====================================================================================\n"
          ],
          "name": "stdout"
        }
      ]
    },
    {
      "cell_type": "markdown",
      "metadata": {
        "id": "FcbhMl4LfwOe"
      },
      "source": [
        "## Outlier"
      ]
    },
    {
      "cell_type": "code",
      "metadata": {
        "colab": {
          "base_uri": "https://localhost:8080/"
        },
        "id": "mGl0hAK0fvVr",
        "outputId": "6c87913b-b848-49dd-9e1b-28d92c6530cb"
      },
      "source": [
        "X_test_out = X_test.copy()\n",
        "X_test_out['Actual'] = y_test\n",
        "X_test_out = X_test_out[X_test_out.Actual < 40]\n",
        "y_test_out = X_test_out['Actual']\n",
        "X_test_out = X_test_out.drop(columns=['Actual'])\n",
        "pred = zinb_fit.predict(X_test_out, exog_infl=X_test_out)\n",
        "mae  = mean_absolute_error(y_test_out, pred)\n",
        "rmse = mean_squared_error(y_test_out, pred) ** 0.5\n",
        "results_df.loc['Outlier - Zero Inflated Neg Binomial'] = [mae, rmse, zinb_fit.aic]\n",
        "print(f'Mean Absolute Error    {mae:.2f}')\n",
        "print(f'Root Mean Square Error {rmse:.2f}')"
      ],
      "execution_count": 166,
      "outputs": [
        {
          "output_type": "stream",
          "text": [
            "Mean Absolute Error    2.30\n",
            "Root Mean Square Error 3.98\n"
          ],
          "name": "stdout"
        }
      ]
    },
    {
      "cell_type": "markdown",
      "metadata": {
        "id": "SeIXBGdpP6y-"
      },
      "source": [
        "# Results"
      ]
    },
    {
      "cell_type": "code",
      "metadata": {
        "colab": {
          "base_uri": "https://localhost:8080/",
          "height": 359
        },
        "id": "z867kcIhckX9",
        "outputId": "ebf05bd9-e042-439d-ca2d-4bc3bef25994"
      },
      "source": [
        "results_df.sort_values('MAE')"
      ],
      "execution_count": 167,
      "outputs": [
        {
          "output_type": "execute_result",
          "data": {
            "text/html": [
              "<div>\n",
              "<style scoped>\n",
              "    .dataframe tbody tr th:only-of-type {\n",
              "        vertical-align: middle;\n",
              "    }\n",
              "\n",
              "    .dataframe tbody tr th {\n",
              "        vertical-align: top;\n",
              "    }\n",
              "\n",
              "    .dataframe thead th {\n",
              "        text-align: right;\n",
              "    }\n",
              "</style>\n",
              "<table border=\"1\" class=\"dataframe\">\n",
              "  <thead>\n",
              "    <tr style=\"text-align: right;\">\n",
              "      <th></th>\n",
              "      <th>MAE</th>\n",
              "      <th>RMSE</th>\n",
              "      <th>AIC</th>\n",
              "    </tr>\n",
              "  </thead>\n",
              "  <tbody>\n",
              "    <tr>\n",
              "      <th>Outlier - Zero Inflated Poisson</th>\n",
              "      <td>2.182598</td>\n",
              "      <td>3.702996</td>\n",
              "      <td>972.457366</td>\n",
              "    </tr>\n",
              "    <tr>\n",
              "      <th>Outlier - Zero Inflated Neg Binomial</th>\n",
              "      <td>2.302755</td>\n",
              "      <td>3.976652</td>\n",
              "      <td>629.932845</td>\n",
              "    </tr>\n",
              "    <tr>\n",
              "      <th>Outlier - Neg Binomial</th>\n",
              "      <td>2.428846</td>\n",
              "      <td>4.075643</td>\n",
              "      <td>679.173919</td>\n",
              "    </tr>\n",
              "    <tr>\n",
              "      <th>Outlier - Poisson</th>\n",
              "      <td>2.499744</td>\n",
              "      <td>3.946692</td>\n",
              "      <td>1227.632797</td>\n",
              "    </tr>\n",
              "    <tr>\n",
              "      <th>Outlier - Gaussian</th>\n",
              "      <td>2.901858</td>\n",
              "      <td>4.214255</td>\n",
              "      <td>1253.304883</td>\n",
              "    </tr>\n",
              "    <tr>\n",
              "      <th>Zero Inflated Poisson</th>\n",
              "      <td>4.275773</td>\n",
              "      <td>17.283931</td>\n",
              "      <td>972.457366</td>\n",
              "    </tr>\n",
              "    <tr>\n",
              "      <th>Zero Inflated Neg Bimomial</th>\n",
              "      <td>4.421608</td>\n",
              "      <td>17.556940</td>\n",
              "      <td>629.932845</td>\n",
              "    </tr>\n",
              "    <tr>\n",
              "      <th>Negative Binomial</th>\n",
              "      <td>4.532352</td>\n",
              "      <td>17.476196</td>\n",
              "      <td>679.173919</td>\n",
              "    </tr>\n",
              "    <tr>\n",
              "      <th>Poisson</th>\n",
              "      <td>4.584550</td>\n",
              "      <td>17.311132</td>\n",
              "      <td>1227.632797</td>\n",
              "    </tr>\n",
              "    <tr>\n",
              "      <th>Gaussian</th>\n",
              "      <td>5.054519</td>\n",
              "      <td>17.945584</td>\n",
              "      <td>1253.304883</td>\n",
              "    </tr>\n",
              "  </tbody>\n",
              "</table>\n",
              "</div>"
            ],
            "text/plain": [
              "                                           MAE       RMSE          AIC\n",
              "Outlier - Zero Inflated Poisson       2.182598   3.702996   972.457366\n",
              "Outlier - Zero Inflated Neg Binomial  2.302755   3.976652   629.932845\n",
              "Outlier - Neg Binomial                2.428846   4.075643   679.173919\n",
              "Outlier - Poisson                     2.499744   3.946692  1227.632797\n",
              "Outlier - Gaussian                    2.901858   4.214255  1253.304883\n",
              "Zero Inflated Poisson                 4.275773  17.283931   972.457366\n",
              "Zero Inflated Neg Bimomial            4.421608  17.556940   629.932845\n",
              "Negative Binomial                     4.532352  17.476196   679.173919\n",
              "Poisson                               4.584550  17.311132  1227.632797\n",
              "Gaussian                              5.054519  17.945584  1253.304883"
            ]
          },
          "metadata": {
            "tags": []
          },
          "execution_count": 167
        }
      ]
    },
    {
      "cell_type": "markdown",
      "metadata": {
        "id": "7-wzSGHDFnps"
      },
      "source": [
        "## AIC\n",
        "* AIC provides an estimate of the quality of each model relative to other models on the same data\n",
        "* AIC provides a means for model selection\n",
        "* AIC = 2k - 2 ln(L)\n",
        "  * k : number of parameters \n",
        "  * L : max value of the likelihood for the model\n",
        "* Log-Likelihood (Larger is Better) can also be used to compare fit"
      ]
    },
    {
      "cell_type": "markdown",
      "metadata": {
        "id": "OVYTqHwKJ3Zb"
      },
      "source": [
        "## Selection\n",
        "* Based on lowest MAE - Zero Inflated Poisson\n",
        "* Based on AIC - Zero Inflated Negative Binomial"
      ]
    },
    {
      "cell_type": "markdown",
      "metadata": {
        "id": "VfgGbIEXCB4p"
      },
      "source": [
        "# Notes on Count Models\n",
        "* We're approaching a count problem, Poisson is a good place to start\n",
        "* Poisson models assume that the mean == variance\n",
        "  * The Negative Binomial Distribution doesn't make that assumption\n",
        "  * Under or over dispersed data - Use the Generalized Poisson Model\n",
        "  * https://www.statsmodels.org/stable/generated/statsmodels.discrete.discrete_model.GeneralizedPoisson.html\n",
        "* With excess zeros in the count, a Zero Inflated Poisson can help\n",
        "  * Think Logistic + Poisson\n",
        "  * https://stats.stackexchange.com/questions/112292/are-my-data-zero-inflated\n",
        "  * https://statisticalhorizons.com/zero-inflated-models\n",
        "* Be wary of trying every distribution\n",
        "  * Explainability through coefficients is often an advantage of the GLM\n",
        "  * Improper distributions fit to the data violate assumptions"
      ]
    },
    {
      "cell_type": "code",
      "metadata": {
        "id": "KSVKcdfrcp0Z"
      },
      "source": [
        ""
      ],
      "execution_count": 167,
      "outputs": []
    }
  ]
}