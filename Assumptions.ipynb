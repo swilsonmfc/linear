{
  "nbformat": 4,
  "nbformat_minor": 0,
  "metadata": {
    "colab": {
      "name": "Assumptions.ipynb",
      "provenance": [],
      "collapsed_sections": [],
      "toc_visible": true,
      "authorship_tag": "ABX9TyPdTrw1zvosxqLXx/3kB/fq",
      "include_colab_link": true
    },
    "kernelspec": {
      "name": "python3",
      "display_name": "Python 3"
    }
  },
  "cells": [
    {
      "cell_type": "markdown",
      "metadata": {
        "id": "view-in-github",
        "colab_type": "text"
      },
      "source": [
        "<a href=\"https://colab.research.google.com/github/swilsonmfc/linear/blob/main/Assumptions.ipynb\" target=\"_parent\"><img src=\"https://colab.research.google.com/assets/colab-badge.svg\" alt=\"Open In Colab\"/></a>"
      ]
    },
    {
      "cell_type": "markdown",
      "metadata": {
        "id": "jZSkbdXB_4Q3"
      },
      "source": [
        "# Linear Regression\n",
        "![](https://upload.wikimedia.org/wikipedia/commons/thumb/e/ec/Anscombe%27s_quartet_3.svg/1200px-Anscombe%27s_quartet_3.svg.png)"
      ]
    },
    {
      "cell_type": "markdown",
      "metadata": {
        "id": "gO_glHJXAOBA"
      },
      "source": [
        "# Setup"
      ]
    },
    {
      "cell_type": "code",
      "metadata": {
        "id": "lXYHEyL3AepF",
        "colab": {
          "base_uri": "https://localhost:8080/"
        },
        "outputId": "52094479-7532-4f40-f9ff-6c96fa1a0e4c"
      },
      "source": [
        "import math\n",
        "import pandas as pd\n",
        "import numpy as np\n",
        "\n",
        "%matplotlib inline\n",
        "import matplotlib.pyplot as plt\n",
        "import seaborn as sns\n",
        "import pandas_profiling\n",
        "\n",
        "from sklearn.datasets import load_boston\n",
        "from sklearn.metrics import mean_absolute_error\n",
        "from sklearn.metrics import mean_squared_error\n",
        "\n",
        "from sklearn.linear_model import LinearRegression\n",
        "from sklearn.linear_model import ElasticNet\n",
        "from sklearn.linear_model import Lasso\n",
        "from sklearn.linear_model import Ridge\n",
        "\n",
        "from sklearn.pipeline import make_pipeline\n",
        "from sklearn.pipeline import FeatureUnion\n",
        "from sklearn.pipeline import Pipeline\n",
        "from sklearn.base import BaseEstimator\n",
        "from sklearn.base import TransformerMixin\n",
        "from sklearn.preprocessing import StandardScaler\n",
        "from sklearn.preprocessing import OneHotEncoder\n",
        "from sklearn.model_selection import train_test_split\n",
        "\n",
        "from yellowbrick.regressor import ResidualsPlot\n",
        "from yellowbrick.regressor import PredictionError\n",
        "\n",
        "import statsmodels.api as sm\n",
        "import statsmodels.stats.api as sms\n",
        "import statsmodels.formula.api as smf\n",
        "import statsmodels.graphics.regressionplots as regplot\n",
        "from statsmodels.stats.outliers_influence import variance_inflation_factor\n",
        "\n",
        "from patsy import dmatrices"
      ],
      "execution_count": 2,
      "outputs": [
        {
          "output_type": "stream",
          "text": [
            "/usr/local/lib/python3.6/dist-packages/sklearn/utils/deprecation.py:144: FutureWarning: The sklearn.metrics.classification module is  deprecated in version 0.22 and will be removed in version 0.24. The corresponding classes / functions should instead be imported from sklearn.metrics. Anything that cannot be imported from sklearn.metrics is now part of the private API.\n",
            "  warnings.warn(message, FutureWarning)\n",
            "/usr/local/lib/python3.6/dist-packages/statsmodels/tools/_testing.py:19: FutureWarning: pandas.util.testing is deprecated. Use the functions in the public API at pandas.testing instead.\n",
            "  import pandas.util.testing as tm\n"
          ],
          "name": "stderr"
        }
      ]
    },
    {
      "cell_type": "markdown",
      "metadata": {
        "id": "FmtABJFZAwTZ"
      },
      "source": [
        "# Data"
      ]
    },
    {
      "cell_type": "code",
      "metadata": {
        "colab": {
          "base_uri": "https://localhost:8080/"
        },
        "id": "CxIqwsmNA7Hr",
        "outputId": "e5db1bec-6d60-4af7-ba83-62af40b5c256"
      },
      "source": [
        "boston = load_boston()\n",
        "print(boston['DESCR'])"
      ],
      "execution_count": 3,
      "outputs": [
        {
          "output_type": "stream",
          "text": [
            ".. _boston_dataset:\n",
            "\n",
            "Boston house prices dataset\n",
            "---------------------------\n",
            "\n",
            "**Data Set Characteristics:**  \n",
            "\n",
            "    :Number of Instances: 506 \n",
            "\n",
            "    :Number of Attributes: 13 numeric/categorical predictive. Median Value (attribute 14) is usually the target.\n",
            "\n",
            "    :Attribute Information (in order):\n",
            "        - CRIM     per capita crime rate by town\n",
            "        - ZN       proportion of residential land zoned for lots over 25,000 sq.ft.\n",
            "        - INDUS    proportion of non-retail business acres per town\n",
            "        - CHAS     Charles River dummy variable (= 1 if tract bounds river; 0 otherwise)\n",
            "        - NOX      nitric oxides concentration (parts per 10 million)\n",
            "        - RM       average number of rooms per dwelling\n",
            "        - AGE      proportion of owner-occupied units built prior to 1940\n",
            "        - DIS      weighted distances to five Boston employment centres\n",
            "        - RAD      index of accessibility to radial highways\n",
            "        - TAX      full-value property-tax rate per $10,000\n",
            "        - PTRATIO  pupil-teacher ratio by town\n",
            "        - B        1000(Bk - 0.63)^2 where Bk is the proportion of blacks by town\n",
            "        - LSTAT    % lower status of the population\n",
            "        - MEDV     Median value of owner-occupied homes in $1000's\n",
            "\n",
            "    :Missing Attribute Values: None\n",
            "\n",
            "    :Creator: Harrison, D. and Rubinfeld, D.L.\n",
            "\n",
            "This is a copy of UCI ML housing dataset.\n",
            "https://archive.ics.uci.edu/ml/machine-learning-databases/housing/\n",
            "\n",
            "\n",
            "This dataset was taken from the StatLib library which is maintained at Carnegie Mellon University.\n",
            "\n",
            "The Boston house-price data of Harrison, D. and Rubinfeld, D.L. 'Hedonic\n",
            "prices and the demand for clean air', J. Environ. Economics & Management,\n",
            "vol.5, 81-102, 1978.   Used in Belsley, Kuh & Welsch, 'Regression diagnostics\n",
            "...', Wiley, 1980.   N.B. Various transformations are used in the table on\n",
            "pages 244-261 of the latter.\n",
            "\n",
            "The Boston house-price data has been used in many machine learning papers that address regression\n",
            "problems.   \n",
            "     \n",
            ".. topic:: References\n",
            "\n",
            "   - Belsley, Kuh & Welsch, 'Regression diagnostics: Identifying Influential Data and Sources of Collinearity', Wiley, 1980. 244-261.\n",
            "   - Quinlan,R. (1993). Combining Instance-Based and Model-Based Learning. In Proceedings on the Tenth International Conference of Machine Learning, 236-243, University of Massachusetts, Amherst. Morgan Kaufmann.\n",
            "\n"
          ],
          "name": "stdout"
        }
      ]
    },
    {
      "cell_type": "code",
      "metadata": {
        "colab": {
          "base_uri": "https://localhost:8080/",
          "height": 224
        },
        "id": "Tu_whITuA7q5",
        "outputId": "6f9ee917-800a-4544-f432-ff97f710a865"
      },
      "source": [
        "bostonDF = pd.DataFrame(boston['data'], columns=boston['feature_names'])\n",
        "bostonDF['TARGET'] = boston['target']\n",
        "bostonDF.head()"
      ],
      "execution_count": 4,
      "outputs": [
        {
          "output_type": "execute_result",
          "data": {
            "text/html": [
              "<div>\n",
              "<style scoped>\n",
              "    .dataframe tbody tr th:only-of-type {\n",
              "        vertical-align: middle;\n",
              "    }\n",
              "\n",
              "    .dataframe tbody tr th {\n",
              "        vertical-align: top;\n",
              "    }\n",
              "\n",
              "    .dataframe thead th {\n",
              "        text-align: right;\n",
              "    }\n",
              "</style>\n",
              "<table border=\"1\" class=\"dataframe\">\n",
              "  <thead>\n",
              "    <tr style=\"text-align: right;\">\n",
              "      <th></th>\n",
              "      <th>CRIM</th>\n",
              "      <th>ZN</th>\n",
              "      <th>INDUS</th>\n",
              "      <th>CHAS</th>\n",
              "      <th>NOX</th>\n",
              "      <th>RM</th>\n",
              "      <th>AGE</th>\n",
              "      <th>DIS</th>\n",
              "      <th>RAD</th>\n",
              "      <th>TAX</th>\n",
              "      <th>PTRATIO</th>\n",
              "      <th>B</th>\n",
              "      <th>LSTAT</th>\n",
              "      <th>TARGET</th>\n",
              "    </tr>\n",
              "  </thead>\n",
              "  <tbody>\n",
              "    <tr>\n",
              "      <th>0</th>\n",
              "      <td>0.00632</td>\n",
              "      <td>18.0</td>\n",
              "      <td>2.31</td>\n",
              "      <td>0.0</td>\n",
              "      <td>0.538</td>\n",
              "      <td>6.575</td>\n",
              "      <td>65.2</td>\n",
              "      <td>4.0900</td>\n",
              "      <td>1.0</td>\n",
              "      <td>296.0</td>\n",
              "      <td>15.3</td>\n",
              "      <td>396.90</td>\n",
              "      <td>4.98</td>\n",
              "      <td>24.0</td>\n",
              "    </tr>\n",
              "    <tr>\n",
              "      <th>1</th>\n",
              "      <td>0.02731</td>\n",
              "      <td>0.0</td>\n",
              "      <td>7.07</td>\n",
              "      <td>0.0</td>\n",
              "      <td>0.469</td>\n",
              "      <td>6.421</td>\n",
              "      <td>78.9</td>\n",
              "      <td>4.9671</td>\n",
              "      <td>2.0</td>\n",
              "      <td>242.0</td>\n",
              "      <td>17.8</td>\n",
              "      <td>396.90</td>\n",
              "      <td>9.14</td>\n",
              "      <td>21.6</td>\n",
              "    </tr>\n",
              "    <tr>\n",
              "      <th>2</th>\n",
              "      <td>0.02729</td>\n",
              "      <td>0.0</td>\n",
              "      <td>7.07</td>\n",
              "      <td>0.0</td>\n",
              "      <td>0.469</td>\n",
              "      <td>7.185</td>\n",
              "      <td>61.1</td>\n",
              "      <td>4.9671</td>\n",
              "      <td>2.0</td>\n",
              "      <td>242.0</td>\n",
              "      <td>17.8</td>\n",
              "      <td>392.83</td>\n",
              "      <td>4.03</td>\n",
              "      <td>34.7</td>\n",
              "    </tr>\n",
              "    <tr>\n",
              "      <th>3</th>\n",
              "      <td>0.03237</td>\n",
              "      <td>0.0</td>\n",
              "      <td>2.18</td>\n",
              "      <td>0.0</td>\n",
              "      <td>0.458</td>\n",
              "      <td>6.998</td>\n",
              "      <td>45.8</td>\n",
              "      <td>6.0622</td>\n",
              "      <td>3.0</td>\n",
              "      <td>222.0</td>\n",
              "      <td>18.7</td>\n",
              "      <td>394.63</td>\n",
              "      <td>2.94</td>\n",
              "      <td>33.4</td>\n",
              "    </tr>\n",
              "    <tr>\n",
              "      <th>4</th>\n",
              "      <td>0.06905</td>\n",
              "      <td>0.0</td>\n",
              "      <td>2.18</td>\n",
              "      <td>0.0</td>\n",
              "      <td>0.458</td>\n",
              "      <td>7.147</td>\n",
              "      <td>54.2</td>\n",
              "      <td>6.0622</td>\n",
              "      <td>3.0</td>\n",
              "      <td>222.0</td>\n",
              "      <td>18.7</td>\n",
              "      <td>396.90</td>\n",
              "      <td>5.33</td>\n",
              "      <td>36.2</td>\n",
              "    </tr>\n",
              "  </tbody>\n",
              "</table>\n",
              "</div>"
            ],
            "text/plain": [
              "      CRIM    ZN  INDUS  CHAS    NOX  ...    TAX  PTRATIO       B  LSTAT  TARGET\n",
              "0  0.00632  18.0   2.31   0.0  0.538  ...  296.0     15.3  396.90   4.98    24.0\n",
              "1  0.02731   0.0   7.07   0.0  0.469  ...  242.0     17.8  396.90   9.14    21.6\n",
              "2  0.02729   0.0   7.07   0.0  0.469  ...  242.0     17.8  392.83   4.03    34.7\n",
              "3  0.03237   0.0   2.18   0.0  0.458  ...  222.0     18.7  394.63   2.94    33.4\n",
              "4  0.06905   0.0   2.18   0.0  0.458  ...  222.0     18.7  396.90   5.33    36.2\n",
              "\n",
              "[5 rows x 14 columns]"
            ]
          },
          "metadata": {
            "tags": []
          },
          "execution_count": 4
        }
      ]
    },
    {
      "cell_type": "markdown",
      "metadata": {
        "id": "afZoMSxhBKQ0"
      },
      "source": [
        "## Categorical"
      ]
    },
    {
      "cell_type": "code",
      "metadata": {
        "colab": {
          "base_uri": "https://localhost:8080/"
        },
        "id": "3uS1lvZFA_Re",
        "outputId": "933cac85-f727-47d1-9003-b3cc8c17b4ff"
      },
      "source": [
        "def ageBin(age):\n",
        "    if age < 30: return 'NEW'\n",
        "    if age < 60: return 'USED'\n",
        "    if age < 80: return 'OLD'\n",
        "    if age < 95: return 'CREAKY'\n",
        "    return 'FOSSIL'\n",
        "bostonDF['AGE_BIN'] = bostonDF['AGE'].apply(ageBin)\n",
        "bostonDF['AGE_BIN'].hist()"
      ],
      "execution_count": 5,
      "outputs": [
        {
          "output_type": "execute_result",
          "data": {
            "text/plain": [
              "<matplotlib.axes._subplots.AxesSubplot at 0x7f5f9e911828>"
            ]
          },
          "metadata": {
            "tags": []
          },
          "execution_count": 5
        }
      ]
    },
    {
      "cell_type": "markdown",
      "metadata": {
        "id": "uAStQOytBqlK"
      },
      "source": [
        "# Preprocessing"
      ]
    },
    {
      "cell_type": "code",
      "metadata": {
        "id": "KX1wXKaAF28D"
      },
      "source": [
        "bostonDF['AGE_BIN'] = bostonDF['AGE_BIN'].astype('category')\n",
        "bostonDF = bostonDF.drop('AGE', axis=1)"
      ],
      "execution_count": 6,
      "outputs": []
    },
    {
      "cell_type": "markdown",
      "metadata": {
        "id": "TrLlxhV4h8oj"
      },
      "source": [
        "# Model"
      ]
    },
    {
      "cell_type": "code",
      "metadata": {
        "id": "N6WL-0aRiEyK"
      },
      "source": [
        "df = bostonDF.copy()\n",
        "y = df['TARGET']\n",
        "X = df.drop('TARGET', axis=1)\n",
        "X_train, X_test, y_train, y_test = train_test_split(X, y, test_size=0.2, random_state=1337)"
      ],
      "execution_count": 7,
      "outputs": []
    },
    {
      "cell_type": "code",
      "metadata": {
        "id": "9AmIjPoT0orS"
      },
      "source": [
        "tDF = pd.concat([X_train, y_train], axis=1)\n",
        "f = 'TARGET ~ CRIM + ZN + INDUS + CHAS + NOX + RM + DIS + RAD + TAX + PTRATIO + B + LSTAT + AGE_BIN'\n",
        "lm = smf.ols(formula=f, data=tDF).fit()"
      ],
      "execution_count": 8,
      "outputs": []
    },
    {
      "cell_type": "markdown",
      "metadata": {
        "id": "tr9Z7IiLjDVc"
      },
      "source": [
        "# Assumptions & Diagnostics"
      ]
    },
    {
      "cell_type": "markdown",
      "metadata": {
        "id": "b6yZo23JulQX"
      },
      "source": [
        "## L (inear)\n",
        "* Data should be visibly linear - hard to do in high dimensional spaces\n",
        "* You can attempt to fit polynomial independent variables or apply other transformation to capture / fit the non-linerity\n",
        "![](https://study.com/cimages/multimages/16/linear_function_vs_nonlinear_function.png)"
      ]
    },
    {
      "cell_type": "markdown",
      "metadata": {
        "id": "wU3hxcZouvTD"
      },
      "source": [
        "## I (ndependent)\n",
        "* Each data point should be independent. \n",
        "* We want to avoid colinearity\n",
        " * When we have high correlation on two features, there is little information from both in the model\n",
        " * Consider dropping out one of the correlated features\n",
        "* Example violations of this assumption \n",
        " * Include time series (which can introduce autocorrelation)\n",
        " * Height regression that includes height of left leg and height of right leg in model"
      ]
    },
    {
      "cell_type": "markdown",
      "metadata": {
        "id": "e4-6DyAbwI_Y"
      },
      "source": [
        "### Variable Inflation Factor\n",
        "Variance Inflation Factor (VIF) measures the colinearity of predictor variables. VIF is the ratio of the variance of all model's coefficients divided by the variance of a single coefficient if it were fit in isolation.  "
      ]
    },
    {
      "cell_type": "code",
      "metadata": {
        "colab": {
          "base_uri": "https://localhost:8080/",
          "height": 545
        },
        "id": "4fj8xmi6wQBV",
        "outputId": "d827fa6d-1076-46fd-f055-a98a5c584099"
      },
      "source": [
        "variables = lm.model.exog\n",
        "vif = [variance_inflation_factor(variables, i) for i in range(variables.shape[1])]\n",
        "\n",
        "vifDF = pd.DataFrame()\n",
        "vifDF['Coefficient'] = lm.params\n",
        "vifDF['VIF'] = vif\n",
        "vifDF['Flag'] = np.where(vifDF.VIF > 5, True, False)\n",
        "vifDF = vifDF.drop('Intercept', axis=0)\n",
        "vifDF"
      ],
      "execution_count": 9,
      "outputs": [
        {
          "output_type": "execute_result",
          "data": {
            "text/html": [
              "<div>\n",
              "<style scoped>\n",
              "    .dataframe tbody tr th:only-of-type {\n",
              "        vertical-align: middle;\n",
              "    }\n",
              "\n",
              "    .dataframe tbody tr th {\n",
              "        vertical-align: top;\n",
              "    }\n",
              "\n",
              "    .dataframe thead th {\n",
              "        text-align: right;\n",
              "    }\n",
              "</style>\n",
              "<table border=\"1\" class=\"dataframe\">\n",
              "  <thead>\n",
              "    <tr style=\"text-align: right;\">\n",
              "      <th></th>\n",
              "      <th>Coefficient</th>\n",
              "      <th>VIF</th>\n",
              "      <th>Flag</th>\n",
              "    </tr>\n",
              "  </thead>\n",
              "  <tbody>\n",
              "    <tr>\n",
              "      <th>AGE_BIN[T.FOSSIL]</th>\n",
              "      <td>1.247437</td>\n",
              "      <td>1.702363</td>\n",
              "      <td>False</td>\n",
              "    </tr>\n",
              "    <tr>\n",
              "      <th>AGE_BIN[T.NEW]</th>\n",
              "      <td>0.796080</td>\n",
              "      <td>2.496762</td>\n",
              "      <td>False</td>\n",
              "    </tr>\n",
              "    <tr>\n",
              "      <th>AGE_BIN[T.OLD]</th>\n",
              "      <td>-0.785411</td>\n",
              "      <td>1.662618</td>\n",
              "      <td>False</td>\n",
              "    </tr>\n",
              "    <tr>\n",
              "      <th>AGE_BIN[T.USED]</th>\n",
              "      <td>0.353033</td>\n",
              "      <td>2.657472</td>\n",
              "      <td>False</td>\n",
              "    </tr>\n",
              "    <tr>\n",
              "      <th>CRIM</th>\n",
              "      <td>-0.103085</td>\n",
              "      <td>1.827122</td>\n",
              "      <td>False</td>\n",
              "    </tr>\n",
              "    <tr>\n",
              "      <th>ZN</th>\n",
              "      <td>0.022089</td>\n",
              "      <td>2.440392</td>\n",
              "      <td>False</td>\n",
              "    </tr>\n",
              "    <tr>\n",
              "      <th>INDUS</th>\n",
              "      <td>-0.022603</td>\n",
              "      <td>4.387071</td>\n",
              "      <td>False</td>\n",
              "    </tr>\n",
              "    <tr>\n",
              "      <th>CHAS</th>\n",
              "      <td>2.360390</td>\n",
              "      <td>1.085797</td>\n",
              "      <td>False</td>\n",
              "    </tr>\n",
              "    <tr>\n",
              "      <th>NOX</th>\n",
              "      <td>-16.448766</td>\n",
              "      <td>4.419138</td>\n",
              "      <td>False</td>\n",
              "    </tr>\n",
              "    <tr>\n",
              "      <th>RM</th>\n",
              "      <td>4.312501</td>\n",
              "      <td>1.926968</td>\n",
              "      <td>False</td>\n",
              "    </tr>\n",
              "    <tr>\n",
              "      <th>DIS</th>\n",
              "      <td>-1.392738</td>\n",
              "      <td>4.131776</td>\n",
              "      <td>False</td>\n",
              "    </tr>\n",
              "    <tr>\n",
              "      <th>RAD</th>\n",
              "      <td>0.261917</td>\n",
              "      <td>7.493052</td>\n",
              "      <td>True</td>\n",
              "    </tr>\n",
              "    <tr>\n",
              "      <th>TAX</th>\n",
              "      <td>-0.011672</td>\n",
              "      <td>9.369014</td>\n",
              "      <td>True</td>\n",
              "    </tr>\n",
              "    <tr>\n",
              "      <th>PTRATIO</th>\n",
              "      <td>-0.962888</td>\n",
              "      <td>1.861544</td>\n",
              "      <td>False</td>\n",
              "    </tr>\n",
              "    <tr>\n",
              "      <th>B</th>\n",
              "      <td>0.006599</td>\n",
              "      <td>1.380557</td>\n",
              "      <td>False</td>\n",
              "    </tr>\n",
              "    <tr>\n",
              "      <th>LSTAT</th>\n",
              "      <td>-0.505001</td>\n",
              "      <td>2.906060</td>\n",
              "      <td>False</td>\n",
              "    </tr>\n",
              "  </tbody>\n",
              "</table>\n",
              "</div>"
            ],
            "text/plain": [
              "                   Coefficient       VIF   Flag\n",
              "AGE_BIN[T.FOSSIL]     1.247437  1.702363  False\n",
              "AGE_BIN[T.NEW]        0.796080  2.496762  False\n",
              "AGE_BIN[T.OLD]       -0.785411  1.662618  False\n",
              "AGE_BIN[T.USED]       0.353033  2.657472  False\n",
              "CRIM                 -0.103085  1.827122  False\n",
              "ZN                    0.022089  2.440392  False\n",
              "INDUS                -0.022603  4.387071  False\n",
              "CHAS                  2.360390  1.085797  False\n",
              "NOX                 -16.448766  4.419138  False\n",
              "RM                    4.312501  1.926968  False\n",
              "DIS                  -1.392738  4.131776  False\n",
              "RAD                   0.261917  7.493052   True\n",
              "TAX                  -0.011672  9.369014   True\n",
              "PTRATIO              -0.962888  1.861544  False\n",
              "B                     0.006599  1.380557  False\n",
              "LSTAT                -0.505001  2.906060  False"
            ]
          },
          "metadata": {
            "tags": []
          },
          "execution_count": 9
        }
      ]
    },
    {
      "cell_type": "markdown",
      "metadata": {
        "id": "dSFI58FIwI89"
      },
      "source": [
        "### Correlation RAD & TAX\n",
        "* These two features are highly correlated and score high on the VIF.\n",
        " * RAD = index of accessibility to radial highways\n",
        " * TAX = full-value property-tax rate per $10,000"
      ]
    },
    {
      "cell_type": "code",
      "metadata": {
        "colab": {
          "base_uri": "https://localhost:8080/"
        },
        "id": "B5X2X7mSwHqw",
        "outputId": "345981a4-cb3d-44d8-ef7b-85a47613dbbf"
      },
      "source": [
        "print(np.corrcoef(df.TAX, df.RAD))"
      ],
      "execution_count": 10,
      "outputs": [
        {
          "output_type": "stream",
          "text": [
            "[[1.         0.91022819]\n",
            " [0.91022819 1.        ]]\n"
          ],
          "name": "stdout"
        }
      ]
    },
    {
      "cell_type": "markdown",
      "metadata": {
        "id": "teIDAi9cArT0"
      },
      "source": [
        "### Corrections\n",
        "* Consider removing one of the highly correlated values\n",
        "* Cost of collecting or maintaining the feature may be instructive"
      ]
    },
    {
      "cell_type": "markdown",
      "metadata": {
        "id": "zZi19FiQwasy"
      },
      "source": [
        "## N (ormally Distributed Residuals)\n",
        "* Residuals should be cloud shaped with no discernable pattern\n",
        "* Check highly influential points (possible outliers)\n",
        "* Consider transformations to independent and dependent variables"
      ]
    },
    {
      "cell_type": "markdown",
      "metadata": {
        "id": "DGVkbJCazaQT"
      },
      "source": [
        "### Residual Plot"
      ]
    },
    {
      "cell_type": "code",
      "metadata": {
        "colab": {
          "base_uri": "https://localhost:8080/"
        },
        "id": "e1EZysdQzetu",
        "outputId": "ee9dd0aa-cf3f-423e-bb94-14a796d61326"
      },
      "source": [
        "preds = lm.predict(X_train)\n",
        "plt.scatter(preds, -lm.resid)\n",
        "plt.title('Residual Plot (Residuals vs Pred)')\n",
        "plt.ylabel('Residual')"
      ],
      "execution_count": 11,
      "outputs": [
        {
          "output_type": "execute_result",
          "data": {
            "text/plain": [
              "Text(44.125, 0.5, 'Residual')"
            ]
          },
          "metadata": {
            "tags": []
          },
          "execution_count": 11
        }
      ]
    },
    {
      "cell_type": "markdown",
      "metadata": {
        "id": "Vg9byk-pzaNo"
      },
      "source": [
        "### Jarque Bera Test for Normality\n",
        "* Goodness of fit test\n",
        "* Does the sample data have skewness & kurtosis of a normal distribution\n",
        "* The statistic is always positive, and when far from zero, it signals non-normality"
      ]
    },
    {
      "cell_type": "code",
      "metadata": {
        "colab": {
          "base_uri": "https://localhost:8080/",
          "height": 111
        },
        "id": "9VKtZwj4zjhW",
        "outputId": "0590addd-6bfc-4772-c444-fd1c5aa1d921"
      },
      "source": [
        "cols = ['Jarque-Bera', 'Chi^2 two-tail prob.', 'Skew', 'Kurtosis']\n",
        "test = sms.jarque_bera(lm.resid)\n",
        "pd.DataFrame(zip(cols, test)).T"
      ],
      "execution_count": 12,
      "outputs": [
        {
          "output_type": "execute_result",
          "data": {
            "text/html": [
              "<div>\n",
              "<style scoped>\n",
              "    .dataframe tbody tr th:only-of-type {\n",
              "        vertical-align: middle;\n",
              "    }\n",
              "\n",
              "    .dataframe tbody tr th {\n",
              "        vertical-align: top;\n",
              "    }\n",
              "\n",
              "    .dataframe thead th {\n",
              "        text-align: right;\n",
              "    }\n",
              "</style>\n",
              "<table border=\"1\" class=\"dataframe\">\n",
              "  <thead>\n",
              "    <tr style=\"text-align: right;\">\n",
              "      <th></th>\n",
              "      <th>0</th>\n",
              "      <th>1</th>\n",
              "      <th>2</th>\n",
              "      <th>3</th>\n",
              "    </tr>\n",
              "  </thead>\n",
              "  <tbody>\n",
              "    <tr>\n",
              "      <th>0</th>\n",
              "      <td>Jarque-Bera</td>\n",
              "      <td>Chi^2 two-tail prob.</td>\n",
              "      <td>Skew</td>\n",
              "      <td>Kurtosis</td>\n",
              "    </tr>\n",
              "    <tr>\n",
              "      <th>1</th>\n",
              "      <td>632.62</td>\n",
              "      <td>4.24927e-138</td>\n",
              "      <td>1.47013</td>\n",
              "      <td>8.37925</td>\n",
              "    </tr>\n",
              "  </tbody>\n",
              "</table>\n",
              "</div>"
            ],
            "text/plain": [
              "             0                     1        2         3\n",
              "0  Jarque-Bera  Chi^2 two-tail prob.     Skew  Kurtosis\n",
              "1       632.62          4.24927e-138  1.47013   8.37925"
            ]
          },
          "metadata": {
            "tags": []
          },
          "execution_count": 12
        }
      ]
    },
    {
      "cell_type": "markdown",
      "metadata": {
        "id": "WBjs1ALTzaLL"
      },
      "source": [
        "### Leverage & Influence Plot\n",
        "Leverage\n",
        "* The ability to exert influence over the model\n",
        "* Measures of how far an observation on the predictor variable is from from the mean of the predictor. \n",
        "* The higher the leverage value, the more potential it has to impact the fitted model.\n",
        "\n",
        "Influence\n",
        "* Degree to which the data point affects the model. \n",
        "* Measures the effect of a point on the regression model's predictions.\n",
        "* A high influence point usually has leverage.\n",
        "\n",
        "Watch for:\n",
        "* High leverage and large residual - No points\n",
        "* High Leverage and small residual - Point (380)\n",
        "* Low Leverage and large residual - Points (372, 368, 364)"
      ]
    },
    {
      "cell_type": "code",
      "metadata": {
        "id": "elFHlxJ0zrpp"
      },
      "source": [
        "fig, ax = plt.subplots(figsize=(12,8))\n",
        "fig = sm.graphics.influence_plot(lm, ax=ax, criterion=\"cooks\")"
      ],
      "execution_count": 13,
      "outputs": []
    },
    {
      "cell_type": "markdown",
      "metadata": {
        "id": "g-7jIFO2zaIj"
      },
      "source": [
        "### High Leverage Points"
      ]
    },
    {
      "cell_type": "code",
      "metadata": {
        "colab": {
          "base_uri": "https://localhost:8080/",
          "height": 131
        },
        "id": "lSEzBuKEz8IQ",
        "outputId": "519ee568-e811-4241-df82-28a8ca21922d"
      },
      "source": [
        "points = [380, 418]\n",
        "X_train[X_train.index.isin(points)]"
      ],
      "execution_count": 14,
      "outputs": [
        {
          "output_type": "execute_result",
          "data": {
            "text/html": [
              "<div>\n",
              "<style scoped>\n",
              "    .dataframe tbody tr th:only-of-type {\n",
              "        vertical-align: middle;\n",
              "    }\n",
              "\n",
              "    .dataframe tbody tr th {\n",
              "        vertical-align: top;\n",
              "    }\n",
              "\n",
              "    .dataframe thead th {\n",
              "        text-align: right;\n",
              "    }\n",
              "</style>\n",
              "<table border=\"1\" class=\"dataframe\">\n",
              "  <thead>\n",
              "    <tr style=\"text-align: right;\">\n",
              "      <th></th>\n",
              "      <th>CRIM</th>\n",
              "      <th>ZN</th>\n",
              "      <th>INDUS</th>\n",
              "      <th>CHAS</th>\n",
              "      <th>NOX</th>\n",
              "      <th>RM</th>\n",
              "      <th>DIS</th>\n",
              "      <th>RAD</th>\n",
              "      <th>TAX</th>\n",
              "      <th>PTRATIO</th>\n",
              "      <th>B</th>\n",
              "      <th>LSTAT</th>\n",
              "      <th>AGE_BIN</th>\n",
              "    </tr>\n",
              "  </thead>\n",
              "  <tbody>\n",
              "    <tr>\n",
              "      <th>418</th>\n",
              "      <td>73.5341</td>\n",
              "      <td>0.0</td>\n",
              "      <td>18.1</td>\n",
              "      <td>0.0</td>\n",
              "      <td>0.679</td>\n",
              "      <td>5.957</td>\n",
              "      <td>1.8026</td>\n",
              "      <td>24.0</td>\n",
              "      <td>666.0</td>\n",
              "      <td>20.2</td>\n",
              "      <td>16.45</td>\n",
              "      <td>20.62</td>\n",
              "      <td>FOSSIL</td>\n",
              "    </tr>\n",
              "    <tr>\n",
              "      <th>380</th>\n",
              "      <td>88.9762</td>\n",
              "      <td>0.0</td>\n",
              "      <td>18.1</td>\n",
              "      <td>0.0</td>\n",
              "      <td>0.671</td>\n",
              "      <td>6.968</td>\n",
              "      <td>1.4165</td>\n",
              "      <td>24.0</td>\n",
              "      <td>666.0</td>\n",
              "      <td>20.2</td>\n",
              "      <td>396.90</td>\n",
              "      <td>17.21</td>\n",
              "      <td>CREAKY</td>\n",
              "    </tr>\n",
              "  </tbody>\n",
              "</table>\n",
              "</div>"
            ],
            "text/plain": [
              "        CRIM   ZN  INDUS  CHAS    NOX  ...    TAX  PTRATIO       B  LSTAT  AGE_BIN\n",
              "418  73.5341  0.0   18.1   0.0  0.679  ...  666.0     20.2   16.45  20.62   FOSSIL\n",
              "380  88.9762  0.0   18.1   0.0  0.671  ...  666.0     20.2  396.90  17.21   CREAKY\n",
              "\n",
              "[2 rows x 13 columns]"
            ]
          },
          "metadata": {
            "tags": []
          },
          "execution_count": 14
        }
      ]
    },
    {
      "cell_type": "markdown",
      "metadata": {
        "id": "jQNEku9kzaFF"
      },
      "source": [
        "### Large Residual Points"
      ]
    },
    {
      "cell_type": "code",
      "metadata": {
        "colab": {
          "base_uri": "https://localhost:8080/",
          "height": 162
        },
        "id": "wzYjyXVs0BF2",
        "outputId": "272ef944-c46d-4e97-d61d-acccd917f626"
      },
      "source": [
        "points = [364, 372, 368]\n",
        "X_train[X_train.index.isin(points)]"
      ],
      "execution_count": 15,
      "outputs": [
        {
          "output_type": "execute_result",
          "data": {
            "text/html": [
              "<div>\n",
              "<style scoped>\n",
              "    .dataframe tbody tr th:only-of-type {\n",
              "        vertical-align: middle;\n",
              "    }\n",
              "\n",
              "    .dataframe tbody tr th {\n",
              "        vertical-align: top;\n",
              "    }\n",
              "\n",
              "    .dataframe thead th {\n",
              "        text-align: right;\n",
              "    }\n",
              "</style>\n",
              "<table border=\"1\" class=\"dataframe\">\n",
              "  <thead>\n",
              "    <tr style=\"text-align: right;\">\n",
              "      <th></th>\n",
              "      <th>CRIM</th>\n",
              "      <th>ZN</th>\n",
              "      <th>INDUS</th>\n",
              "      <th>CHAS</th>\n",
              "      <th>NOX</th>\n",
              "      <th>RM</th>\n",
              "      <th>DIS</th>\n",
              "      <th>RAD</th>\n",
              "      <th>TAX</th>\n",
              "      <th>PTRATIO</th>\n",
              "      <th>B</th>\n",
              "      <th>LSTAT</th>\n",
              "      <th>AGE_BIN</th>\n",
              "    </tr>\n",
              "  </thead>\n",
              "  <tbody>\n",
              "    <tr>\n",
              "      <th>364</th>\n",
              "      <td>3.47428</td>\n",
              "      <td>0.0</td>\n",
              "      <td>18.1</td>\n",
              "      <td>1.0</td>\n",
              "      <td>0.718</td>\n",
              "      <td>8.780</td>\n",
              "      <td>1.9047</td>\n",
              "      <td>24.0</td>\n",
              "      <td>666.0</td>\n",
              "      <td>20.2</td>\n",
              "      <td>354.55</td>\n",
              "      <td>5.29</td>\n",
              "      <td>CREAKY</td>\n",
              "    </tr>\n",
              "    <tr>\n",
              "      <th>368</th>\n",
              "      <td>4.89822</td>\n",
              "      <td>0.0</td>\n",
              "      <td>18.1</td>\n",
              "      <td>0.0</td>\n",
              "      <td>0.631</td>\n",
              "      <td>4.970</td>\n",
              "      <td>1.3325</td>\n",
              "      <td>24.0</td>\n",
              "      <td>666.0</td>\n",
              "      <td>20.2</td>\n",
              "      <td>375.52</td>\n",
              "      <td>3.26</td>\n",
              "      <td>FOSSIL</td>\n",
              "    </tr>\n",
              "    <tr>\n",
              "      <th>372</th>\n",
              "      <td>8.26725</td>\n",
              "      <td>0.0</td>\n",
              "      <td>18.1</td>\n",
              "      <td>1.0</td>\n",
              "      <td>0.668</td>\n",
              "      <td>5.875</td>\n",
              "      <td>1.1296</td>\n",
              "      <td>24.0</td>\n",
              "      <td>666.0</td>\n",
              "      <td>20.2</td>\n",
              "      <td>347.88</td>\n",
              "      <td>8.88</td>\n",
              "      <td>CREAKY</td>\n",
              "    </tr>\n",
              "  </tbody>\n",
              "</table>\n",
              "</div>"
            ],
            "text/plain": [
              "        CRIM   ZN  INDUS  CHAS    NOX  ...    TAX  PTRATIO       B  LSTAT  AGE_BIN\n",
              "364  3.47428  0.0   18.1   1.0  0.718  ...  666.0     20.2  354.55   5.29   CREAKY\n",
              "368  4.89822  0.0   18.1   0.0  0.631  ...  666.0     20.2  375.52   3.26   FOSSIL\n",
              "372  8.26725  0.0   18.1   1.0  0.668  ...  666.0     20.2  347.88   8.88   CREAKY\n",
              "\n",
              "[3 rows x 13 columns]"
            ]
          },
          "metadata": {
            "tags": []
          },
          "execution_count": 15
        }
      ]
    },
    {
      "cell_type": "code",
      "metadata": {
        "id": "lTvWOTDZ0BAt"
      },
      "source": [
        "pred = lm.predict(X_train)\n",
        "plt.title('Large Residual Points (Predicted vs Actual)')\n",
        "plt.scatter(y_train, pred)\n",
        "plt.ylabel('Actual')\n",
        "for pt in points:\n",
        "    plt.scatter(pred.loc[pt], y_train.loc[pt], color='red')"
      ],
      "execution_count": 16,
      "outputs": []
    },
    {
      "cell_type": "code",
      "metadata": {
        "id": "XrH4yeTu0A4A"
      },
      "source": [
        "preds = lm.predict(X_train)\n",
        "plt.scatter(preds, -lm.resid)\n",
        "plt.ylabel('Residual')\n",
        "plt.title('Predicted vs Residual')\n",
        "for pt in points:\n",
        "    plt.scatter(pred.loc[pt], -lm.resid[pt], color='red')"
      ],
      "execution_count": 17,
      "outputs": []
    },
    {
      "cell_type": "markdown",
      "metadata": {
        "id": "F8qaMOgCzZ43"
      },
      "source": [
        "## E (rror Constant)\n",
        "* Homoskedasticity vs Heteroskedasticity\n",
        " * Example - As income goes up our predicted error increases\n",
        " * Example - As we play more minutes of basketball our predicted scoring error increases\n",
        "* Typically spot with visual plot of residual vs predicted value (look for cone shape)\n",
        "* If find heteroskedasticity we typically:\n",
        " * Adjust the model - add / drop featurews\n",
        " * Box Cox (log / sqrt / power) transforms on features and the target\n",
        "\n",
        "![](https://www.albert.io/blog/wp-content/uploads/2016/11/heteroscedastic-relationships.png)"
      ]
    },
    {
      "cell_type": "markdown",
      "metadata": {
        "id": "kySS7K3p0R9v"
      },
      "source": [
        "### Visual Inspection\n",
        "* There is some structure to the residual plot. \n",
        "* Indicative of heteroksedaticity"
      ]
    },
    {
      "cell_type": "code",
      "metadata": {
        "id": "hsqpXi3BzWJT"
      },
      "source": [
        "preds = lm.predict(X_train)\n",
        "plt.scatter(preds, -lm.resid)\n",
        "plt.ylabel('Residual')\n",
        "plt.title('Predicted vs Residual')\n",
        "plt.show()"
      ],
      "execution_count": 18,
      "outputs": []
    },
    {
      "cell_type": "markdown",
      "metadata": {
        "id": "g3d1TP8V0X8H"
      },
      "source": [
        "### Breusch Pagan Test\n",
        "Produces a p-value that when less that a significance level of 0.05, therefore we can reject the null hypothesis that the variance of the residuals is constant and infer that heteroscedasticity is present."
      ]
    },
    {
      "cell_type": "code",
      "metadata": {
        "colab": {
          "base_uri": "https://localhost:8080/",
          "height": 111
        },
        "id": "L5Q1Ugj70WKH",
        "outputId": "6f917185-e69a-4971-e67b-5fe2f2540c23"
      },
      "source": [
        "cols = ['Lagrange multiplier statistic', 'p-value', 'f-value', 'f p-value']\n",
        "test = sms.het_breuschpagan(lm.resid, lm.model.exog)\n",
        "pd.DataFrame(zip(cols, test)).T"
      ],
      "execution_count": 19,
      "outputs": [
        {
          "output_type": "execute_result",
          "data": {
            "text/html": [
              "<div>\n",
              "<style scoped>\n",
              "    .dataframe tbody tr th:only-of-type {\n",
              "        vertical-align: middle;\n",
              "    }\n",
              "\n",
              "    .dataframe tbody tr th {\n",
              "        vertical-align: top;\n",
              "    }\n",
              "\n",
              "    .dataframe thead th {\n",
              "        text-align: right;\n",
              "    }\n",
              "</style>\n",
              "<table border=\"1\" class=\"dataframe\">\n",
              "  <thead>\n",
              "    <tr style=\"text-align: right;\">\n",
              "      <th></th>\n",
              "      <th>0</th>\n",
              "      <th>1</th>\n",
              "      <th>2</th>\n",
              "      <th>3</th>\n",
              "    </tr>\n",
              "  </thead>\n",
              "  <tbody>\n",
              "    <tr>\n",
              "      <th>0</th>\n",
              "      <td>Lagrange multiplier statistic</td>\n",
              "      <td>p-value</td>\n",
              "      <td>f-value</td>\n",
              "      <td>f p-value</td>\n",
              "    </tr>\n",
              "    <tr>\n",
              "      <th>1</th>\n",
              "      <td>61.9112</td>\n",
              "      <td>2.4857e-07</td>\n",
              "      <td>4.37745</td>\n",
              "      <td>5.99602e-08</td>\n",
              "    </tr>\n",
              "  </tbody>\n",
              "</table>\n",
              "</div>"
            ],
            "text/plain": [
              "                               0           1        2            3\n",
              "0  Lagrange multiplier statistic     p-value  f-value    f p-value\n",
              "1                        61.9112  2.4857e-07  4.37745  5.99602e-08"
            ]
          },
          "metadata": {
            "tags": []
          },
          "execution_count": 19
        }
      ]
    },
    {
      "cell_type": "markdown",
      "metadata": {
        "id": "FFMGlQ4U9n15"
      },
      "source": [
        "### Heteroscedasticity\n",
        "* Heteroscedasticity doesn't cause bias in coefficients, but it makes them less precise\n",
        "* Less precise estimates of coefficients are more likely to be farther from a correct population value\n",
        "* Heteroscedasticity can produce p-values that are smaller than they should be.  OLS can't detect this, and in more pronounced / extreme cases could lead you to conclude a coefficient is significant when it's not.\n",
        "* Ways to fix / minimize:\n",
        "  * Redefine Variables - Cross-sectional data changes (i.e. Population vs Per-Capita)\n",
        "  * Weighted Regression - Weight per observation, assign lower weights to higher values (inverse -- 1 / value -- is typical)\n",
        "  * Transformations - Convert your dependent variable (log or BoxCox)"
      ]
    },
    {
      "cell_type": "code",
      "metadata": {
        "id": "E-RlKE2t9uri"
      },
      "source": [
        ""
      ],
      "execution_count": 19,
      "outputs": []
    }
  ]
}